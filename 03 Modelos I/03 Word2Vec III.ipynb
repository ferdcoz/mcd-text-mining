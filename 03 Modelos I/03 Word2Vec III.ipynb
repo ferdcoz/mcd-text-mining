{
 "cells": [
  {
   "cell_type": "markdown",
   "metadata": {},
   "source": [
    "<a id = \"1.0\"></a>\n",
    "<p style=\"font-size:30px;color:#16268a;font-family:'Avantgarde';text-align:center;border-radius:5px;\">\n",
    "<strong><i>Word2Vec III</i></strong></p> "
   ]
  },
  {
   "cell_type": "markdown",
   "metadata": {},
   "source": [
    "<a id = \"1.0\"></a>\n",
    "<p style=\"font-size:17px;color:#16268a;font-family:'Avantgarde';text-align:left;border-radius:5px;\">\n",
    "    El concepto es que cosas e ideas similares son <b><i>cercanas</i></b>. Sus significados relativos se han traducido a distancias medibles. Las cualidades se convierten en cantidades, y los algoritmos pueden hacer su trabajo.<br>\n",
    "Pero la similitud es solo la base de muchas asociaciones que Word2vec puede aprender.<br>\n",
    "Por ejemplo, puede medir las relaciones entre palabras de un idioma y asignarlas a otro. <br><br>\n",
    "Fuente: <b><i>A Beginner's Guide to Word2Vec and Neural Word Embeddings</i></b></p>"
   ]
  },
  {
   "cell_type": "markdown",
   "metadata": {},
   "source": [
    "![view](./img/word2vec_translation.png)"
   ]
  },
  {
   "cell_type": "markdown",
   "metadata": {},
   "source": [
    "<a id = \"1.0\"></a>\n",
    "<p style=\"font-size:17px;color:#16268a;font-family:'Avantgarde';text-align:left;border-radius:5px;\">\n",
    "<b><i>Word2vec</i></b> es similar a un <b><i>autoencoder</i></b>, codifica cada palabra en un vector, pero en lugar de entrenar contra las palabras de entrada a través de la reconstrucción, como lo hace una máquina de Boltzmann restringida, <b><i>Word2vec</i></b> entrena palabras contra otras palabras que las rodean en el corpus de entrada.<br>\n",
    "Lo hace de una de dos maneras, ya sea usando el contexto para predecir una palabra objetivo (un método conocido como bolsa continua de palabras, o CBOW), o usando una palabra para predecir un contexto objetivo, que se llama skip-gram. Utilizamos el último método porque produce resultados más precisos en grandes conjuntos de datos.\n",
    "<br><br>\n",
    "Fuente: <b><i>A Beginner's Guide to Word2Vec and Neural Word Embeddings</i></b></p>"
   ]
  },
  {
   "cell_type": "markdown",
   "metadata": {},
   "source": [
    "<a id = \"1.0\"></a>\n",
    "<p style=\"font-size:25px;color:#16268a;font-family:'Avantgarde';text-align:center;border-radius:5px;\">\n",
    "<strong>______________________________</strong></p> "
   ]
  },
  {
   "cell_type": "markdown",
   "metadata": {},
   "source": [
    "<a id = \"1.0\"></a>\n",
    "<p style=\"font-size:17px;color:#16268a;font-family:'Avantgarde';text-align:left;border-radius:5px;\">\n",
    "Un <b><i>autoencoder</i></b> es un tipo de red neuronal artificial que se utiliza para aprender codificaciones de datos eficientes de manera no supervisada. El objetivo de un autoencoder es aprender una representación para un conjunto de datos, típicamente para la reducción de dimensionalidad, entrenando a la red para ignorar el \"ruido\" de la señal\n",
    "<br><br>\n",
    "Fuente: <b><i>Wikipedia</i></b></p>"
   ]
  },
  {
   "cell_type": "markdown",
   "metadata": {},
   "source": [
    "![view](./img/word2vec_diagrams.png) "
   ]
  },
  {
   "cell_type": "markdown",
   "metadata": {},
   "source": [
    "<a id = \"1.0\"></a>\n",
    "<p style=\"font-size:25px;color:#16268a;font-family:'Avantgarde';text-align:center;border-radius:5px;\">\n",
    "<strong>______________________________</strong></p> "
   ]
  },
  {
   "cell_type": "markdown",
   "metadata": {},
   "source": [
    "***Fuente:*** Machinelearningmastery, curduria para este curso"
   ]
  },
  {
   "cell_type": "code",
   "execution_count": 1,
   "metadata": {},
   "outputs": [],
   "source": [
    "from gensim.models import Word2Vec"
   ]
  },
  {
   "cell_type": "code",
   "execution_count": 2,
   "metadata": {},
   "outputs": [],
   "source": [
    "sentences = [['this', 'is', 'the', 'first', 'sentence', 'for', 'word2vec'],\n",
    "             ['this', 'is', 'the', 'second', 'sentence'],\n",
    "             ['yet', 'another', 'sentence'],\n",
    "             ['one', 'more', 'sentence'],\n",
    "             ['and', 'the', 'final', 'sentence']]"
   ]
  },
  {
   "cell_type": "code",
   "execution_count": 3,
   "metadata": {},
   "outputs": [],
   "source": [
    "model = Word2Vec(sentences, min_count=1)"
   ]
  },
  {
   "cell_type": "markdown",
   "metadata": {},
   "source": [
    "***Parametros:***<br>\n",
    "**size**: (default 100) The number of dimensions of the embedding, e.g. the length of the dense vector to represent each token (word).<br>\n",
    "**window**: (default 5) The maximum distance between a target word and words around the target word.<br>\n",
    "**min_count**: (default 5) The minimum count of words to consider when training the model; words with an occurrence less than this count will be ignored.<br>\n",
    "**workers**: (default 3) The number of threads to use while training.<br>\n",
    "**sg**: (default 0 or CBOW) The training algorithm, either CBOW (0) or skip gram (1)."
   ]
  },
  {
   "cell_type": "code",
   "execution_count": 4,
   "metadata": {},
   "outputs": [
    {
     "name": "stdout",
     "output_type": "stream",
     "text": [
      "Word2Vec(vocab=14, size=100, alpha=0.025)\n",
      "Word2Vec(vocab=14, size=100, alpha=0.025)\n"
     ]
    }
   ],
   "source": [
    "print(model)"
   ]
  },
  {
   "cell_type": "markdown",
   "metadata": {},
   "source": [
    "#### Vocabulario"
   ]
  },
  {
   "cell_type": "code",
   "execution_count": 5,
   "metadata": {},
   "outputs": [],
   "source": [
    "words = list(model.wv.vocab)"
   ]
  },
  {
   "cell_type": "code",
   "execution_count": 6,
   "metadata": {},
   "outputs": [
    {
     "name": "stdout",
     "output_type": "stream",
     "text": [
      "['this', 'is', 'the', 'first', 'sentence', 'for', 'word2vec', 'second', 'yet', 'another', 'one', 'more', 'and', 'final']\n",
      "['this', 'is', 'the', 'first', 'sentence', 'for', 'word2vec', 'second', 'yet', 'another', 'one', 'more', 'and', 'final']\n"
     ]
    }
   ],
   "source": [
    "print(words)"
   ]
  },
  {
   "cell_type": "markdown",
   "metadata": {},
   "source": [
    "#### Vector de distancias de la palabra ‘sentence‘."
   ]
  },
  {
   "cell_type": "code",
   "execution_count": 7,
   "metadata": {},
   "outputs": [
    {
     "name": "stdout",
     "output_type": "stream",
     "text": [
      "[ 2.1476934e-03  1.6554991e-03 -7.2448129e-05  3.4188470e-03\n",
      "  4.1176542e-03  2.6283349e-04  1.7358037e-04  4.4536418e-03\n",
      " -3.7572950e-03  7.0669228e-04  1.8023237e-03  1.4894920e-03\n",
      "  2.6077901e-03  4.0107141e-03  4.5068669e-03  6.8844864e-05\n",
      "  4.9034990e-03 -9.7348820e-04  9.6671167e-04  4.6975035e-04\n",
      "  3.8884054e-03 -4.8385495e-03 -3.2562457e-03 -1.3606765e-03\n",
      " -4.8218747e-03  2.6755671e-03 -7.0982159e-04  2.8597405e-03\n",
      "  2.2097796e-03 -1.3778168e-03  1.7554928e-03  2.7839700e-03\n",
      "  3.6527477e-03 -2.6906244e-03 -3.1930052e-03 -3.9088763e-03\n",
      "  1.0913784e-03  2.2830667e-03  4.6375347e-04  2.1366721e-03\n",
      "  3.2081320e-03  5.0066842e-04 -1.5927517e-03 -2.6880044e-03\n",
      "  1.9250276e-03  6.3957786e-04 -3.7401898e-03  2.6656315e-04\n",
      " -1.5901278e-03 -4.7620456e-03 -3.0378269e-03 -4.4781142e-03\n",
      " -1.9580638e-03 -3.6612221e-03  2.6478863e-04 -2.6279010e-03\n",
      " -2.9743293e-03  2.5072257e-04  2.3162402e-03 -3.7482749e-03\n",
      " -2.9217456e-03  1.8477238e-03 -4.9821250e-03 -4.4418806e-03\n",
      "  3.1658835e-03 -4.9320008e-03 -4.6407692e-03  1.7707529e-03\n",
      "  1.7730060e-03 -2.5101618e-03  2.9712601e-03 -3.9814105e-03\n",
      " -7.5278891e-04 -4.6310481e-03 -4.0119858e-03 -2.7875737e-03\n",
      " -1.6182358e-03 -2.0889544e-03 -7.0073106e-04  2.6279455e-03\n",
      "  4.0721847e-03  4.9347812e-03 -2.5294344e-03  1.2481221e-03\n",
      " -5.5652217e-04 -3.4669715e-03 -8.7101688e-04 -4.7148275e-03\n",
      " -4.7184257e-03 -2.4031587e-04  4.2271148e-03 -4.6272036e-03\n",
      " -8.8417256e-04  4.5593157e-03 -1.5671787e-04 -2.3887500e-04\n",
      " -4.0477496e-03  4.8891506e-03 -3.8935391e-03  2.5858241e-04]\n"
     ]
    },
    {
     "name": "stderr",
     "output_type": "stream",
     "text": [
      "h:\\tmp\\ipykernel_6788\\8113468.py:1: DeprecationWarning: Call to deprecated `__getitem__` (Method will be removed in 4.0.0, use self.wv.__getitem__() instead).\n",
      "  print(model['sentence'])\n"
     ]
    },
    {
     "name": "stdout",
     "output_type": "stream",
     "text": [
      "[ 2.1476934e-03  1.6554991e-03 -7.2448129e-05  3.4188470e-03\n",
      "  4.1176542e-03  2.6283349e-04  1.7358037e-04  4.4536418e-03\n",
      " -3.7572950e-03  7.0669228e-04  1.8023237e-03  1.4894920e-03\n",
      "  2.6077901e-03  4.0107141e-03  4.5068669e-03  6.8844864e-05\n",
      "  4.9034990e-03 -9.7348820e-04  9.6671167e-04  4.6975035e-04\n",
      "  3.8884054e-03 -4.8385495e-03 -3.2562457e-03 -1.3606765e-03\n",
      " -4.8218747e-03  2.6755671e-03 -7.0982159e-04  2.8597405e-03\n",
      "  2.2097796e-03 -1.3778168e-03  1.7554928e-03  2.7839700e-03\n",
      "  3.6527477e-03 -2.6906244e-03 -3.1930052e-03 -3.9088763e-03\n",
      "  1.0913784e-03  2.2830667e-03  4.6375347e-04  2.1366721e-03\n",
      "  3.2081320e-03  5.0066842e-04 -1.5927517e-03 -2.6880044e-03\n",
      "  1.9250276e-03  6.3957786e-04 -3.7401898e-03  2.6656315e-04\n",
      " -1.5901278e-03 -4.7620456e-03 -3.0378269e-03 -4.4781142e-03\n",
      " -1.9580638e-03 -3.6612221e-03  2.6478863e-04 -2.6279010e-03\n",
      " -2.9743293e-03  2.5072257e-04  2.3162402e-03 -3.7482749e-03\n",
      " -2.9217456e-03  1.8477238e-03 -4.9821250e-03 -4.4418806e-03\n",
      "  3.1658835e-03 -4.9320008e-03 -4.6407692e-03  1.7707529e-03\n",
      "  1.7730060e-03 -2.5101618e-03  2.9712601e-03 -3.9814105e-03\n",
      " -7.5278891e-04 -4.6310481e-03 -4.0119858e-03 -2.7875737e-03\n",
      " -1.6182358e-03 -2.0889544e-03 -7.0073106e-04  2.6279455e-03\n",
      "  4.0721847e-03  4.9347812e-03 -2.5294344e-03  1.2481221e-03\n",
      " -5.5652217e-04 -3.4669715e-03 -8.7101688e-04 -4.7148275e-03\n",
      " -4.7184257e-03 -2.4031587e-04  4.2271148e-03 -4.6272036e-03\n",
      " -8.8417256e-04  4.5593157e-03 -1.5671787e-04 -2.3887500e-04\n",
      " -4.0477496e-03  4.8891506e-03 -3.8935391e-03  2.5858241e-04]\n"
     ]
    },
    {
     "name": "stderr",
     "output_type": "stream",
     "text": [
      "h:\\tmp\\ipykernel_6788\\8113468.py:1: DeprecationWarning: Call to deprecated `__getitem__` (Method will be removed in 4.0.0, use self.wv.__getitem__() instead).\n",
      "  print(model['sentence'])\n"
     ]
    }
   ],
   "source": [
    "print(model['sentence'])"
   ]
  },
  {
   "cell_type": "markdown",
   "metadata": {},
   "source": [
    "#### Salvar el modelo"
   ]
  },
  {
   "cell_type": "code",
   "execution_count": 8,
   "metadata": {},
   "outputs": [],
   "source": [
    "model.save('model.bin')"
   ]
  },
  {
   "cell_type": "code",
   "execution_count": 9,
   "metadata": {},
   "outputs": [],
   "source": [
    "new_model = Word2Vec.load('model.bin')"
   ]
  },
  {
   "cell_type": "code",
   "execution_count": 10,
   "metadata": {},
   "outputs": [
    {
     "name": "stdout",
     "output_type": "stream",
     "text": [
      "Word2Vec(vocab=14, size=100, alpha=0.025)\n",
      "Word2Vec(vocab=14, size=100, alpha=0.025)\n"
     ]
    }
   ],
   "source": [
    "print(new_model)"
   ]
  },
  {
   "cell_type": "markdown",
   "metadata": {},
   "source": [
    "____________________________________"
   ]
  },
  {
   "cell_type": "markdown",
   "metadata": {},
   "source": [
    "### Graficar Modelo"
   ]
  },
  {
   "cell_type": "code",
   "execution_count": 11,
   "metadata": {},
   "outputs": [],
   "source": [
    "from sklearn.decomposition import PCA\n",
    "from matplotlib import pyplot"
   ]
  },
  {
   "cell_type": "code",
   "execution_count": 12,
   "metadata": {},
   "outputs": [],
   "source": [
    "sentences = [['this', 'is', 'the', 'first', 'sentence', 'for', 'word2vec'],\n",
    "             ['this', 'is', 'the', 'second', 'sentence'],\n",
    "             ['yet', 'another', 'sentence'],\n",
    "             ['one', 'more', 'sentence'],\n",
    "             ['and', 'the', 'final', 'sentence']]"
   ]
  },
  {
   "cell_type": "code",
   "execution_count": 13,
   "metadata": {},
   "outputs": [],
   "source": [
    "model = Word2Vec(sentences, min_count=1)"
   ]
  },
  {
   "cell_type": "code",
   "execution_count": 14,
   "metadata": {},
   "outputs": [
    {
     "name": "stderr",
     "output_type": "stream",
     "text": [
      "h:\\tmp\\ipykernel_6788\\3218572990.py:1: DeprecationWarning: Call to deprecated `__getitem__` (Method will be removed in 4.0.0, use self.wv.__getitem__() instead).\n",
      "  X = model[model.wv.vocab]\n",
      "h:\\tmp\\ipykernel_6788\\3218572990.py:1: DeprecationWarning: Call to deprecated `__getitem__` (Method will be removed in 4.0.0, use self.wv.__getitem__() instead).\n",
      "  X = model[model.wv.vocab]\n"
     ]
    }
   ],
   "source": [
    "X = model[model.wv.vocab]"
   ]
  },
  {
   "cell_type": "markdown",
   "metadata": {},
   "source": [
    "#### Reduccion de dimensiones mediante PCA model (Principal Component Analysis)"
   ]
  },
  {
   "cell_type": "code",
   "execution_count": 15,
   "metadata": {},
   "outputs": [],
   "source": [
    "pca = PCA(n_components=2)"
   ]
  },
  {
   "cell_type": "code",
   "execution_count": 16,
   "metadata": {},
   "outputs": [],
   "source": [
    "result = pca.fit_transform(X)"
   ]
  },
  {
   "cell_type": "code",
   "execution_count": 17,
   "metadata": {},
   "outputs": [
    {
     "data": {
      "image/png": "[encoded data removed]",
      "text/plain": [
       "<Figure size 432x288 with 1 Axes>"
      ]
     },
     "metadata": {
      "needs_background": "light"
     },
     "output_type": "display_data"
    },
    {
     "data": {
      "image/png": "[encoded data removed]",
      "text/plain": [
       "<Figure size 432x288 with 1 Axes>"
      ]
     },
     "metadata": {
      "needs_background": "light"
     },
     "output_type": "display_data"
    }
   ],
   "source": [
    "pyplot.scatter(result[:, 0], result[:, 1])\n",
    "for i, word in enumerate(words):\n",
    "    pyplot.annotate(word, xy=(result[i, 0], result[i, 1]))\n",
    "pyplot.show()"
   ]
  },
  {
   "cell_type": "markdown",
   "metadata": {},
   "source": [
    "____________________________________"
   ]
  },
  {
   "cell_type": "markdown",
   "metadata": {},
   "source": [
    "### Google pre-trained word2vec model"
   ]
  },
  {
   "cell_type": "markdown",
   "metadata": {},
   "source": [
    "***nota:*** este modelo pude tardar mucho tiempo en ejecutarse"
   ]
  },
  {
   "cell_type": "markdown",
   "metadata": {},
   "source": [
    "#### File: https://github.com/mmihaltz/word2vec-GoogleNews-vectors"
   ]
  },
  {
   "cell_type": "code",
   "execution_count": 18,
   "metadata": {},
   "outputs": [],
   "source": [
    "from gensim.models import KeyedVectors"
   ]
  },
  {
   "cell_type": "code",
   "execution_count": 22,
   "metadata": {},
   "outputs": [],
   "source": [
    "filename = './data/GoogleNews-vectors-negative300.bin'"
   ]
  },
  {
   "cell_type": "code",
   "execution_count": 23,
   "metadata": {},
   "outputs": [],
   "source": [
    "model = KeyedVectors.load_word2vec_format(filename, binary=True)"
   ]
  },
  {
   "cell_type": "markdown",
   "metadata": {},
   "source": [
    "#### Calcular la distancia: (king - man) + woman = ?"
   ]
  },
  {
   "cell_type": "code",
   "execution_count": 25,
   "metadata": {},
   "outputs": [
    {
     "name": "stdout",
     "output_type": "stream",
     "text": [
      "[('queen', 0.7118192911148071)]\n"
     ]
    }
   ],
   "source": [
    "result = model.most_similar(positive=['woman', 'king'], negative=['man'], topn=1)\n",
    "print(result)"
   ]
  },
  {
   "cell_type": "markdown",
   "metadata": {},
   "source": [
    "<a id = \"1.0\"></a>\n",
    "<p style=\"font-size:25px;color:#16268a;font-family:'Avantgarde';text-align:center;border-radius:5px;\">\n",
    "<strong>______________________________</strong></p> "
   ]
  },
  {
   "cell_type": "markdown",
   "metadata": {},
   "source": [
    "#### Stanford word2vec model"
   ]
  },
  {
   "cell_type": "code",
   "execution_count": 18,
   "metadata": {},
   "outputs": [],
   "source": [
    "from gensim.scripts.glove2word2vec import glove2word2vec"
   ]
  },
  {
   "cell_type": "markdown",
   "metadata": {},
   "source": [
    "#### File: http://nlp.stanford.edu/data/glove.6B.zip"
   ]
  },
  {
   "cell_type": "markdown",
   "metadata": {},
   "source": [
    "glove.6B.50d<br>\n",
    "glove.6B.100d<br>\n",
    "glove.6B.200d<br>\n",
    "glove.6B.300d<br>\n",
    "4 different models (50, 100, 200 and 300-dimensional vectors) trained on Wikipedia data with 6 billion tokens and a 400,000 word vocabulary"
   ]
  },
  {
   "cell_type": "markdown",
   "metadata": {},
   "source": [
    "***Ejemplo de contenido***: 'the' 0.418 0.24968 -0.41242 0.1217 0.34527 -0.044457 -0.49688"
   ]
  },
  {
   "cell_type": "code",
   "execution_count": 19,
   "metadata": {},
   "outputs": [],
   "source": [
    "glove_input_file = './data/glove.6B.100d.txt'"
   ]
  },
  {
   "cell_type": "code",
   "execution_count": 20,
   "metadata": {},
   "outputs": [],
   "source": [
    "word2vec_output_file = './data/glove.6B.100d.word2vec.txt'"
   ]
  },
  {
   "cell_type": "markdown",
   "metadata": {},
   "source": [
    "<a id = \"1.0\"></a>\n",
    "<p style=\"font-size:17px;color:#16268a;font-family:'Avantgarde';text-align:left;border-radius:5px;\">\n",
    "Este script permite convertir vectores GloVe en word2vec. Ambos archivos se presentan en formato de texto y son casi idénticos, excepto que word2vec incluye el número de vectores y su dimensión, que es la única diferencia con respecto a GloVe.\n",
    "</p>\n"
   ]
  },
  {
   "cell_type": "code",
   "execution_count": 21,
   "metadata": {},
   "outputs": [
    {
     "data": {
      "text/plain": [
       "(400000, 100)"
      ]
     },
     "execution_count": 21,
     "metadata": {},
     "output_type": "execute_result"
    },
    {
     "data": {
      "text/plain": [
       "(400000, 100)"
      ]
     },
     "execution_count": 21,
     "metadata": {},
     "output_type": "execute_result"
    }
   ],
   "source": [
    "glove2word2vec(glove_input_file, word2vec_output_file)"
   ]
  },
  {
   "cell_type": "code",
   "execution_count": 22,
   "metadata": {},
   "outputs": [],
   "source": [
    "from gensim.models import KeyedVectors"
   ]
  },
  {
   "cell_type": "code",
   "execution_count": 23,
   "metadata": {},
   "outputs": [],
   "source": [
    "filename = './data/glove.6B.100d.word2vec.txt'"
   ]
  },
  {
   "cell_type": "code",
   "execution_count": 24,
   "metadata": {},
   "outputs": [],
   "source": [
    "model = KeyedVectors.load_word2vec_format(filename, binary=False)"
   ]
  },
  {
   "cell_type": "markdown",
   "metadata": {},
   "source": [
    "<a id = \"1.0\"></a>\n",
    "<p style=\"font-size:20px;color:#16268a;font-family:'Avantgarde';text-align:left;border-radius:5px;\">\n",
    "Calcular la distancia:</p> "
   ]
  },
  {
   "cell_type": "code",
   "execution_count": 25,
   "metadata": {},
   "outputs": [],
   "source": [
    "result = model.most_similar(positive=['woman', 'king'], negative=['man'], topn=1)"
   ]
  },
  {
   "cell_type": "code",
   "execution_count": 26,
   "metadata": {},
   "outputs": [
    {
     "name": "stdout",
     "output_type": "stream",
     "text": [
      "[('queen', 0.7698541283607483)]\n",
      "[('queen', 0.7698541283607483)]\n"
     ]
    }
   ],
   "source": [
    "print(result)"
   ]
  },
  {
   "cell_type": "markdown",
   "metadata": {},
   "source": [
    "<a id = \"1.0\"></a>\n",
    "<p style=\"font-size:25px;color:#16268a;font-family:'Avantgarde';text-align:center;border-radius:5px;\">\n",
    "<strong>______________________________</strong></p> "
   ]
  }
 ],
 "metadata": {
  "kernelspec": {
   "display_name": "MlLab",
   "language": "python",
   "name": "mllab"
  },
  "language_info": {
   "codemirror_mode": {
    "name": "ipython",
    "version": 3
   },
   "file_extension": ".py",
   "mimetype": "text/x-python",
   "name": "python",
   "nbconvert_exporter": "python",
   "pygments_lexer": "ipython3",
   "version": "3.9.12"
  }
 },
 "nbformat": 4,
 "nbformat_minor": 4
}
