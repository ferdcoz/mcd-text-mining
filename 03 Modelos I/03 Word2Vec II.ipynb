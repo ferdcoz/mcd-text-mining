{
 "cells": [
  {
   "cell_type": "markdown",
   "metadata": {},
   "source": [
    "<a id = \"1.0\"></a>\n",
    "<p style=\"font-size:30px;color:#16268a;font-family:'Avantgarde';text-align:center;border-radius:5px;\">\n",
    "<strong><i>Word2Vec II</i></strong></p> "
   ]
  },
  {
   "cell_type": "markdown",
   "metadata": {},
   "source": [
    "<a id = \"1.0\"></a>\n",
    "<p style=\"font-size:18px;color:#16268a;font-family:'Avantgarde';text-align:left;border-radius:5px;\">\n",
    "<strong>Word2vec</strong> es una <strong>red neuronal de dos capas</strong>.<BR>\n",
    "<strong>Word2vec no es una red neuronal profunda</strong>, pero convierte el texto a una forma que las redes neuronales profundas pueden entender.<BR><BR>\n",
    "<strong>Word2vec</strong> crea vectores que son representaciones numéricas de características de la palabras, como ser el <strong>contexto de la palabra</strong>.<BR>\n",
    "<strong>Word2vec</strong> es similar a un <strong>autoencoder</strong>, codifica cada palabra en un vector, entrena las palabras junto a otras palabras que las rodean.<BR><BR>\n",
    "<strong>Word2vec</strong> toma como entrada un gran corpus de texto y produce un espacio vectorial, típicamente de varios cientos de dimensiones, a cada palabra única en el corpus se le asigna un vector correspondiente en el espacio.<BR><BR>\n",
    "<strong>Word2vec</strong> entrena representaciones de palabras basadas en una bolsa continua de palabras (<strong>CBOW</strong>), de modo que las palabras sean agrupadas en un area espacio junto apalabras similares basadas en el contexto.<BR><BR>    \n",
    "<strong>Word2vec</strong> requiere considerables cantidades de texto.    \n",
    "</p>    \n",
    "<a id = \"1.0\"></a>\n",
    "<p style=\"font-size:15px;color:#16268a;font-family:'Avantgarde';text-align:right;border-radius:5px;\">\n",
    "<strong>Fuente: <a href=\"https://pathmind.com/wiki/word2vec\" target=\\\"_blank\\\">Word2vec</a></strong></p>  "
   ]
  },
  {
   "cell_type": "code",
   "execution_count": 1,
   "metadata": {},
   "outputs": [],
   "source": [
    "import pprint\n",
    "import warnings\n",
    "warnings.simplefilter(action='ignore')"
   ]
  },
  {
   "cell_type": "code",
   "execution_count": 2,
   "metadata": {},
   "outputs": [],
   "source": [
    "from gensim.models.keyedvectors import KeyedVectors"
   ]
  },
  {
   "cell_type": "markdown",
   "metadata": {},
   "source": [
    "<a id = \"1.0\"></a>\n",
    "<p style=\"font-size:20px;color:#16268a;font-family:'Avantgarde';text-align:left;border-radius:5px;\">\n",
    "<strong>\n",
    "<u>Carga de Pre Entrenamiento</u>:</strong></p> "
   ]
  },
  {
   "cell_type": "markdown",
   "metadata": {},
   "source": [
    "<a id = \"1.0\"></a>\n",
    "<p style=\"font-size:18px;color:#16268a;font-family:'Avantgarde';text-align:left;border-radius:5px;\">\n",
    "<strong>\n",
    "Vector pre-entrenado \"Spanish bin\"</strong>: https://fasttext.cc/docs/en/crawl-vectors.html</p> "
   ]
  },
  {
   "cell_type": "code",
   "execution_count": 3,
   "metadata": {},
   "outputs": [],
   "source": [
    "wordvectors_file_vec = './data/cc.es.300.vec'"
   ]
  },
  {
   "cell_type": "code",
   "execution_count": 4,
   "metadata": {},
   "outputs": [],
   "source": [
    "cantidad = 100000"
   ]
  },
  {
   "cell_type": "code",
   "execution_count": 5,
   "metadata": {},
   "outputs": [],
   "source": [
    "wordvectors = KeyedVectors.load_word2vec_format(wordvectors_file_vec, limit=cantidad)"
   ]
  },
  {
   "cell_type": "markdown",
   "metadata": {},
   "source": [
    "<a id = \"1.0\"></a>\n",
    "<p style=\"font-size:25px;color:#16268a;font-family:'Avantgarde';text-align:center;border-radius:5px;\">\n",
    "<strong>______________________________</strong></p> "
   ]
  },
  {
   "cell_type": "markdown",
   "metadata": {},
   "source": [
    "<a id = \"1.0\"></a>\n",
    "<p style=\"font-size:25px;color:#16268a;font-family:'Avantgarde';text-align:center;border-radius:5px;\">\n",
    "<strong><i>Ejemplo de uso</i></strong></p> "
   ]
  },
  {
   "cell_type": "markdown",
   "metadata": {},
   "source": [
    "<a id = \"1.0\"></a>\n",
    "<p style=\"font-size:20px;color:#16268a;font-family:'Avantgarde';text-align:left;border-radius:5px;\">\n",
    "Buscar <strong>similitud</strong> entre palabras:</p> "
   ]
  },
  {
   "cell_type": "code",
   "execution_count": 6,
   "metadata": {},
   "outputs": [],
   "source": [
    "toPrint = wordvectors.most_similar_cosmul(positive=['rey','mujer'],negative=['hombre'])"
   ]
  },
  {
   "cell_type": "code",
   "execution_count": 7,
   "metadata": {},
   "outputs": [
    {
     "name": "stdout",
     "output_type": "stream",
     "text": [
      "[    ('reina', 0.9343196153640747),\n",
      "     ('princesa', 0.9075939059257507),\n",
      "     ('emperatriz', 0.8466106653213501),\n",
      "     ('Reina', 0.836991548538208),\n",
      "     ('infanta', 0.8333330750465393),\n",
      "     ('consorte', 0.8199441432952881),\n",
      "     ('monarca', 0.814216136932373),\n",
      "     ('hija', 0.8140678405761719),\n",
      "     ('Princesa', 0.8140106797218323),\n",
      "     ('reyes', 0.8101386427879333)]\n"
     ]
    }
   ],
   "source": [
    "pprint.pprint(toPrint, indent=5)"
   ]
  },
  {
   "cell_type": "markdown",
   "metadata": {},
   "source": [
    "<a id = \"1.0\"></a>\n",
    "<p style=\"font-size:25px;color:#16268a;font-family:'Avantgarde';text-align:center;border-radius:5px;\">\n",
    "<strong>______________________________</strong></p> "
   ]
  },
  {
   "cell_type": "code",
   "execution_count": 8,
   "metadata": {},
   "outputs": [],
   "source": [
    "most_similar_key, similarity = (wordvectors.most_similar_cosmul(positive=['rey','mujer'], negative=['hombre']))[0] "
   ]
  },
  {
   "cell_type": "code",
   "execution_count": 9,
   "metadata": {},
   "outputs": [
    {
     "name": "stdout",
     "output_type": "stream",
     "text": [
      "'La palabra más similar es \"reina\", similar en un 0.93'\n"
     ]
    }
   ],
   "source": [
    "pprint.pprint(f\"La palabra más similar es \\\"{most_similar_key}\\\", similar en un {similarity:.2f}\")"
   ]
  },
  {
   "cell_type": "markdown",
   "metadata": {},
   "source": [
    "<a id = \"1.0\"></a>\n",
    "<p style=\"font-size:25px;color:#16268a;font-family:'Avantgarde';text-align:center;border-radius:5px;\">\n",
    "<strong>______________________________</strong></p> "
   ]
  },
  {
   "cell_type": "code",
   "execution_count": 10,
   "metadata": {},
   "outputs": [],
   "source": [
    "toPrint = wordvectors.similar_by_word(\"Maradona\")"
   ]
  },
  {
   "cell_type": "code",
   "execution_count": 11,
   "metadata": {},
   "outputs": [
    {
     "name": "stdout",
     "output_type": "stream",
     "text": [
      "[    ('Messi', 0.7089900970458984),\n",
      "     ('Tevez', 0.6527225971221924),\n",
      "     ('Bilardo', 0.6429333686828613),\n",
      "     ('albiceleste', 0.6175318956375122),\n",
      "     ('Pelé', 0.6057298183441162),\n",
      "     ('Tévez', 0.6026872396469116),\n",
      "     ('Grondona', 0.6007746458053589),\n",
      "     ('Forlán', 0.5849332809448242),\n",
      "     ('Valdano', 0.5845303535461426),\n",
      "     ('Higuaín', 0.5809450149536133)]\n"
     ]
    }
   ],
   "source": [
    "pprint.pprint(toPrint, indent=5)"
   ]
  },
  {
   "cell_type": "markdown",
   "metadata": {},
   "source": [
    "<a id = \"1.0\"></a>\n",
    "<p style=\"font-size:25px;color:#16268a;font-family:'Avantgarde';text-align:center;border-radius:5px;\">\n",
    "<strong>______________________________</strong></p> "
   ]
  },
  {
   "cell_type": "code",
   "execution_count": 12,
   "metadata": {},
   "outputs": [],
   "source": [
    "toPrint = wordvectors.similar_by_vector(\"Maradona\")"
   ]
  },
  {
   "cell_type": "code",
   "execution_count": 13,
   "metadata": {},
   "outputs": [
    {
     "name": "stdout",
     "output_type": "stream",
     "text": [
      "[    ('Messi', 0.7089900970458984),\n",
      "     ('Tevez', 0.6527225971221924),\n",
      "     ('Bilardo', 0.6429333686828613),\n",
      "     ('albiceleste', 0.6175318956375122),\n",
      "     ('Pelé', 0.6057298183441162),\n",
      "     ('Tévez', 0.6026872396469116),\n",
      "     ('Grondona', 0.6007746458053589),\n",
      "     ('Forlán', 0.5849332809448242),\n",
      "     ('Valdano', 0.5845303535461426),\n",
      "     ('Higuaín', 0.5809450149536133)]\n"
     ]
    }
   ],
   "source": [
    "pprint.pprint(toPrint, indent=5)"
   ]
  },
  {
   "cell_type": "markdown",
   "metadata": {},
   "source": [
    "<a id = \"1.0\"></a>\n",
    "<p style=\"font-size:25px;color:#16268a;font-family:'Avantgarde';text-align:center;border-radius:5px;\">\n",
    "<strong>______________________________</strong></p> "
   ]
  },
  {
   "cell_type": "code",
   "execution_count": 14,
   "metadata": {},
   "outputs": [],
   "source": [
    "toPrint = wordvectors.similarity('Maradona', 'Messi')"
   ]
  },
  {
   "cell_type": "code",
   "execution_count": 15,
   "metadata": {},
   "outputs": [
    {
     "name": "stdout",
     "output_type": "stream",
     "text": [
      "\"La similitud entre las palabras 'reina y 'princesa' es 0.71\"\n"
     ]
    }
   ],
   "source": [
    "pprint.pprint(f\"La similitud entre las palabras 'reina y 'princesa' es {toPrint:.2f}\")"
   ]
  },
  {
   "cell_type": "markdown",
   "metadata": {},
   "source": [
    "<a id = \"1.0\"></a>\n",
    "<p style=\"font-size:25px;color:#16268a;font-family:'Avantgarde';text-align:center;border-radius:5px;\">\n",
    "<strong>______________________________</strong></p> "
   ]
  },
  {
   "cell_type": "code",
   "execution_count": 16,
   "metadata": {},
   "outputs": [],
   "source": [
    "toPrint = wordvectors.words_closer_than('Maradona', 'Diego')"
   ]
  },
  {
   "cell_type": "code",
   "execution_count": 17,
   "metadata": {},
   "outputs": [
    {
     "name": "stdout",
     "output_type": "stream",
     "text": [
      "['Argentina',\n",
      " 'fútbol',\n",
      " 'argentino',\n",
      " 'futbolista',\n",
      " 'River',\n",
      " 'argentinos',\n",
      " 'Boca',\n",
      " 'Sudáfrica',\n",
      " 'FIFA',\n",
      " 'Macri',\n",
      " 'Messi',\n",
      " 'Kirchner',\n",
      " 'Barça',\n",
      " 'futbolistas',\n",
      " 'Ronaldo',\n",
      " 'Madonna',\n",
      " 'Eurocopa',\n",
      " 'ídolo',\n",
      " 'Juventus',\n",
      " 'Shakira',\n",
      " 'Guardiola',\n",
      " 'Casillas',\n",
      " 'Mourinho',\n",
      " 'AFA',\n",
      " 'Neymar',\n",
      " 'Charly',\n",
      " 'Agüero',\n",
      " 'Menem',\n",
      " 'Iniesta',\n",
      " 'Piqué',\n",
      " 'Riquelme',\n",
      " 'Mandela',\n",
      " 'Spinetta',\n",
      " 'Zidane',\n",
      " 'Pellegrini',\n",
      " 'Martino',\n",
      " 'Bianchi',\n",
      " 'Videla',\n",
      " 'Beckham',\n",
      " 'futbolístico',\n",
      " 'Tinelli',\n",
      " 'Alfonsín',\n",
      " 'pibe',\n",
      " 'Olé',\n",
      " 'Bergoglio',\n",
      " 'madridista',\n",
      " 'Berlusconi',\n",
      " 'Bielsa',\n",
      " 'Simeone',\n",
      " 'Carlitos',\n",
      " 'Ezeiza',\n",
      " 'Falcao',\n",
      " 'Ancelotti',\n",
      " 'Pelé',\n",
      " 'mundialista',\n",
      " 'Sampaoli',\n",
      " 'Rooney',\n",
      " 'Higuaín',\n",
      " 'Calamaro',\n",
      " 'Gago',\n",
      " 'Ronaldinho',\n",
      " 'Rial',\n",
      " 'Lanata',\n",
      " 'mirá',\n",
      " 'Verón',\n",
      " 'Mancini',\n",
      " 'Caruso',\n",
      " 'Bombonera',\n",
      " 'Puyol',\n",
      " 'Almeyda',\n",
      " 'Grondona',\n",
      " 'Cruyff',\n",
      " 'rosarino',\n",
      " 'Mascherano',\n",
      " 'pelotudo',\n",
      " 'Blatter',\n",
      " 'Mou',\n",
      " 'Kaká',\n",
      " 'Stéfano',\n",
      " 'Forlán',\n",
      " 'albiceleste',\n",
      " 'Tevez',\n",
      " 'Robben',\n",
      " 'Ibrahimovic',\n",
      " 'Guti',\n",
      " 'Basile',\n",
      " 'Maracaná',\n",
      " 'Juve',\n",
      " 'Capello',\n",
      " 'Bauza',\n",
      " 'CR7',\n",
      " 'Gareca',\n",
      " 'Tévez',\n",
      " 'Villafañe',\n",
      " 'Cavani',\n",
      " 'Pizzi',\n",
      " 'Milito',\n",
      " 'Ginóbili',\n",
      " 'Volpe',\n",
      " 'Platini',\n",
      " 'Sabella',\n",
      " 'futbolero',\n",
      " 'Barsa',\n",
      " 'Kempes',\n",
      " 'idolo',\n",
      " 'Pulga',\n",
      " 'Bonafini',\n",
      " 'Zanetti',\n",
      " 'Sofovich',\n",
      " 'xeneize',\n",
      " 'Piojo',\n",
      " 'Radamel',\n",
      " 'messi',\n",
      " 'Pocho',\n",
      " 'Dalma',\n",
      " 'Valdano',\n",
      " 'Borghi',\n",
      " 'Drogba',\n",
      " 'Menotti',\n",
      " 'Figo',\n",
      " 'Passarella',\n",
      " 'Robinho',\n",
      " 'Xeneize',\n",
      " 'Pirlo',\n",
      " 'Balotelli',\n",
      " 'Bossio',\n",
      " 'Totti',\n",
      " 'Fontanarrosa',\n",
      " 'Garré',\n",
      " 'Falcioni',\n",
      " 'futbolera',\n",
      " 'Bilardo',\n",
      " 'Pibe',\n",
      " 'Lavezzi',\n",
      " 'Icardi',\n",
      " 'Schelotto']\n"
     ]
    }
   ],
   "source": [
    "pprint.pprint(toPrint)"
   ]
  },
  {
   "cell_type": "markdown",
   "metadata": {},
   "source": [
    "<a id = \"1.0\"></a>\n",
    "<p style=\"font-size:25px;color:#16268a;font-family:'Avantgarde';text-align:center;border-radius:5px;\">\n",
    "<strong>______________________________</strong></p> "
   ]
  },
  {
   "cell_type": "markdown",
   "metadata": {},
   "source": [
    "<a id = \"1.0\"></a>\n",
    "<p style=\"font-size:20px;color:#16268a;font-family:'Avantgarde';text-align:left;border-radius:5px;\">\n",
    "Detectar la palabra que <strong>no coincide</strong> de una lista:</p> "
   ]
  },
  {
   "cell_type": "code",
   "execution_count": 18,
   "metadata": {},
   "outputs": [],
   "source": [
    "match = ['Maradona', 'Messi', 'Tevez', 'Pelé','Madonna']"
   ]
  },
  {
   "cell_type": "code",
   "execution_count": 19,
   "metadata": {},
   "outputs": [],
   "source": [
    "toPrint = wordvectors.doesnt_match(match)"
   ]
  },
  {
   "cell_type": "code",
   "execution_count": 20,
   "metadata": {},
   "outputs": [
    {
     "name": "stdout",
     "output_type": "stream",
     "text": [
      "'La palabra que no esta relacionada en la lista es \"Madonna\"'\n"
     ]
    }
   ],
   "source": [
    "pprint.pprint(f\"La palabra que no esta relacionada en la lista es \\\"{toPrint}\\\"\")"
   ]
  },
  {
   "cell_type": "markdown",
   "metadata": {},
   "source": [
    "<a id = \"1.0\"></a>\n",
    "<p style=\"font-size:20px;color:#16268a;font-family:'Avantgarde';text-align:left;border-radius:5px;\">\n",
    "<strong>Diferencias entre documentos</strong> - Word Mover’s Distance:</p> "
   ]
  },
  {
   "cell_type": "markdown",
   "metadata": {},
   "source": [
    "<a id = \"1.0\"></a>\n",
    "<p style=\"font-size:18px;color:#16268a;font-family:'Avantgarde';text-align:left;border-radius:5px;\">\n",
    "La distancia entre dos documentos A y B es la <strong>distancia mínima</strong> que las palabras del documento A tienen para coincidir exactamente con el documento B.\n",
    "</p> "
   ]
  },
  {
   "cell_type": "markdown",
   "metadata": {},
   "source": [
    "<a id = \"1.0\"></a>\n",
    "<p style=\"font-size:18px;color:#16268a;font-family:'Avantgarde';text-align:left;border-radius:5px;\">\n",
    "<strong>\n",
    "Word Mover’s Distance for Text Similarity</strong>:<BR> https://medium.com/@nihitextra/word-movers-distance-for-text-similarity-7492aeca71b0</p> "
   ]
  },
  {
   "cell_type": "code",
   "execution_count": 21,
   "metadata": {},
   "outputs": [],
   "source": [
    "sentencia_I = \"El rey esta en su castillo\"\n",
    "sentencia_II = \"La reina pasea por los jardines de su palacio\""
   ]
  },
  {
   "cell_type": "code",
   "execution_count": 22,
   "metadata": {},
   "outputs": [],
   "source": [
    "toPrint = wordvectors.wmdistance(sentencia_I, sentencia_II)"
   ]
  },
  {
   "cell_type": "code",
   "execution_count": 23,
   "metadata": {},
   "outputs": [
    {
     "name": "stdout",
     "output_type": "stream",
     "text": [
      "'La distancia entre ambas sentencias es 1.30'\n"
     ]
    }
   ],
   "source": [
    "pprint.pprint(f\"La distancia entre ambas sentencias es {toPrint:.2f}\")"
   ]
  },
  {
   "cell_type": "markdown",
   "metadata": {},
   "source": [
    "<a id = \"1.0\"></a>\n",
    "<p style=\"font-size:25px;color:#16268a;font-family:'Avantgarde';text-align:center;border-radius:5px;\">\n",
    "<strong>______________________________</strong></p> "
   ]
  }
 ],
 "metadata": {
  "kernelspec": {
   "display_name": "MlLab",
   "language": "python",
   "name": "mllab"
  },
  "language_info": {
   "codemirror_mode": {
    "name": "ipython",
    "version": 3
   },
   "file_extension": ".py",
   "mimetype": "text/x-python",
   "name": "python",
   "nbconvert_exporter": "python",
   "pygments_lexer": "ipython3",
   "version": "3.9.12"
  }
 },
 "nbformat": 4,
 "nbformat_minor": 4
}
