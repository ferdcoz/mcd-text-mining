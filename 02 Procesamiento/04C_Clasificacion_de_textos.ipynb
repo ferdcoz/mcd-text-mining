{
 "cells": [
  {
   "cell_type": "markdown",
   "metadata": {
    "id": "R4uz7tw2yQZG"
   },
   "source": [
    "## [Machine Learning, NLP: Text Classification using scikit-learn, python and NLTK](https://towardsdatascience.com/machine-learning-nlp-text-classification-using-scikit-learn-python-and-nltk-c52b92a7c73a)"
   ]
  },
  {
   "cell_type": "markdown",
   "metadata": {
    "id": "f-d3gKLwyQZU"
   },
   "source": [
    "Ejemplo de **Medium.com**, adaptado para la mejor comprensión de la clasificación de textos"
   ]
  },
  {
   "cell_type": "code",
   "execution_count": 3,
   "metadata": {
    "id": "3NQJ1hOZyQZW"
   },
   "outputs": [],
   "source": [
    "from sklearn.datasets import fetch_20newsgroups"
   ]
  },
  {
   "cell_type": "markdown",
   "metadata": {
    "id": "RLbrvLWCyQZW"
   },
   "source": [
    "El conjunto de datos de 20 grupos de noticias es una colección de aproximadamente 20,000 documentos de grupos de noticias, divididos (casi) de manera uniforme en 20 grupos de noticias diferentes"
   ]
  },
  {
   "cell_type": "markdown",
   "metadata": {
    "id": "6cC41BWUyQZX"
   },
   "source": [
    "_______________________"
   ]
  },
  {
   "cell_type": "code",
   "execution_count": 2,
   "metadata": {
    "id": "cy_Hl1SoyQZX"
   },
   "outputs": [],
   "source": [
    "from sklearn.feature_extraction.text import CountVectorizer"
   ]
  },
  {
   "cell_type": "code",
   "execution_count": 3,
   "metadata": {
    "id": "_revJPvHyQZX"
   },
   "outputs": [],
   "source": [
    "from sklearn.feature_extraction.text import TfidfTransformer"
   ]
  },
  {
   "cell_type": "code",
   "execution_count": 4,
   "metadata": {
    "id": "JOku1sdtyQZY"
   },
   "outputs": [],
   "source": [
    "from sklearn.model_selection import GridSearchCV"
   ]
  },
  {
   "cell_type": "code",
   "execution_count": 5,
   "metadata": {
    "id": "kIzGtgt3yQZY"
   },
   "outputs": [],
   "source": [
    "from sklearn.pipeline import Pipeline"
   ]
  },
  {
   "cell_type": "code",
   "execution_count": 6,
   "metadata": {
    "id": "PrheCZ7kyQZZ"
   },
   "outputs": [],
   "source": [
    "from sklearn.naive_bayes import MultinomialNB"
   ]
  },
  {
   "cell_type": "code",
   "execution_count": 7,
   "metadata": {
    "id": "tQ8wIdPOyQZZ"
   },
   "outputs": [],
   "source": [
    "from sklearn.linear_model import SGDClassifier"
   ]
  },
  {
   "cell_type": "code",
   "execution_count": 8,
   "metadata": {
    "id": "gPxOEFzmyQZZ"
   },
   "outputs": [],
   "source": [
    "from nltk.stem.snowball import SnowballStemmer"
   ]
  },
  {
   "cell_type": "code",
   "execution_count": 9,
   "metadata": {
    "id": "npltIhA5yQZZ"
   },
   "outputs": [],
   "source": [
    "import numpy as np"
   ]
  },
  {
   "cell_type": "markdown",
   "metadata": {
    "id": "E94z4XnByQZa"
   },
   "source": [
    "__________________________________________________"
   ]
  },
  {
   "cell_type": "markdown",
   "metadata": {
    "id": "bNJkmfUIyQZa"
   },
   "source": [
    "Cargando los datos de entrenamiento"
   ]
  },
  {
   "cell_type": "code",
   "execution_count": 4,
   "metadata": {
    "id": "wPC4YA6myQZa"
   },
   "outputs": [],
   "source": [
    "twenty_train = fetch_20newsgroups(subset='train', shuffle=True)"
   ]
  },
  {
   "cell_type": "code",
   "execution_count": null,
   "metadata": {},
   "outputs": [],
   "source": [
    "twenty_test.data"
   ]
  },
  {
   "cell_type": "markdown",
   "metadata": {
    "id": "kHhxf08cyQZb"
   },
   "source": [
    "Listado de **Target Names**, es decir las **categorias** en las que estan dividido el twenty_train"
   ]
  },
  {
   "cell_type": "code",
   "execution_count": 11,
   "metadata": {
    "id": "IQ5sND6EyQZb",
    "outputId": "9d830fab-b418-4eb9-daff-736e79ffba18",
    "scrolled": true
   },
   "outputs": [
    {
     "data": {
      "text/plain": [
       "['alt.atheism',\n",
       " 'comp.graphics',\n",
       " 'comp.os.ms-windows.misc',\n",
       " 'comp.sys.ibm.pc.hardware',\n",
       " 'comp.sys.mac.hardware',\n",
       " 'comp.windows.x',\n",
       " 'misc.forsale',\n",
       " 'rec.autos',\n",
       " 'rec.motorcycles',\n",
       " 'rec.sport.baseball',\n",
       " 'rec.sport.hockey',\n",
       " 'sci.crypt',\n",
       " 'sci.electronics',\n",
       " 'sci.med',\n",
       " 'sci.space',\n",
       " 'soc.religion.christian',\n",
       " 'talk.politics.guns',\n",
       " 'talk.politics.mideast',\n",
       " 'talk.politics.misc',\n",
       " 'talk.religion.misc']"
      ]
     },
     "execution_count": 11,
     "metadata": {},
     "output_type": "execute_result"
    }
   ],
   "source": [
    "twenty_train.target_names"
   ]
  },
  {
   "cell_type": "code",
   "execution_count": 12,
   "metadata": {
    "id": "DzUHZ2eayQZe",
    "outputId": "a299465e-5d4e-47a4-c45a-96ae0ac59040"
   },
   "outputs": [
    {
     "name": "stdout",
     "output_type": "stream",
     "text": [
      "From: lerxst@wam.umd.edu (where's my thing)\n",
      "Subject: WHAT car is this!?\n",
      "Nntp-Posting-Host: rac3.wam.umd.edu\n"
     ]
    }
   ],
   "source": [
    "print(\"\\n\".join(twenty_train.data[0].split(\"\\n\")[:3])) "
   ]
  },
  {
   "cell_type": "markdown",
   "metadata": {
    "id": "UAu0-YVcyQZf"
   },
   "source": [
    "------------------------------------"
   ]
  },
  {
   "cell_type": "markdown",
   "metadata": {
    "id": "xVvRi04pyQZg"
   },
   "source": [
    "Los archivos de texto son en realidad series de palabras, para ejecutar algoritmos de aprendizaje automático, se necesita convertir los archivos de texto en vectores de características numéricas.<br><br>\n",
    "Para esto se utilizara el modelo de **Bag of Words:**<br>\n",
    "El texto (como una oración o un documento) se representa como la bolsa de sus palabras, sin tener en cuenta la gramática e incluso ni el orden de las palabras, pero manteniendo la cantidad<br>\n",
    "El modelo de **Bag of Words** se usa comúnmente en los métodos de clasificación de documentos donde la (frecuencia de) aparición de cada palabra se usa como una característica para entrenar a un clasificador (Wikipedia)<br><br>\n",
    "\n",
    "Cada palabra única en el diccionario corresponderá a una característica (descriptive feature)"
   ]
  },
  {
   "cell_type": "markdown",
   "metadata": {
    "id": "tIOn2cumyQZj"
   },
   "source": [
    "-----------------------------"
   ]
  },
  {
   "cell_type": "markdown",
   "metadata": {
    "id": "rYqu-vhsyQZj"
   },
   "source": [
    "### [sklearn.feature_extraction.text.CountVectorizer](https://scikit-learn.org/stable/modules/generated/sklearn.feature_extraction.text.CountVectorizer.html)"
   ]
  },
  {
   "cell_type": "markdown",
   "metadata": {
    "id": "ietDqSYgyQZj"
   },
   "source": [
    "Convierte una colección de documentos en una matriz de tokens sumarizados"
   ]
  },
  {
   "cell_type": "code",
   "execution_count": 13,
   "metadata": {
    "id": "qACCFgbGyQZj"
   },
   "outputs": [],
   "source": [
    "count_vect = CountVectorizer()"
   ]
  },
  {
   "cell_type": "code",
   "execution_count": 14,
   "metadata": {
    "id": "_5Z5tVBbyQZk"
   },
   "outputs": [],
   "source": [
    "X_train_counts = count_vect.fit_transform(twenty_train.data) "
   ]
  },
  {
   "cell_type": "markdown",
   "metadata": {
    "id": "tWNaQ-X_yQZm"
   },
   "source": [
    "Aprende el vocabulario y devuelve la matriz de términos<br>\n",
    "Esto es equivalente al fit, pero implementado de manera más eficiente"
   ]
  },
  {
   "cell_type": "code",
   "execution_count": 15,
   "metadata": {
    "id": "oplzCRriyQZm",
    "outputId": "7d41775c-931f-4dcf-fe31-5ec010ccb33a"
   },
   "outputs": [
    {
     "data": {
      "text/plain": [
       "(11314, 130107)"
      ]
     },
     "execution_count": 15,
     "metadata": {},
     "output_type": "execute_result"
    }
   ],
   "source": [
    "X_train_counts.shape"
   ]
  },
  {
   "cell_type": "code",
   "execution_count": 60,
   "metadata": {},
   "outputs": [
    {
     "data": {
      "text/plain": [
       "['recipes',\n",
       " 'recipie',\n",
       " 'recipient',\n",
       " 'recipients',\n",
       " 'recipies',\n",
       " 'reciprocal',\n",
       " 'reciprocate',\n",
       " 'reciprocity',\n",
       " 'recirculated',\n",
       " 'recision',\n",
       " 'recital',\n",
       " 'recite',\n",
       " 'recites',\n",
       " 'reciting',\n",
       " 'recived',\n",
       " 'reck',\n",
       " 'reckless',\n",
       " 'recklessly',\n",
       " 'reckon',\n",
       " 'reckoned',\n",
       " 'reckoning',\n",
       " 'reclaim',\n",
       " 'reclaimed',\n",
       " 'reclamation',\n",
       " 'recliner',\n",
       " 'recntly',\n",
       " 'recoend',\n",
       " 'recoginizes',\n",
       " 'recognigtion',\n",
       " 'recognisable',\n",
       " 'recognise',\n",
       " 'recognised',\n",
       " 'recognises',\n",
       " 'recognising',\n",
       " 'recognition',\n",
       " 'recognitions_',\n",
       " 'recognizability',\n",
       " 'recognizable',\n",
       " 'recognizance',\n",
       " 'recognize',\n",
       " 'recognizeable',\n",
       " 'recognized',\n",
       " 'recognizes',\n",
       " 'recognizing',\n",
       " 'recoil',\n",
       " 'recoiled',\n",
       " 'recollected',\n",
       " 'recollection',\n",
       " 'recollections',\n",
       " 'recom',\n",
       " 'recombinant',\n",
       " 'recomend',\n",
       " 'recomendation',\n",
       " 'recomendations',\n",
       " 'recomended',\n",
       " 'recomending',\n",
       " 'recomends',\n",
       " 'recommandation',\n",
       " 'recommend',\n",
       " 'recommendation',\n",
       " 'recommendations',\n",
       " 'recommended',\n",
       " 'recommending',\n",
       " 'recommends',\n",
       " 'recommened',\n",
       " 'recompile',\n",
       " 'recompiled',\n",
       " 'recompiling',\n",
       " 'recompress',\n",
       " 'recompressing',\n",
       " 'recon',\n",
       " 'reconcile',\n",
       " 'reconciled',\n",
       " 'reconciliation',\n",
       " 'reconciliations',\n",
       " 'reconcilication',\n",
       " 'reconciling',\n",
       " 'recondense',\n",
       " 'recondensing',\n",
       " 'recondition',\n",
       " 'reconditioned',\n",
       " 'reconditioning',\n",
       " 'reconfig',\n",
       " 'reconfigure',\n",
       " 'reconfigured',\n",
       " 'reconfiguring',\n",
       " 'reconfirmed',\n",
       " 'reconnaissance',\n",
       " 'reconnect',\n",
       " 'reconnected',\n",
       " 'reconsider',\n",
       " 'reconsidered',\n",
       " 'reconstituted',\n",
       " 'reconstitution',\n",
       " 'reconstruct',\n",
       " 'reconstructed',\n",
       " 'reconstruction',\n",
       " 'reconstructions',\n",
       " 'recopies',\n",
       " 'recopy']"
      ]
     },
     "execution_count": 60,
     "metadata": {},
     "output_type": "execute_result"
    }
   ],
   "source": [
    "count_vect.get_feature_names()[100000:100100]"
   ]
  },
  {
   "cell_type": "markdown",
   "metadata": {
    "id": "x8z12QDvyQZp"
   },
   "source": [
    "indice con terminos"
   ]
  },
  {
   "cell_type": "code",
   "execution_count": 16,
   "metadata": {
    "id": "PqggIHvOyQZp",
    "outputId": "d05559f6-6c1f-423e-e592-cfcb2257e9c8"
   },
   "outputs": [
    {
     "data": {
      "text/plain": [
       "48411"
      ]
     },
     "execution_count": 16,
     "metadata": {},
     "output_type": "execute_result"
    }
   ],
   "source": [
    "count_vect.vocabulary_.get('document')"
   ]
  },
  {
   "cell_type": "markdown",
   "metadata": {
    "id": "DtS4CifCyQZq"
   },
   "source": [
    "##### [Text feature extraction](https://scikit-learn.org/stable/modules/feature_extraction.html#text-feature-extraction)"
   ]
  },
  {
   "cell_type": "markdown",
   "metadata": {
    "id": "c4Z4hRfayQZr"
   },
   "source": [
    "______________________________"
   ]
  },
  {
   "cell_type": "markdown",
   "metadata": {
    "id": "mJUOA0H1yQZr"
   },
   "source": [
    "### [sklearn.feature_extraction.text.TfidfTransformer](https://scikit-learn.org/stable/modules/generated/sklearn.feature_extraction.text.TfidfTransformer.html?highlight=tfidftransformer#sklearn.feature_extraction.text.TfidfTransformer)"
   ]
  },
  {
   "cell_type": "markdown",
   "metadata": {
    "id": "eFXAGieNyQZr"
   },
   "source": [
    "Solo contar el número de palabras en cada documento tiene un problema:<br>\n",
    "Dará más peso a documentos más largos que documentos más cortos.<br>\n",
    "Para evitar esto, se utiliza TF (**Term Frequencies**)<br>\n",
    "Luego se reduce el peso de las palabras más comunes como ser el, y, un etc. <br>\n",
    "**TF-IDF** Term Frequency times inverse document frequency"
   ]
  },
  {
   "cell_type": "markdown",
   "metadata": {
    "id": "1tmYRDMvyQZr"
   },
   "source": [
    "Recibe una matris y la normaliza en la forma tf-idf"
   ]
  },
  {
   "cell_type": "code",
   "execution_count": 17,
   "metadata": {
    "id": "YuQO_VoWyQZs"
   },
   "outputs": [],
   "source": [
    "tfidf_transformer = TfidfTransformer()"
   ]
  },
  {
   "cell_type": "code",
   "execution_count": 18,
   "metadata": {
    "id": "gRLO3aMcyQZs"
   },
   "outputs": [],
   "source": [
    "X_train_tfidf = tfidf_transformer.fit_transform(X_train_counts)"
   ]
  },
  {
   "cell_type": "markdown",
   "metadata": {
    "id": "l2Kw-QkXyQZs"
   },
   "source": [
    "Dimensión de la matriz de términos del documento"
   ]
  },
  {
   "cell_type": "code",
   "execution_count": 19,
   "metadata": {
    "id": "gWkTpxiWyQZs",
    "outputId": "d8b79a34-f584-4cb8-e9cc-0551d1b49762"
   },
   "outputs": [
    {
     "data": {
      "text/plain": [
       "(11314, 130107)"
      ]
     },
     "execution_count": 19,
     "metadata": {},
     "output_type": "execute_result"
    }
   ],
   "source": [
    "X_train_tfidf.shape"
   ]
  },
  {
   "cell_type": "markdown",
   "metadata": {
    "id": "UR8uLqhayQZt"
   },
   "source": [
    "_________________________________"
   ]
  },
  {
   "cell_type": "markdown",
   "metadata": {
    "id": "B5m4ucq4yQZt"
   },
   "source": [
    "### [sklearn.naive_bayes.MultinomialNB](https://towardsdatascience.com/machine-learning-nlp-text-classification-using-scikit-learn-python-and-nltk-c52b92a7c73a)"
   ]
  },
  {
   "cell_type": "code",
   "execution_count": 20,
   "metadata": {
    "id": "zWzBd-HnyQZt"
   },
   "outputs": [],
   "source": [
    "clf = MultinomialNB().fit(X_train_tfidf, twenty_train.target)"
   ]
  },
  {
   "cell_type": "markdown",
   "metadata": {
    "id": "qCPCkRFYyQZt"
   },
   "source": [
    "____________________"
   ]
  },
  {
   "cell_type": "markdown",
   "metadata": {},
   "source": [
    "Tomo los datos para prueba"
   ]
  },
  {
   "cell_type": "code",
   "execution_count": 23,
   "metadata": {
    "id": "q86_GsLHyQZv"
   },
   "outputs": [],
   "source": [
    "twenty_test = fetch_20newsgroups(subset='test', shuffle=True)"
   ]
  },
  {
   "cell_type": "markdown",
   "metadata": {
    "id": "LYt5ybVHyQZu"
   },
   "source": [
    "Alternativamente todos los pasos anteriores se pueden reducir con la utilizacion de un **Pipeline**."
   ]
  },
  {
   "cell_type": "markdown",
   "metadata": {
    "id": "CFVnT3qayQZu"
   },
   "source": [
    "### [sklearn.pipeline: Pipeline](https://scikit-learn.org/stable/modules/classes.html?highlight=pipeline#module-sklearn.pipeline)"
   ]
  },
  {
   "cell_type": "code",
   "execution_count": 21,
   "metadata": {
    "id": "6ozrPFILyQZu"
   },
   "outputs": [],
   "source": [
    "text_clf = Pipeline([('vect', CountVectorizer()), \n",
    "                     ('tfidf', TfidfTransformer()), \n",
    "                     ('clf', MultinomialNB())])"
   ]
  },
  {
   "cell_type": "code",
   "execution_count": 22,
   "metadata": {
    "id": "bmeRXIp5yQZu"
   },
   "outputs": [],
   "source": [
    "text_clf = text_clf.fit(twenty_train.data, twenty_train.target)"
   ]
  },
  {
   "cell_type": "code",
   "execution_count": 24,
   "metadata": {
    "id": "t4n70e_cyQZv"
   },
   "outputs": [],
   "source": [
    "predicted = text_clf.predict(twenty_test.data)"
   ]
  },
  {
   "cell_type": "code",
   "execution_count": 1,
   "metadata": {},
   "outputs": [
    {
     "ename": "NameError",
     "evalue": "name 'twenty_test' is not defined",
     "output_type": "error",
     "traceback": [
      "\u001b[1;31m---------------------------------------------------------------------------\u001b[0m",
      "\u001b[1;31mNameError\u001b[0m                                 Traceback (most recent call last)",
      "\u001b[1;32m<ipython-input-1-a90515555b42>\u001b[0m in \u001b[0;36m<module>\u001b[1;34m\u001b[0m\n\u001b[1;32m----> 1\u001b[1;33m \u001b[0mtwenty_test\u001b[0m\u001b[1;33m.\u001b[0m\u001b[0mdata\u001b[0m\u001b[1;33m\u001b[0m\u001b[1;33m\u001b[0m\u001b[0m\n\u001b[0m",
      "\u001b[1;31mNameError\u001b[0m: name 'twenty_test' is not defined"
     ]
    }
   ],
   "source": [
    "twenty_test.data"
   ]
  },
  {
   "cell_type": "code",
   "execution_count": 25,
   "metadata": {
    "id": "rdWawnmoyQZw",
    "outputId": "cb927b96-2c4f-4842-9e87-47db3cd0787f"
   },
   "outputs": [
    {
     "data": {
      "text/plain": [
       "0.7738980350504514"
      ]
     },
     "execution_count": 25,
     "metadata": {},
     "output_type": "execute_result"
    }
   ],
   "source": [
    "np.mean(predicted == twenty_test.target) #accuracy de Naive Bayes"
   ]
  },
  {
   "cell_type": "markdown",
   "metadata": {
    "id": "m7eZSQcCyQZw"
   },
   "source": [
    "___________________________________"
   ]
  },
  {
   "cell_type": "markdown",
   "metadata": {
    "id": "BP4wgNjKyQZy"
   },
   "source": [
    "### [sklearn.linear_model.SGDClassifier](https://scikit-learn.org/stable/modules/generated/sklearn.linear_model.SGDClassifier.html?highlight=sgdclassifier#sklearn.linear_model.SGDClassifier)"
   ]
  },
  {
   "cell_type": "markdown",
   "metadata": {
    "id": "VwdAEgZMyQZy"
   },
   "source": [
    "**Stochastic gradient descent** (SGD) es un método iterativo para optimizar una función objetivo con propiedades de suavidad adecuadas (por ejemplo una funcion diferencial).<br>\n",
    "Puede considerarse como una aproximación estocástica de la optimización del **descenso del gradiente**, ya que reemplaza el gradiente real (calculado a partir del conjunto de datos completo) por una estimación del mismo (calculado a partir de un subconjunto de datos seleccionado al azar).<br>\n",
    "Se utiliza en aplicaciones de **big data**, esto reduce la carga computacional, logrando iteraciones más rápidas en la tasa de convergencia. (Wikipedia)"
   ]
  },
  {
   "cell_type": "code",
   "execution_count": 26,
   "metadata": {
    "id": "F2liXFdFyQZy"
   },
   "outputs": [],
   "source": [
    "text_clf_svm = Pipeline([('vect', CountVectorizer()), \n",
    "                         ('tfidf', TfidfTransformer()),\n",
    "                         ('clf-svm', SGDClassifier(loss='hinge', \n",
    "                                                   penalty='l2', \n",
    "                                                   alpha=1e-3, \n",
    "                                                   max_iter=7, \n",
    "                                                   random_state=42))])"
   ]
  },
  {
   "cell_type": "code",
   "execution_count": 27,
   "metadata": {
    "id": "TfEvzcOhyQZz",
    "outputId": "d21aadd9-dd95-4cee-dae5-8c3074e814ca"
   },
   "outputs": [
    {
     "name": "stderr",
     "output_type": "stream",
     "text": [
      "C:\\Users\\Admin\\.conda\\envs\\austral\\lib\\site-packages\\sklearn\\linear_model\\_stochastic_gradient.py:570: ConvergenceWarning: Maximum number of iteration reached before convergence. Consider increasing max_iter to improve the fit.\n",
      "  warnings.warn(\"Maximum number of iteration reached before \"\n"
     ]
    }
   ],
   "source": [
    "text_clf_svm = text_clf_svm.fit(twenty_train.data, twenty_train.target)"
   ]
  },
  {
   "cell_type": "code",
   "execution_count": 28,
   "metadata": {
    "id": "mY9bxDTCyQZ0"
   },
   "outputs": [],
   "source": [
    "predicted_svm = text_clf_svm.predict(twenty_test.data)"
   ]
  },
  {
   "cell_type": "code",
   "execution_count": 29,
   "metadata": {
    "id": "Hj3992aWyQZ1",
    "outputId": "98129930-a501-4b36-bf4a-6c9081a0f868"
   },
   "outputs": [
    {
     "data": {
      "text/plain": [
       "0.823951141795008"
      ]
     },
     "execution_count": 29,
     "metadata": {},
     "output_type": "execute_result"
    }
   ],
   "source": [
    "np.mean(predicted_svm == twenty_test.target) #accuracy de SVM"
   ]
  },
  {
   "cell_type": "markdown",
   "metadata": {
    "id": "IoCmvDB0yQZ3"
   },
   "source": [
    "____________________________________"
   ]
  },
  {
   "cell_type": "markdown",
   "metadata": {
    "id": "Nx1pcEyyyQZ3"
   },
   "source": [
    "### [sklearn.model_selection.GridSearchCV](https://scikit-learn.org/stable/modules/generated/sklearn.model_selection.GridSearchCV.html)"
   ]
  },
  {
   "cell_type": "markdown",
   "metadata": {
    "id": "q1zh69y-yQZ4"
   },
   "source": [
    "Búsqueda exhaustiva sobre valores de parámetros especificados para un estimador"
   ]
  },
  {
   "cell_type": "markdown",
   "metadata": {
    "id": "E7dk7an-yQZ4"
   },
   "source": [
    "Se crea una lista de parámetros para los que nos gustaría realizar ajustes de rendimiento.<br>\n",
    "Todos los parámetros comienzan con el nombre del clasificador (vect, tfidf, clf)<br>\n",
    "Aquí se configura para unigram y bigrams y elija el que sea óptimo."
   ]
  },
  {
   "cell_type": "markdown",
   "metadata": {
    "id": "al7X5w-XyQZ5"
   },
   "source": [
    "___________________"
   ]
  },
  {
   "cell_type": "markdown",
   "metadata": {
    "id": "tPav-YcLyQZ5"
   },
   "source": [
    "### clf : MultinomialNB"
   ]
  },
  {
   "cell_type": "code",
   "execution_count": 30,
   "metadata": {
    "id": "lmH76HNqyQZ5"
   },
   "outputs": [],
   "source": [
    "parameters = {'vect__ngram_range': [(1, 1), (1, 2)], \n",
    "              'tfidf__use_idf': (True, False), \n",
    "              'clf__alpha': (1e-2, 1e-3)}"
   ]
  },
  {
   "cell_type": "code",
   "execution_count": 31,
   "metadata": {
    "id": "BHEnI9RByQZ6"
   },
   "outputs": [],
   "source": [
    "gs_clf = GridSearchCV(text_clf, parameters, n_jobs=-1)"
   ]
  },
  {
   "cell_type": "code",
   "execution_count": 32,
   "metadata": {
    "id": "NYt7wN6fyQZ6"
   },
   "outputs": [],
   "source": [
    "gs_clf = gs_clf.fit(twenty_train.data, twenty_train.target)"
   ]
  },
  {
   "cell_type": "markdown",
   "metadata": {
    "id": "iP1pJ8ecyQZ7"
   },
   "source": [
    "Mejor Score y Parametros Optimizados"
   ]
  },
  {
   "cell_type": "code",
   "execution_count": 33,
   "metadata": {
    "id": "_23tMAlMyQZ7",
    "outputId": "6b91ea9b-ad3f-4602-c62b-f04a7eff8875"
   },
   "outputs": [
    {
     "data": {
      "text/plain": [
       "0.9157684864695698"
      ]
     },
     "execution_count": 33,
     "metadata": {},
     "output_type": "execute_result"
    }
   ],
   "source": [
    "gs_clf.best_score_"
   ]
  },
  {
   "cell_type": "code",
   "execution_count": 34,
   "metadata": {
    "id": "fQRFXPBSyQZ8",
    "outputId": "e55655c6-0be4-4490-dfc8-3eda82d182dc"
   },
   "outputs": [
    {
     "data": {
      "text/plain": [
       "{'clf__alpha': 0.001, 'tfidf__use_idf': True, 'vect__ngram_range': (1, 2)}"
      ]
     },
     "execution_count": 34,
     "metadata": {},
     "output_type": "execute_result"
    }
   ],
   "source": [
    "gs_clf.best_params_"
   ]
  },
  {
   "cell_type": "markdown",
   "metadata": {
    "id": "p3Yi-eNAyQZ8"
   },
   "source": [
    "____________________________"
   ]
  },
  {
   "cell_type": "markdown",
   "metadata": {
    "id": "-2tnThlqyQZ9"
   },
   "source": [
    "### clf-svm :SGDClassifier"
   ]
  },
  {
   "cell_type": "code",
   "execution_count": 35,
   "metadata": {
    "id": "sFYrDUwDyQZ9"
   },
   "outputs": [],
   "source": [
    "parameters_svm = {'vect__ngram_range': [(1, 1), (1, 2)], \n",
    "                  'tfidf__use_idf': (True, False),\n",
    "                  'clf-svm__alpha': (1e-2, 1e-3)}"
   ]
  },
  {
   "cell_type": "code",
   "execution_count": 36,
   "metadata": {
    "id": "1EpuoYHjyQZ9"
   },
   "outputs": [],
   "source": [
    "gs_clf_svm = GridSearchCV(text_clf_svm, parameters_svm, n_jobs=-1)"
   ]
  },
  {
   "cell_type": "code",
   "execution_count": 37,
   "metadata": {
    "id": "kWpiEbgFyQZ9",
    "outputId": "00c14b25-36c7-448d-e5dd-f13eb1d201a4"
   },
   "outputs": [
    {
     "name": "stderr",
     "output_type": "stream",
     "text": [
      "C:\\Users\\Admin\\.conda\\envs\\austral\\lib\\site-packages\\sklearn\\linear_model\\_stochastic_gradient.py:570: ConvergenceWarning: Maximum number of iteration reached before convergence. Consider increasing max_iter to improve the fit.\n",
      "  warnings.warn(\"Maximum number of iteration reached before \"\n"
     ]
    }
   ],
   "source": [
    "gs_clf_svm = gs_clf_svm.fit(twenty_train.data, twenty_train.target)"
   ]
  },
  {
   "cell_type": "markdown",
   "metadata": {
    "id": "TdA136cryQZ-"
   },
   "source": [
    "Mejor Score y Parametros Optimizados"
   ]
  },
  {
   "cell_type": "code",
   "execution_count": 38,
   "metadata": {
    "id": "EoZV_eNcyQZ-",
    "outputId": "aa394ace-390b-48f1-8c58-c35b991286b5"
   },
   "outputs": [
    {
     "data": {
      "text/plain": [
       "0.9046317318583308"
      ]
     },
     "execution_count": 38,
     "metadata": {},
     "output_type": "execute_result"
    }
   ],
   "source": [
    "gs_clf_svm.best_score_"
   ]
  },
  {
   "cell_type": "code",
   "execution_count": 39,
   "metadata": {
    "id": "c3TUaePYyQZ-",
    "outputId": "61cde277-5b69-4b9b-991b-80cc8dcc5e90"
   },
   "outputs": [
    {
     "data": {
      "text/plain": [
       "{'clf-svm__alpha': 0.001, 'tfidf__use_idf': True, 'vect__ngram_range': (1, 2)}"
      ]
     },
     "execution_count": 39,
     "metadata": {},
     "output_type": "execute_result"
    }
   ],
   "source": [
    "gs_clf_svm.best_params_"
   ]
  },
  {
   "cell_type": "markdown",
   "metadata": {
    "id": "tecmvkiWyQZ_"
   },
   "source": [
    "_____________________"
   ]
  },
  {
   "cell_type": "markdown",
   "metadata": {
    "id": "pumT4d6jyQZ_"
   },
   "source": [
    "### Importancia del pre procesamiento"
   ]
  },
  {
   "cell_type": "code",
   "execution_count": 40,
   "metadata": {
    "id": "e8ErKAF6yQZ_"
   },
   "outputs": [],
   "source": [
    "text_clf = Pipeline([('vect', CountVectorizer(stop_words='english')), \n",
    "                     ('tfidf', TfidfTransformer()), \n",
    "                     ('clf', MultinomialNB())])"
   ]
  },
  {
   "cell_type": "markdown",
   "metadata": {
    "id": "AbwoEkwTyQZ_"
   },
   "source": [
    "**Stop words**"
   ]
  },
  {
   "cell_type": "code",
   "execution_count": 41,
   "metadata": {
    "id": "NiShMdP7yQZ_"
   },
   "outputs": [],
   "source": [
    "stemmer = SnowballStemmer(\"english\", ignore_stopwords=True)"
   ]
  },
  {
   "cell_type": "markdown",
   "metadata": {
    "id": "lPV6KzkcyQaA"
   },
   "source": [
    "**Stemming**"
   ]
  },
  {
   "cell_type": "code",
   "execution_count": 42,
   "metadata": {
    "id": "szMBC_zNyQaA"
   },
   "outputs": [],
   "source": [
    "class StemmedCountVectorizer(CountVectorizer):\n",
    "    def build_analyzer(self):\n",
    "        analyzer = super(StemmedCountVectorizer, self).build_analyzer()\n",
    "        return lambda doc: ([stemmer.stem(w) for w in analyzer(doc)])"
   ]
  },
  {
   "cell_type": "code",
   "execution_count": 43,
   "metadata": {
    "id": "6PH-El2GyQaA"
   },
   "outputs": [],
   "source": [
    "stemmed_count_vect = StemmedCountVectorizer(stop_words='english')"
   ]
  },
  {
   "cell_type": "code",
   "execution_count": 44,
   "metadata": {
    "id": "AwxlvP19yQaB"
   },
   "outputs": [],
   "source": [
    "text_mnb_stemmed = Pipeline([('vect', stemmed_count_vect), \n",
    "                             ('tfidf', TfidfTransformer()), \n",
    "                             ('mnb', MultinomialNB(fit_prior=False))])"
   ]
  },
  {
   "cell_type": "code",
   "execution_count": 45,
   "metadata": {
    "id": "tylxhe7lyQaB"
   },
   "outputs": [],
   "source": [
    "text_mnb_stemmed = text_mnb_stemmed.fit(twenty_train.data, twenty_train.target)"
   ]
  },
  {
   "cell_type": "code",
   "execution_count": 46,
   "metadata": {
    "id": "gMDKEeEryQaB"
   },
   "outputs": [],
   "source": [
    "predicted_mnb_stemmed = text_mnb_stemmed.predict(twenty_test.data)"
   ]
  },
  {
   "cell_type": "code",
   "execution_count": 47,
   "metadata": {
    "id": "PsXFTrQIyQaC",
    "outputId": "eb7d5c75-6c70-443a-da43-de1751d698a2"
   },
   "outputs": [
    {
     "data": {
      "text/plain": [
       "0.8167817312798725"
      ]
     },
     "execution_count": 47,
     "metadata": {},
     "output_type": "execute_result"
    }
   ],
   "source": [
    "np.mean(predicted_mnb_stemmed == twenty_test.target)"
   ]
  },
  {
   "cell_type": "markdown",
   "metadata": {
    "id": "hk98kuP5yQaE"
   },
   "source": [
    "Sin aplicar Stop Words y Stemming: **0.7738980350504514**<br>\n",
    "Aplicando  Stop Words y Stemming:  **0.8167817312798725** "
   ]
  },
  {
   "cell_type": "markdown",
   "metadata": {
    "id": "9MnOgwhtyQaF"
   },
   "source": [
    "_______________________"
   ]
  }
 ],
 "metadata": {
  "colab": {
   "name": "Clasificaciขn de textos.ipynb",
   "provenance": []
  },
  "kernelspec": {
   "display_name": "Austral",
   "language": "python",
   "name": "austral"
  },
  "language_info": {
   "codemirror_mode": {
    "name": "ipython",
    "version": 3
   },
   "file_extension": ".py",
   "mimetype": "text/x-python",
   "name": "python",
   "nbconvert_exporter": "python",
   "pygments_lexer": "ipython3",
   "version": "3.8.5"
  },
  "notify_time": "5"
 },
 "nbformat": 4,
 "nbformat_minor": 1
}
