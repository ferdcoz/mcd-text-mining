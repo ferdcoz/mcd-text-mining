{
 "cells": [
  {
   "cell_type": "markdown",
   "metadata": {},
   "source": [
    "# Alternativas en la construcción de conectores"
   ]
  },
  {
   "cell_type": "code",
   "execution_count": 1,
   "metadata": {},
   "outputs": [],
   "source": [
    "import urllib.request"
   ]
  },
  {
   "cell_type": "code",
   "execution_count": 2,
   "metadata": {},
   "outputs": [],
   "source": [
    "imageText = urllib.request.urlopen('https://image.jimcdn.com/app/cms/image/transf/dimension=385x10000:format=png/path/scf6240a1c8edaf4b/image/i5ffdad5e3ce945fe/version/1508502776/ordenar-el-texto-del-ejercicio-04.png')"
   ]
  },
  {
   "cell_type": "code",
   "execution_count": 3,
   "metadata": {},
   "outputs": [],
   "source": [
    "with open('c:/scraping/imageText.png','wb') as imageFile:\n",
    "  imageFile.write(imageText.read())"
   ]
  },
  {
   "cell_type": "code",
   "execution_count": 4,
   "metadata": {},
   "outputs": [
    {
     "name": "stdout",
     "output_type": "stream",
     "text": [
      "Libreria: 'PIL' esta instalada y se cargo correctamente\n"
     ]
    }
   ],
   "source": [
    "try:\n",
    "    from PIL import Image\n",
    "    print(\"Libreria: 'PIL' esta instalada y se cargo correctamente\")\n",
    "except ModuleNotFoundError:\n",
    "    print(\"Libreria: 'PIL' no esta instalada, se debe instalar\")\n",
    "    !pip install Pillow\n",
    "    from PIL import Image"
   ]
  },
  {
   "cell_type": "code",
   "execution_count": 5,
   "metadata": {},
   "outputs": [
    {
     "name": "stdout",
     "output_type": "stream",
     "text": [
      "Libreria: 'pytesseract' esta instalada y se cargo correctamente\n"
     ]
    }
   ],
   "source": [
    "try:\n",
    "    import pytesseract\n",
    "    print(\"Libreria: 'pytesseract' esta instalada y se cargo correctamente\")\n",
    "except ModuleNotFoundError:\n",
    "    print(\"Libreria: 'pytesseract' no esta instalada, se debe instalar\")\n",
    "    !pip install pytesseract\n",
    "    import pytesseract"
   ]
  },
  {
   "cell_type": "code",
   "execution_count": 6,
   "metadata": {},
   "outputs": [],
   "source": [
    "def ocr_core(filename):\n",
    "    pytesseract.pytesseract.tesseract_cmd = r'C:\\utils\\Tesseract-OCR\\tesseract.exe'\n",
    "    text = pytesseract.image_to_string(Image.open(filename)) \n",
    "    return text"
   ]
  },
  {
   "cell_type": "code",
   "execution_count": 7,
   "metadata": {},
   "outputs": [],
   "source": [
    "def ocr_core_img(fileobj):\n",
    "    pytesseract.pytesseract.tesseract_cmd = r'C:\\utils\\Tesseract-OCR\\tesseract.exe'\n",
    "    text = pytesseract.image_to_string(fileobj) \n",
    "    return text"
   ]
  },
  {
   "cell_type": "code",
   "execution_count": 8,
   "metadata": {},
   "outputs": [],
   "source": [
    "bftext = ocr_core('c:/scraping/imageText.png')"
   ]
  },
  {
   "cell_type": "code",
   "execution_count": 9,
   "metadata": {},
   "outputs": [
    {
     "name": "stdout",
     "output_type": "stream",
     "text": [
      " \n",
      "\n",
      " \n",
      "\n",
      "Desde t mismo intanien que aquel mensaf Suet empoat a\n",
      "sntise mepory mofo ya que cada dia aquel memsapro o alinentaha\n",
      "«on aquellos manjares Muchos caldos de constanci con fveea, plates\n",
      "may natiisos de volatad y rabofs, potrs hechos a bas de\n",
      "o\n",
      "\n",
      "© = wmwoss\n",
      "\n",
      "trtabs con mucha confiana.\n",
      "\n",
      "\n"
     ]
    }
   ],
   "source": [
    "print(bftext)"
   ]
  },
  {
   "cell_type": "code",
   "execution_count": 10,
   "metadata": {},
   "outputs": [],
   "source": [
    "def cleanFile(filePath, newFilePath):\n",
    "    image = Image.open(filePath)\n",
    "    #Set a threshold value for the image, and save\n",
    "    image = image.point(lambda x: 0 if x < 143 else 255)\n",
    "    image.save(newFilePath)\n",
    "    return image"
   ]
  },
  {
   "cell_type": "code",
   "execution_count": 11,
   "metadata": {},
   "outputs": [],
   "source": [
    "image = cleanFile('c:/scraping/imageText.png', 'c:/scraping/imageTextV1.png')"
   ]
  },
  {
   "cell_type": "code",
   "execution_count": 12,
   "metadata": {},
   "outputs": [],
   "source": [
    "bftext = ocr_core_img(image)"
   ]
  },
  {
   "cell_type": "code",
   "execution_count": 13,
   "metadata": {},
   "outputs": [
    {
     "name": "stdout",
     "output_type": "stream",
     "text": [
      " \n",
      "\n",
      "Desde mismo instar en gue gud\n",
      "\n",
      " \n",
      "\n",
      " \n",
      "\n",
      "oe\n",
      "oot\n",
      "«on agro mashies Muchas aldose cmstinen con fica plats\n",
      "mos motivos de volurinty abajo postin chan tive de\n",
      "posencs anttioo fs hechos n decisions loniimporants to\n",
      "\n",
      "Aruba con maddy cotton\n",
      "\n",
      "\n"
     ]
    }
   ],
   "source": [
    "print(bftext)"
   ]
  },
  {
   "cell_type": "markdown",
   "metadata": {},
   "source": [
    "____________________________"
   ]
  }
 ],
 "metadata": {
  "kernelspec": {
   "display_name": "Python 3",
   "language": "python",
   "name": "python3"
  },
  "language_info": {
   "codemirror_mode": {
    "name": "ipython",
    "version": 3
   },
   "file_extension": ".py",
   "mimetype": "text/x-python",
   "name": "python",
   "nbconvert_exporter": "python",
   "pygments_lexer": "ipython3",
   "version": "3.8.5"
  }
 },
 "nbformat": 4,
 "nbformat_minor": 4
}
