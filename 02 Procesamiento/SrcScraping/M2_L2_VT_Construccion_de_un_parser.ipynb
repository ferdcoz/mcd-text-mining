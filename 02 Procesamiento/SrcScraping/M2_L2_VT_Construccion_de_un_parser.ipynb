{
 "cells": [
  {
   "cell_type": "markdown",
   "metadata": {},
   "source": [
    "# Construccion de un parser"
   ]
  },
  {
   "cell_type": "code",
   "execution_count": 1,
   "metadata": {},
   "outputs": [],
   "source": [
    "#!conda install -c anaconda lxml -y"
   ]
  },
  {
   "cell_type": "code",
   "execution_count": 2,
   "metadata": {},
   "outputs": [],
   "source": [
    "import requests\n",
    "from urllib.request import urlopen\n",
    "from lxml import etree"
   ]
  },
  {
   "cell_type": "code",
   "execution_count": 14,
   "metadata": {},
   "outputs": [],
   "source": [
    "url = 'http://www.yahoo.com'"
   ]
  },
  {
   "cell_type": "code",
   "execution_count": 15,
   "metadata": {},
   "outputs": [],
   "source": [
    "headers = {'Content-Type': 'text/html',}\n",
    "response = requests.get(url, headers=headers)\n",
    "html = response.text"
   ]
  },
  {
   "cell_type": "code",
   "execution_count": 16,
   "metadata": {},
   "outputs": [],
   "source": [
    "with open ('c:/scraping/yahoo_html.txt', 'w', encoding='iso-8859-1', errors ='replace') as f:\n",
    "    f.write(html)\n",
    "f.close()    "
   ]
  },
  {
   "cell_type": "code",
   "execution_count": 17,
   "metadata": {},
   "outputs": [],
   "source": [
    "from bs4 import UnicodeDammit"
   ]
  },
  {
   "cell_type": "code",
   "execution_count": 18,
   "metadata": {},
   "outputs": [
    {
     "data": {
      "text/plain": [
       "'iso-8859-1'"
      ]
     },
     "execution_count": 18,
     "metadata": {},
     "output_type": "execute_result"
    }
   ],
   "source": [
    "with open('c:/scraping/yahoo_html.txt', 'rb') as file:\n",
    "   content = file.read()\n",
    "\n",
    "suggestion = UnicodeDammit(content)\n",
    "suggestion.original_encoding"
   ]
  },
  {
   "cell_type": "code",
   "execution_count": 19,
   "metadata": {},
   "outputs": [],
   "source": [
    "htmlparser = etree.HTMLParser()"
   ]
  },
  {
   "cell_type": "code",
   "execution_count": 20,
   "metadata": {},
   "outputs": [],
   "source": [
    "response = urlopen(url)"
   ]
  },
  {
   "cell_type": "code",
   "execution_count": 21,
   "metadata": {},
   "outputs": [],
   "source": [
    "tree = etree.parse(response, htmlparser)"
   ]
  },
  {
   "cell_type": "code",
   "execution_count": 22,
   "metadata": {},
   "outputs": [
    {
     "data": {
      "text/plain": [
       "['Trump presionaba el botón y un mayordomo llevaba rápidamente una Coca-Cola light en una bandeja de plata. ',\n",
       " 'Palm Beach (FL), 20 ene (EFE News).- Donald Trump dejó calladamente de ser presidente de Estados Unidos este miércoles en su club Mar-a-Lago de Palm Beach (Florida), adonde llegó poco antes de que el demócrata Joe Biden asumiera la Presidencia en una ceremonia en Washington de la que él estuvo ausente por voluntad propia.',\n",
       " 'La actriz y cantante se enfundó un diseño de Alta Costura de Daniel Roseberry este miércoles con un broche de un pájaro dorado que muchos asociaron automáticamente con el símbolo de la rebelión que iniciaba la heroína Katniss Everdeen en la ficción',\n",
       " 'Parece que las horas de Zidane en el Madrid están contadas, desde Argentina confirman el interés de Florentino en el técnico de River Plate.',\n",
       " 'A. C. C., un abogado argentino que vive en España, llegó al país desde Madrid en vuelo de Iberia que aterrizó en el aeropuerto de Ezeiza el 15 de octubre último. Eran las 10.15 de ese día cuando su equipaje pasó los escáneres y el personal aduanero descubrió \"pequeños frascos\" dentro de sus valijas. Eran 190 envases de vidrio que contenían un líquido. Ante la sospecha de que el contenido podía ser material estupefaciente y ante una consulta a Diego Amarante, juez en lo penal económico de turno, se decidió secuestrarlos. Un día después, un peritaje hecho por la Prefectura Naval, determinó que lo que el letrado había traído al país era popper, la denominada droga del amor.',\n",
       " 'La periodista Nancy Duré fue invitada a Los Ángeles de la Mañana y relató detalles sobre las fiestas que organizaban Diego Maradona y su entonces representante, Guillermo Coppola, en su casa.',\n",
       " 'Del cartel que la acompañó en la sentada inicial hasta la actualidad, Greta Thunberg cobró tanto en su lucha por el medio ambiente y contra el cambio climático como por su reputación en las redes sociales. Este miércoles, segundos después de que Donald Trump abandonara la Casa Blanca, la joven activista recurrió a la ironía para despedirlo.',\n",
       " 'La actriz y comediante Lupe Vázquez, quien fuera pareja de escenarios y sets de Jorge Ortiz de Pinedo falleció el jueves, así lo dio a conocer el actor en sus redes sociales',\n",
       " 'Más temas »']"
      ]
     },
     "execution_count": 22,
     "metadata": {},
     "output_type": "execute_result"
    }
   ],
   "source": [
    "tree.xpath('//p/text()')"
   ]
  },
  {
   "cell_type": "code",
   "execution_count": 25,
   "metadata": {},
   "outputs": [
    {
     "data": {
      "text/plain": [
       "['Parece que las horas de Zidane en el Madrid están contadas, desde Argentina confirman el interés de Florentino en el técnico de River Plate.',\n",
       " 'A. C. C., un abogado argentino que vive en España, llegó al país desde Madrid en vuelo de Iberia que aterrizó en el aeropuerto de Ezeiza el 15 de octubre último. Eran las 10.15 de ese día cuando su equipaje pasó los escáneres y el personal aduanero descubrió \"pequeños frascos\" dentro de sus valijas. Eran 190 envases de vidrio que contenían un líquido. Ante la sospecha de que el contenido podía ser material estupefaciente y ante una consulta a Diego Amarante, juez en lo penal económico de turno, se decidió secuestrarlos. Un día después, un peritaje hecho por la Prefectura Naval, determinó que lo que el letrado había traído al país era popper, la denominada droga del amor.']"
      ]
     },
     "execution_count": 25,
     "metadata": {},
     "output_type": "execute_result"
    }
   ],
   "source": [
    "tree.xpath('//p[contains(text(),\"Madrid\")]/text()')"
   ]
  },
  {
   "cell_type": "code",
   "execution_count": 26,
   "metadata": {},
   "outputs": [
    {
     "data": {
      "text/plain": [
       "['Trump presionaba el botón y un mayordomo llevaba rápidamente una Coca-Cola light en una bandeja de plata. ',\n",
       " 'Palm Beach (FL), 20 ene (EFE News).- Donald Trump dejó calladamente de ser presidente de Estados Unidos este miércoles en su club Mar-a-Lago de Palm Beach (Florida), adonde llegó poco antes de que el demócrata Joe Biden asumiera la Presidencia en una ceremonia en Washington de la que él estuvo ausente por voluntad propia.',\n",
       " 'La actriz y cantante se enfundó un diseño de Alta Costura de Daniel Roseberry este miércoles con un broche de un pájaro dorado que muchos asociaron automáticamente con el símbolo de la rebelión que iniciaba la heroína Katniss Everdeen en la ficción',\n",
       " 'La periodista Nancy Duré fue invitada a Los Ángeles de la Mañana y relató detalles sobre las fiestas que organizaban Diego Maradona y su entonces representante, Guillermo Coppola, en su casa.',\n",
       " 'Del cartel que la acompañó en la sentada inicial hasta la actualidad, Greta Thunberg cobró tanto en su lucha por el medio ambiente y contra el cambio climático como por su reputación en las redes sociales. Este miércoles, segundos después de que Donald Trump abandonara la Casa Blanca, la joven activista recurrió a la ironía para despedirlo.',\n",
       " 'La actriz y comediante Lupe Vázquez, quien fuera pareja de escenarios y sets de Jorge Ortiz de Pinedo falleció el jueves, así lo dio a conocer el actor en sus redes sociales',\n",
       " 'Más temas »']"
      ]
     },
     "execution_count": 26,
     "metadata": {},
     "output_type": "execute_result"
    }
   ],
   "source": [
    "tree.xpath('//p[not(contains(text(),\"Madrid\"))]/text()')"
   ]
  },
  {
   "cell_type": "markdown",
   "metadata": {},
   "source": [
    "________________________________"
   ]
  }
 ],
 "metadata": {
  "kernelspec": {
   "display_name": "Python 3",
   "language": "python",
   "name": "python3"
  },
  "language_info": {
   "codemirror_mode": {
    "name": "ipython",
    "version": 3
   },
   "file_extension": ".py",
   "mimetype": "text/x-python",
   "name": "python",
   "nbconvert_exporter": "python",
   "pygments_lexer": "ipython3",
   "version": "3.8.5"
  }
 },
 "nbformat": 4,
 "nbformat_minor": 4
}
