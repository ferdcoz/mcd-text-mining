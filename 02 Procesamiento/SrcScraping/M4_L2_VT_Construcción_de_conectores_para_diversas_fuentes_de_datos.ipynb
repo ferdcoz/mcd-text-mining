{
 "cells": [
  {
   "cell_type": "markdown",
   "metadata": {},
   "source": [
    "# Construcción de conectores para diversas fuentes de datos"
   ]
  },
  {
   "cell_type": "code",
   "execution_count": 29,
   "metadata": {},
   "outputs": [],
   "source": [
    "import warnings\n",
    "warnings.filterwarnings(\"ignore\")"
   ]
  },
  {
   "cell_type": "code",
   "execution_count": 30,
   "metadata": {},
   "outputs": [],
   "source": [
    "import pandas as pd\n",
    "pd.set_option('display.max_columns', None)\n",
    "pd.set_option('max_colwidth', -1)"
   ]
  },
  {
   "cell_type": "code",
   "execution_count": 31,
   "metadata": {},
   "outputs": [],
   "source": [
    "import csv\n",
    "import requests\n",
    "from urllib.request import urlopen\n",
    "from lxml import etree"
   ]
  },
  {
   "cell_type": "code",
   "execution_count": 32,
   "metadata": {},
   "outputs": [],
   "source": [
    "url = 'http://www.yahoo.com'"
   ]
  },
  {
   "cell_type": "code",
   "execution_count": 33,
   "metadata": {},
   "outputs": [],
   "source": [
    "headers = {'Content-Type': 'text/html',}\n",
    "response = requests.get(url, headers=headers)\n",
    "html = response.text"
   ]
  },
  {
   "cell_type": "code",
   "execution_count": 34,
   "metadata": {},
   "outputs": [],
   "source": [
    "with open ('c:/scraping/yahoo_html.txt', 'w', encoding='iso-8859-1', errors ='replace') as f:\n",
    "    f.write(html)\n",
    "f.close()  "
   ]
  },
  {
   "cell_type": "code",
   "execution_count": 35,
   "metadata": {},
   "outputs": [],
   "source": [
    "htmlparser = etree.HTMLParser()"
   ]
  },
  {
   "cell_type": "code",
   "execution_count": 36,
   "metadata": {},
   "outputs": [],
   "source": [
    "response = urlopen(url)"
   ]
  },
  {
   "cell_type": "code",
   "execution_count": 37,
   "metadata": {},
   "outputs": [],
   "source": [
    "tree = etree.parse(response, htmlparser)"
   ]
  },
  {
   "cell_type": "code",
   "execution_count": 38,
   "metadata": {},
   "outputs": [],
   "source": [
    "arText = tree.xpath('//p/text()')"
   ]
  },
  {
   "cell_type": "code",
   "execution_count": 39,
   "metadata": {},
   "outputs": [],
   "source": [
    "with open ('c:/scraping/yahoo_text.csv', 'w') as f:\n",
    "    f.write(\"Texto\\n\")\n",
    "    f.write(\"\\n\".join(arText))\n",
    "f.close()   "
   ]
  },
  {
   "cell_type": "code",
   "execution_count": 40,
   "metadata": {},
   "outputs": [],
   "source": [
    "col_name = [\"Texto\"]"
   ]
  },
  {
   "cell_type": "code",
   "execution_count": 41,
   "metadata": {},
   "outputs": [],
   "source": [
    "dfText = pd.DataFrame(arText,columns = list(col_name))"
   ]
  },
  {
   "cell_type": "code",
   "execution_count": 42,
   "metadata": {},
   "outputs": [
    {
     "data": {
      "text/html": [
       "<div>\n",
       "<style scoped>\n",
       "    .dataframe tbody tr th:only-of-type {\n",
       "        vertical-align: middle;\n",
       "    }\n",
       "\n",
       "    .dataframe tbody tr th {\n",
       "        vertical-align: top;\n",
       "    }\n",
       "\n",
       "    .dataframe thead th {\n",
       "        text-align: right;\n",
       "    }\n",
       "</style>\n",
       "<table border=\"1\" class=\"dataframe\">\n",
       "  <thead>\n",
       "    <tr style=\"text-align: right;\">\n",
       "      <th></th>\n",
       "      <th>Texto</th>\n",
       "    </tr>\n",
       "  </thead>\n",
       "  <tbody>\n",
       "    <tr>\n",
       "      <th>0</th>\n",
       "      <td>Trump presionaba el botón y un mayordomo llevaba rápidamente una Coca-Cola light en una bandeja de plata.</td>\n",
       "    </tr>\n",
       "    <tr>\n",
       "      <th>1</th>\n",
       "      <td>Joe Biden asumió como presidente de Estados Unidos este miércoles 20 de enero de 2021, y se convirtió en el segundo mandatario católico de la historia de ese país. El primero también fue demócrata, y asumió hace 50 años: John F. Kennedy. Si bien los 46 presidentes de EE.UU. se pueden considerar cristianos, debido a su educación, algunos no se expresaron como afiliados a ninguna iglesia religiosa en particular.</td>\n",
       "    </tr>\n",
       "    <tr>\n",
       "      <th>2</th>\n",
       "      <td>Veracruz (México), 20 ene (EFE).- Un intenso tiroteo entre fuerzas policiales y una banda dedicada al secuestro dejó cinco presuntos delincuentes muertos, dos más detenidos y el rescate de seis víctimas del delito en el oriental estado mexicano de Veracruz, informaron este miércoles fuentes ministeriales.</td>\n",
       "    </tr>\n",
       "    <tr>\n",
       "      <th>3</th>\n",
       "      <td>La periodista Nancy Duré fue invitada a Los Ángeles de la Mañana y relató detalles sobre las fiestas que organizaban Diego Maradona y su entonces representante, Guillermo Coppola, en su casa.</td>\n",
       "    </tr>\n",
       "    <tr>\n",
       "      <th>4</th>\n",
       "      <td>\"Permítanme tomarme un momento para agradecer al presidente Trump y Melania por todo lo que han hecho para que Estados Unidos sea grandioso\", dice Pence</td>\n",
       "    </tr>\n",
       "    <tr>\n",
       "      <th>5</th>\n",
       "      <td>A. C. C., un abogado argentino que vive en España, llegó al país desde Madrid en vuelo de Iberia que aterrizó en el aeropuerto de Ezeiza el 15 de octubre último. Eran las 10.15 de ese día cuando su equipaje pasó los escáneres y el personal aduanero descubrió \"pequeños frascos\" dentro de sus valijas. Eran 190 envases de vidrio que contenían un líquido. Ante la sospecha de que el contenido podía ser material estupefaciente y ante una consulta a Diego Amarante, juez en lo penal económico de turno, se decidió secuestrarlos. Un día después, un peritaje hecho por la Prefectura Naval, determinó que lo que el letrado había traído al país era popper, la denominada droga del amor.</td>\n",
       "    </tr>\n",
       "    <tr>\n",
       "      <th>6</th>\n",
       "      <td>Amairis Rose siente la ira de sus seguidores de Instagram después de publicar una foto de ella colgando sobre una caída de 100 metros en Devil's Pool en el borde de las Cataratas Victoria, la cascada más grande del mundo.</td>\n",
       "    </tr>\n",
       "    <tr>\n",
       "      <th>7</th>\n",
       "      <td>Tucson (EE.UU.), 21 ene (EFE).- A pesar de la orden ejecutiva firmada este miércoles por el presidente de Estados Unidos, Joe Biden, que ordena la suspensión de la construcción del muro fronterizo con México, los trabajos de edificación continúan este jueves, denunciaron defensores del medioambiente.</td>\n",
       "    </tr>\n",
       "    <tr>\n",
       "      <th>8</th>\n",
       "      <td>Más temas »</td>\n",
       "    </tr>\n",
       "  </tbody>\n",
       "</table>\n",
       "</div>"
      ],
      "text/plain": [
       "                                                                                                                                                                                                                                                                                                                                                                                                                                                                                                                                                                                                                                                                                                     Texto\n",
       "0  Trump presionaba el botón y un mayordomo llevaba rápidamente una Coca-Cola light en una bandeja de plata.                                                                                                                                                                                                                                                                                                                                                                                                                                                                                                                                                                                              \n",
       "1  Joe Biden asumió como presidente de Estados Unidos este miércoles 20 de enero de 2021, y se convirtió en el segundo mandatario católico de la historia de ese país. El primero también fue demócrata, y asumió hace 50 años: John F. Kennedy. Si bien los 46 presidentes de EE.UU. se pueden considerar cristianos, debido a su educación, algunos no se expresaron como afiliados a ninguna iglesia religiosa en particular.                                                                                                                                                                                                                                                                          \n",
       "2  Veracruz (México), 20 ene (EFE).- Un intenso tiroteo entre fuerzas policiales y una banda dedicada al secuestro dejó cinco presuntos delincuentes muertos, dos más detenidos y el rescate de seis víctimas del delito en el oriental estado mexicano de Veracruz, informaron este miércoles fuentes ministeriales.                                                                                                                                                                                                                                                                                                                                                                                     \n",
       "3  La periodista Nancy Duré fue invitada a Los Ángeles de la Mañana y relató detalles sobre las fiestas que organizaban Diego Maradona y su entonces representante, Guillermo Coppola, en su casa.                                                                                                                                                                                                                                                                                                                                                                                                                                                                                                        \n",
       "4  \"Permítanme tomarme un momento para agradecer al presidente Trump y Melania por todo lo que han hecho para que Estados Unidos sea grandioso\", dice Pence                                                                                                                                                                                                                                                                                                                                                                                                                                                                                                                                               \n",
       "5  A. C. C., un abogado argentino que vive en España, llegó al país desde Madrid en vuelo de Iberia que aterrizó en el aeropuerto de Ezeiza el 15 de octubre último. Eran las 10.15 de ese día cuando su equipaje pasó los escáneres y el personal aduanero descubrió \"pequeños frascos\" dentro de sus valijas. Eran 190 envases de vidrio que contenían un líquido. Ante la sospecha de que el contenido podía ser material estupefaciente y ante una consulta a Diego Amarante, juez en lo penal económico de turno, se decidió secuestrarlos. Un día después, un peritaje hecho por la Prefectura Naval, determinó que lo que el letrado había traído al país era popper, la denominada droga del amor.\n",
       "6  Amairis Rose siente la ira de sus seguidores de Instagram después de publicar una foto de ella colgando sobre una caída de 100 metros en Devil's Pool en el borde de las Cataratas Victoria, la cascada más grande del mundo.                                                                                                                                                                                                                                                                                                                                                                                                                                                                          \n",
       "7  Tucson (EE.UU.), 21 ene (EFE).- A pesar de la orden ejecutiva firmada este miércoles por el presidente de Estados Unidos, Joe Biden, que ordena la suspensión de la construcción del muro fronterizo con México, los trabajos de edificación continúan este jueves, denunciaron defensores del medioambiente.                                                                                                                                                                                                                                                                                                                                                                                          \n",
       "8  Más temas »                                                                                                                                                                                                                                                                                                                                                                                                                                                                                                                                                                                                                                                                                            "
      ]
     },
     "execution_count": 42,
     "metadata": {},
     "output_type": "execute_result"
    }
   ],
   "source": [
    "dfText"
   ]
  },
  {
   "cell_type": "code",
   "execution_count": 43,
   "metadata": {},
   "outputs": [],
   "source": [
    "dfText.to_csv('c:/scraping/yahoo_pandas.csv',sep=';',index=False,encoding='utf-16',float_format='%.2f',decimal='.')"
   ]
  },
  {
   "cell_type": "code",
   "execution_count": 44,
   "metadata": {},
   "outputs": [],
   "source": [
    "dfText.to_json('c:/scraping/yahoo_data.json', orient='records', lines=True)"
   ]
  },
  {
   "cell_type": "code",
   "execution_count": 45,
   "metadata": {},
   "outputs": [],
   "source": [
    "with open('c:/scraping/yahoo_dataV1.json', 'w', encoding='utf-16') as jsonfile:\n",
    "    dfText.to_json(jsonfile, force_ascii=False)"
   ]
  },
  {
   "cell_type": "code",
   "execution_count": 46,
   "metadata": {},
   "outputs": [
    {
     "data": {
      "text/html": [
       "<div>\n",
       "<style scoped>\n",
       "    .dataframe tbody tr th:only-of-type {\n",
       "        vertical-align: middle;\n",
       "    }\n",
       "\n",
       "    .dataframe tbody tr th {\n",
       "        vertical-align: top;\n",
       "    }\n",
       "\n",
       "    .dataframe thead th {\n",
       "        text-align: right;\n",
       "    }\n",
       "</style>\n",
       "<table border=\"1\" class=\"dataframe\">\n",
       "  <thead>\n",
       "    <tr style=\"text-align: right;\">\n",
       "      <th></th>\n",
       "      <th>Texto</th>\n",
       "    </tr>\n",
       "  </thead>\n",
       "  <tbody>\n",
       "    <tr>\n",
       "      <th>0</th>\n",
       "      <td>Trump presionaba el botón y un mayordomo llevaba rápidamente una Coca-Cola light en una bandeja de plata.</td>\n",
       "    </tr>\n",
       "    <tr>\n",
       "      <th>1</th>\n",
       "      <td>Joe Biden asumió como presidente de Estados Unidos este miércoles 20 de enero de 2021, y se convirtió en el segundo mandatario católico de la historia de ese país. El primero también fue demócrata, y asumió hace 50 años: John F. Kennedy. Si bien los 46 presidentes de EE.UU. se pueden considerar cristianos, debido a su educación, algunos no se expresaron como afiliados a ninguna iglesia religiosa en particular.</td>\n",
       "    </tr>\n",
       "    <tr>\n",
       "      <th>2</th>\n",
       "      <td>Veracruz (México), 20 ene (EFE).- Un intenso tiroteo entre fuerzas policiales y una banda dedicada al secuestro dejó cinco presuntos delincuentes muertos, dos más detenidos y el rescate de seis víctimas del delito en el oriental estado mexicano de Veracruz, informaron este miércoles fuentes ministeriales.</td>\n",
       "    </tr>\n",
       "    <tr>\n",
       "      <th>3</th>\n",
       "      <td>La periodista Nancy Duré fue invitada a Los Ángeles de la Mañana y relató detalles sobre las fiestas que organizaban Diego Maradona y su entonces representante, Guillermo Coppola, en su casa.</td>\n",
       "    </tr>\n",
       "    <tr>\n",
       "      <th>4</th>\n",
       "      <td>\"Permítanme tomarme un momento para agradecer al presidente Trump y Melania por todo lo que han hecho para que Estados Unidos sea grandioso\", dice Pence</td>\n",
       "    </tr>\n",
       "    <tr>\n",
       "      <th>5</th>\n",
       "      <td>A. C. C., un abogado argentino que vive en España, llegó al país desde Madrid en vuelo de Iberia que aterrizó en el aeropuerto de Ezeiza el 15 de octubre último. Eran las 10.15 de ese día cuando su equipaje pasó los escáneres y el personal aduanero descubrió \"pequeños frascos\" dentro de sus valijas. Eran 190 envases de vidrio que contenían un líquido. Ante la sospecha de que el contenido podía ser material estupefaciente y ante una consulta a Diego Amarante, juez en lo penal económico de turno, se decidió secuestrarlos. Un día después, un peritaje hecho por la Prefectura Naval, determinó que lo que el letrado había traído al país era popper, la denominada droga del amor.</td>\n",
       "    </tr>\n",
       "    <tr>\n",
       "      <th>6</th>\n",
       "      <td>Amairis Rose siente la ira de sus seguidores de Instagram después de publicar una foto de ella colgando sobre una caída de 100 metros en Devil's Pool en el borde de las Cataratas Victoria, la cascada más grande del mundo.</td>\n",
       "    </tr>\n",
       "    <tr>\n",
       "      <th>7</th>\n",
       "      <td>Tucson (EE.UU.), 21 ene (EFE).- A pesar de la orden ejecutiva firmada este miércoles por el presidente de Estados Unidos, Joe Biden, que ordena la suspensión de la construcción del muro fronterizo con México, los trabajos de edificación continúan este jueves, denunciaron defensores del medioambiente.</td>\n",
       "    </tr>\n",
       "    <tr>\n",
       "      <th>8</th>\n",
       "      <td>Más temas »</td>\n",
       "    </tr>\n",
       "  </tbody>\n",
       "</table>\n",
       "</div>"
      ],
      "text/plain": [
       "                                                                                                                                                                                                                                                                                                                                                                                                                                                                                                                                                                                                                                                                                                     Texto\n",
       "0  Trump presionaba el botón y un mayordomo llevaba rápidamente una Coca-Cola light en una bandeja de plata.                                                                                                                                                                                                                                                                                                                                                                                                                                                                                                                                                                                              \n",
       "1  Joe Biden asumió como presidente de Estados Unidos este miércoles 20 de enero de 2021, y se convirtió en el segundo mandatario católico de la historia de ese país. El primero también fue demócrata, y asumió hace 50 años: John F. Kennedy. Si bien los 46 presidentes de EE.UU. se pueden considerar cristianos, debido a su educación, algunos no se expresaron como afiliados a ninguna iglesia religiosa en particular.                                                                                                                                                                                                                                                                          \n",
       "2  Veracruz (México), 20 ene (EFE).- Un intenso tiroteo entre fuerzas policiales y una banda dedicada al secuestro dejó cinco presuntos delincuentes muertos, dos más detenidos y el rescate de seis víctimas del delito en el oriental estado mexicano de Veracruz, informaron este miércoles fuentes ministeriales.                                                                                                                                                                                                                                                                                                                                                                                     \n",
       "3  La periodista Nancy Duré fue invitada a Los Ángeles de la Mañana y relató detalles sobre las fiestas que organizaban Diego Maradona y su entonces representante, Guillermo Coppola, en su casa.                                                                                                                                                                                                                                                                                                                                                                                                                                                                                                        \n",
       "4  \"Permítanme tomarme un momento para agradecer al presidente Trump y Melania por todo lo que han hecho para que Estados Unidos sea grandioso\", dice Pence                                                                                                                                                                                                                                                                                                                                                                                                                                                                                                                                               \n",
       "5  A. C. C., un abogado argentino que vive en España, llegó al país desde Madrid en vuelo de Iberia que aterrizó en el aeropuerto de Ezeiza el 15 de octubre último. Eran las 10.15 de ese día cuando su equipaje pasó los escáneres y el personal aduanero descubrió \"pequeños frascos\" dentro de sus valijas. Eran 190 envases de vidrio que contenían un líquido. Ante la sospecha de que el contenido podía ser material estupefaciente y ante una consulta a Diego Amarante, juez en lo penal económico de turno, se decidió secuestrarlos. Un día después, un peritaje hecho por la Prefectura Naval, determinó que lo que el letrado había traído al país era popper, la denominada droga del amor.\n",
       "6  Amairis Rose siente la ira de sus seguidores de Instagram después de publicar una foto de ella colgando sobre una caída de 100 metros en Devil's Pool en el borde de las Cataratas Victoria, la cascada más grande del mundo.                                                                                                                                                                                                                                                                                                                                                                                                                                                                          \n",
       "7  Tucson (EE.UU.), 21 ene (EFE).- A pesar de la orden ejecutiva firmada este miércoles por el presidente de Estados Unidos, Joe Biden, que ordena la suspensión de la construcción del muro fronterizo con México, los trabajos de edificación continúan este jueves, denunciaron defensores del medioambiente.                                                                                                                                                                                                                                                                                                                                                                                          \n",
       "8  Más temas »                                                                                                                                                                                                                                                                                                                                                                                                                                                                                                                                                                                                                                                                                            "
      ]
     },
     "execution_count": 46,
     "metadata": {},
     "output_type": "execute_result"
    }
   ],
   "source": [
    "dfText"
   ]
  },
  {
   "cell_type": "markdown",
   "metadata": {},
   "source": [
    "___________________"
   ]
  }
 ],
 "metadata": {
  "kernelspec": {
   "display_name": "Python 3",
   "language": "python",
   "name": "python3"
  },
  "language_info": {
   "codemirror_mode": {
    "name": "ipython",
    "version": 3
   },
   "file_extension": ".py",
   "mimetype": "text/x-python",
   "name": "python",
   "nbconvert_exporter": "python",
   "pygments_lexer": "ipython3",
   "version": "3.8.5"
  }
 },
 "nbformat": 4,
 "nbformat_minor": 4
}
