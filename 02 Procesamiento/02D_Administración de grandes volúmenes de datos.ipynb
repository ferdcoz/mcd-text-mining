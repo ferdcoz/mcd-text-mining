{
 "cells": [
  {
   "cell_type": "markdown",
   "metadata": {},
   "source": [
    "# Administriación de grandes volúmenes de datos"
   ]
  },
  {
   "cell_type": "code",
   "execution_count": 1,
   "metadata": {},
   "outputs": [],
   "source": [
    "from time import sleep"
   ]
  },
  {
   "cell_type": "code",
   "execution_count": 2,
   "metadata": {},
   "outputs": [
    {
     "name": "stdout",
     "output_type": "stream",
     "text": [
      "Libreria: 'dask' esta instalada y se cargo correctamente\n"
     ]
    }
   ],
   "source": [
    "try:\n",
    "    from dask import delayed\n",
    "    print(\"Libreria: 'dask' esta instalada y se cargo correctamente\")\n",
    "except ModuleNotFoundError:\n",
    "    print(\"Libreria: 'dask' no esta instalada, se debe instalar\")\n",
    "    !pip install dask\n",
    "    from dask import delayed\n",
    "    print(\"Libreria: 'dask' esta instalada y se cargo correctamente\")"
   ]
  },
  {
   "cell_type": "code",
   "execution_count": 11,
   "metadata": {},
   "outputs": [
    {
     "name": "stdout",
     "output_type": "stream",
     "text": [
      "Collecting graphviz\n",
      "  Downloading graphviz-0.16-py2.py3-none-any.whl (19 kB)\n",
      "Installing collected packages: graphviz\n",
      "Successfully installed graphviz-0.16\n"
     ]
    }
   ],
   "source": [
    "!pip install graphviz"
   ]
  },
  {
   "cell_type": "code",
   "execution_count": 3,
   "metadata": {},
   "outputs": [
    {
     "name": "stdout",
     "output_type": "stream",
     "text": [
      "Libreria: 'nltk' esta instalada y se cargo correctamente\n"
     ]
    }
   ],
   "source": [
    "try:\n",
    "    from nltk.corpus import stopwords\n",
    "    print(\"Libreria: 'nltk' esta instalada y se cargo correctamente\")\n",
    "except ModuleNotFoundError:\n",
    "    print(\"Libreria: 'nltk' no esta instalada, se debe instalar\")\n",
    "    !pip install nltk\n",
    "    from nltk.corpus import stopwords"
   ]
  },
  {
   "cell_type": "code",
   "execution_count": 4,
   "metadata": {},
   "outputs": [],
   "source": [
    "stop_words = stopwords.words(\"spanish\")"
   ]
  },
  {
   "cell_type": "code",
   "execution_count": 5,
   "metadata": {},
   "outputs": [],
   "source": [
    "#@dask.delayed\n",
    "def remove_stopwords(words):\n",
    "    sleep(2)\n",
    "    filtered = filter(lambda word: word not in stop_words, words)\n",
    "    return list(filtered)"
   ]
  },
  {
   "cell_type": "code",
   "execution_count": 6,
   "metadata": {},
   "outputs": [],
   "source": [
    "def add(t1, t2,t3,t4):\n",
    "    sleep(1)\n",
    "    return t1 + t2 + t3 + t4"
   ]
  },
  {
   "cell_type": "code",
   "execution_count": 7,
   "metadata": {},
   "outputs": [
    {
     "name": "stdout",
     "output_type": "stream",
     "text": [
      "['Estamos', 'bien', 'Somos', 'ultimos', 'Se', 'podria', 'esperar', 'mas', 'La', 'ulitma', 'oracion']\n",
      "Wall time: 9.06 s\n"
     ]
    }
   ],
   "source": [
    "%%time\n",
    "test_text1 = remove_stopwords([\"Estamos\",\"todos\",\"muy\",\"bien\"])\n",
    "test_text2 = remove_stopwords([\"Somos\",\"los\",\"ultimos\"])\n",
    "test_text3 = remove_stopwords([\"Se\",\"podria\",\"esperar\",\"mas\"])\n",
    "test_text4 = remove_stopwords([\"La\",\"ulitma\",\"oracion\"])\n",
    "print(add(test_text1, test_text2, test_text3, test_text4))"
   ]
  },
  {
   "cell_type": "code",
   "execution_count": 8,
   "metadata": {},
   "outputs": [
    {
     "name": "stdout",
     "output_type": "stream",
     "text": [
      "Wall time: 55.5 ms\n"
     ]
    }
   ],
   "source": [
    "%%time\n",
    "test_text1 = delayed(remove_stopwords)([\"Estamos\",\"todos\",\"muy\",\"bien\"])\n",
    "test_text2 = delayed(remove_stopwords)([\"Estamos\",\"todos\",\"muy\",\"bien\"])\n",
    "test_text3 = delayed(remove_stopwords)([\"Estamos\",\"todos\",\"muy\",\"bien\"])\n",
    "te9st_text4 = delayed(remove_stopwords)([\"Estamos\",\"todos\",\"muy\",\"bien\"])\n",
    "total =  delayed(add)(test_text1, test_text2, test_text3, test_text4)"
   ]
  },
  {
   "cell_type": "code",
   "execution_count": 9,
   "metadata": {},
   "outputs": [
    {
     "name": "stdout",
     "output_type": "stream",
     "text": [
      "Wall time: 3.23 s\n"
     ]
    },
    {
     "data": {
      "text/plain": [
       "['Estamos',\n",
       " 'bien',\n",
       " 'Estamos',\n",
       " 'bien',\n",
       " 'Estamos',\n",
       " 'bien',\n",
       " 'La',\n",
       " 'ulitma',\n",
       " 'oracion']"
      ]
     },
     "execution_count": 9,
     "metadata": {},
     "output_type": "execute_result"
    }
   ],
   "source": [
    "%time total.compute()"
   ]
  },
  {
   "cell_type": "code",
   "execution_count": 12,
   "metadata": {},
   "outputs": [
    {
     "data": {
      "image/png": "[encoded data removed]",
      "text/plain": [
       "<IPython.core.display.Image object>"
      ]
     },
     "execution_count": 12,
     "metadata": {},
     "output_type": "execute_result"
    }
   ],
   "source": [
    "total.visualize()"
   ]
  },
  {
   "cell_type": "markdown",
   "metadata": {},
   "source": [
    "______________________"
   ]
  }
 ],
 "metadata": {
  "kernelspec": {
   "display_name": "MlLab",
   "language": "python",
   "name": "mllab"
  },
  "language_info": {
   "codemirror_mode": {
    "name": "ipython",
    "version": 3
   },
   "file_extension": ".py",
   "mimetype": "text/x-python",
   "name": "python",
   "nbconvert_exporter": "python",
   "pygments_lexer": "ipython3",
   "version": "3.9.12"
  }
 },
 "nbformat": 4,
 "nbformat_minor": 4
}
