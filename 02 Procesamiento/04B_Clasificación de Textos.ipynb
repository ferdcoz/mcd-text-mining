{
 "cells": [
  {
   "cell_type": "markdown",
   "metadata": {},
   "source": [
    "# Clasificador de texto simple y rapido de entrenar"
   ]
  },
  {
   "cell_type": "code",
   "execution_count": 1,
   "metadata": {},
   "outputs": [
    {
     "name": "stdout",
     "output_type": "stream",
     "text": [
      "Libreria: 'nltk' esta instalada y se cargo correctamente\n"
     ]
    }
   ],
   "source": [
    "try:\n",
    "    from nltk import NaiveBayesClassifier as nbc\n",
    "    from nltk.tokenize import word_tokenize\n",
    "    print(\"Libreria: 'nltk' esta instalada y se cargo correctamente\")\n",
    "except ModuleNotFoundError:\n",
    "    print(\"Libreria: 'nltk' no esta instalada, se debe instalar\")\n",
    "    !pip install nltk\n",
    "    from nltk import NaiveBayesClassifier as nbc\n",
    "    from nltk.tokenize import word_tokenize    "
   ]
  },
  {
   "cell_type": "code",
   "execution_count": 2,
   "metadata": {},
   "outputs": [
    {
     "name": "stdout",
     "output_type": "stream",
     "text": [
      "Libreria: 'itertools' esta instalada y se cargo correctamente\n"
     ]
    }
   ],
   "source": [
    "try:\n",
    "    from itertools import chain\n",
    "    print(\"Libreria: 'itertools' esta instalada y se cargo correctamente\")\n",
    "except ModuleNotFoundError:\n",
    "    print(\"Libreria: 'itertools' no esta instalada, se debe instalar\")\n",
    "    !pip install itertools\n",
    "    from itertools import chain"
   ]
  },
  {
   "cell_type": "code",
   "execution_count": 3,
   "metadata": {},
   "outputs": [
    {
     "name": "stdout",
     "output_type": "stream",
     "text": [
      "Libreria: 'joblib' esta instalada y se cargo correctamente\n"
     ]
    }
   ],
   "source": [
    "try:\n",
    "    import joblib\n",
    "    print(\"Libreria: 'joblib' esta instalada y se cargo correctamente\")\n",
    "except ModuleNotFoundError:\n",
    "    print(\"Libreria: 'joblib' no esta instalada, se debe instalar\")\n",
    "    !pip install joblib\n",
    "    import joblib"
   ]
  },
  {
   "cell_type": "markdown",
   "metadata": {},
   "source": [
    "### Lista de oraciones de entrenamiento"
   ]
  },
  {
   "cell_type": "code",
   "execution_count": 4,
   "metadata": {},
   "outputs": [],
   "source": [
    "oraciones_entrenamiento = [\n",
    "('La vida será todo lo positiva que tú le permitas ser', 'pos'),\n",
    "('Esperar puede ser muy difícil pero recoger los frutos de lo sembrado será un gozo', 'pos'),\n",
    "('Aprender a aceptarte es el primer paso para alcanzar la paz interior', 'pos'),\n",
    "('Sólo el amor tiene la fuerza de cambiar la vida de otra persona en cosas de minutos', 'pos'),\n",
    "(\"Nunca pierdas la esperanza porque la alegría podría entrar por la puerta que olvidaste cerrar\", 'pos'),\n",
    "('No viniste nunca más por aquí', 'neg'),\n",
    "('No entiendo cómo pueden hacer eso', 'neg'),\n",
    "(\"Ya no quedan formas de salir de aquí sin arriesgarse demasiado\", 'neg'),\n",
    "('Espero no equivocarme con mi pronóstico', 'neg'),\n",
    "('No había manera de fallar no puedo creer lo que sucedió', 'neg')]"
   ]
  },
  {
   "cell_type": "markdown",
   "metadata": {},
   "source": [
    "### Lista de oraciones para test"
   ]
  },
  {
   "cell_type": "code",
   "execution_count": 5,
   "metadata": {},
   "outputs": [],
   "source": [
    "oriacion_prueba_positiva = \"La única diferencia entre el éxito y el fracaso, es la actitud ante la vida.\"\n",
    "oriacion_prueba_negativa = \"No entiendo nada de lo que enseñaron la semana pasada.\""
   ]
  },
  {
   "cell_type": "markdown",
   "metadata": {},
   "source": [
    "#### Se separan todas las palabras en una lista unica (chain = optimizacion para ciclos)"
   ]
  },
  {
   "cell_type": "code",
   "execution_count": 6,
   "metadata": {},
   "outputs": [],
   "source": [
    "vocabulario = set(chain(*[word_tokenize(i[0].lower()) for i in oraciones_entrenamiento]))"
   ]
  },
  {
   "cell_type": "code",
   "execution_count": 7,
   "metadata": {},
   "outputs": [
    {
     "data": {
      "text/plain": [
       "{'a',\n",
       " 'aceptarte',\n",
       " 'alcanzar',\n",
       " 'alegría',\n",
       " 'amor',\n",
       " 'aprender',\n",
       " 'aquí',\n",
       " 'arriesgarse',\n",
       " 'cambiar',\n",
       " 'cerrar',\n",
       " 'con',\n",
       " 'cosas',\n",
       " 'creer',\n",
       " 'cómo',\n",
       " 'de',\n",
       " 'demasiado',\n",
       " 'difícil',\n",
       " 'el',\n",
       " 'en',\n",
       " 'entiendo',\n",
       " 'entrar',\n",
       " 'equivocarme',\n",
       " 'es',\n",
       " 'eso',\n",
       " 'esperanza',\n",
       " 'esperar',\n",
       " 'espero',\n",
       " 'fallar',\n",
       " 'formas',\n",
       " 'frutos',\n",
       " 'fuerza',\n",
       " 'gozo',\n",
       " 'había',\n",
       " 'hacer',\n",
       " 'interior',\n",
       " 'la',\n",
       " 'le',\n",
       " 'lo',\n",
       " 'los',\n",
       " 'manera',\n",
       " 'mi',\n",
       " 'minutos',\n",
       " 'muy',\n",
       " 'más',\n",
       " 'no',\n",
       " 'nunca',\n",
       " 'olvidaste',\n",
       " 'otra',\n",
       " 'para',\n",
       " 'paso',\n",
       " 'paz',\n",
       " 'permitas',\n",
       " 'pero',\n",
       " 'persona',\n",
       " 'pierdas',\n",
       " 'podría',\n",
       " 'por',\n",
       " 'porque',\n",
       " 'positiva',\n",
       " 'primer',\n",
       " 'pronóstico',\n",
       " 'puede',\n",
       " 'pueden',\n",
       " 'puedo',\n",
       " 'puerta',\n",
       " 'que',\n",
       " 'quedan',\n",
       " 'recoger',\n",
       " 'salir',\n",
       " 'sembrado',\n",
       " 'ser',\n",
       " 'será',\n",
       " 'sin',\n",
       " 'sucedió',\n",
       " 'sólo',\n",
       " 'tiene',\n",
       " 'todo',\n",
       " 'tú',\n",
       " 'un',\n",
       " 'vida',\n",
       " 'viniste',\n",
       " 'ya'}"
      ]
     },
     "execution_count": 7,
     "metadata": {},
     "output_type": "execute_result"
    }
   ],
   "source": [
    "vocabulario"
   ]
  },
  {
   "cell_type": "markdown",
   "metadata": {},
   "source": [
    "#### Se genera para cada oracion si existe o no la palabra de la lista total"
   ]
  },
  {
   "cell_type": "code",
   "execution_count": 8,
   "metadata": {},
   "outputs": [],
   "source": [
    "array_palabras = [({i:(i in word_tokenize(sentence.lower())) for i in vocabulario},tag) for sentence, tag in oraciones_entrenamiento]"
   ]
  },
  {
   "cell_type": "code",
   "execution_count": 9,
   "metadata": {},
   "outputs": [
    {
     "name": "stdout",
     "output_type": "stream",
     "text": [
      "Oracion:\n",
      "({'creer': False, 'esperanza': False, 'interior': False, 'pierdas': False, 'tiene': False, 'sucedió': False, 'frutos': False, 'para': False, 'quedan': False, 'fuerza': False, 'por': False, 'pero': False, 'recoger': False, 'alegría': False, 'cambiar': False, 'positiva': True, 'aprender': False, 'la': True, 'fallar': False, 'amor': False, 'puedo': False, 'gozo': False, 'paso': False, 'sembrado': False, 'persona': False, 'hacer': False, 'manera': False, 'permitas': True, 'puede': False, 'difícil': False, 'más': False, 'cómo': False, 'paz': False, 'será': True, 'aquí': False, 'a': False, 'puerta': False, 'cerrar': False, 'de': False, 'formas': False, 'pueden': False, 'vida': True, 'primer': False, 'mi': False, 'aceptarte': False, 'entiendo': False, 'podría': False, 'nunca': False, 'un': False, 'es': False, 'salir': False, 'no': False, 'porque': False, 'todo': True, 'equivocarme': False, 'olvidaste': False, 'arriesgarse': False, 'cosas': False, 'lo': True, 'ser': True, 'en': False, 'eso': False, 'sólo': False, 'con': False, 'espero': False, 'le': True, 'viniste': False, 'alcanzar': False, 'que': True, 'esperar': False, 'entrar': False, 'demasiado': False, 'muy': False, 'ya': False, 'los': False, 'otra': False, 'minutos': False, 'el': False, 'sin': False, 'pronóstico': False, 'había': False, 'tú': True}, 'pos')\n",
      "_______________________________________________________________________________________________________\n",
      "Oracion:\n",
      "({'creer': False, 'esperanza': False, 'interior': False, 'pierdas': False, 'tiene': False, 'sucedió': False, 'frutos': True, 'para': False, 'quedan': False, 'fuerza': False, 'por': False, 'pero': True, 'recoger': True, 'alegría': False, 'cambiar': False, 'positiva': False, 'aprender': False, 'la': False, 'fallar': False, 'amor': False, 'puedo': False, 'gozo': True, 'paso': False, 'sembrado': True, 'persona': False, 'hacer': False, 'manera': False, 'permitas': False, 'puede': True, 'difícil': True, 'más': False, 'cómo': False, 'paz': False, 'será': True, 'aquí': False, 'a': False, 'puerta': False, 'cerrar': False, 'de': True, 'formas': False, 'pueden': False, 'vida': False, 'primer': False, 'mi': False, 'aceptarte': False, 'entiendo': False, 'podría': False, 'nunca': False, 'un': True, 'es': False, 'salir': False, 'no': False, 'porque': False, 'todo': False, 'equivocarme': False, 'olvidaste': False, 'arriesgarse': False, 'cosas': False, 'lo': True, 'ser': True, 'en': False, 'eso': False, 'sólo': False, 'con': False, 'espero': False, 'le': False, 'viniste': False, 'alcanzar': False, 'que': False, 'esperar': True, 'entrar': False, 'demasiado': False, 'muy': True, 'ya': False, 'los': True, 'otra': False, 'minutos': False, 'el': False, 'sin': False, 'pronóstico': False, 'había': False, 'tú': False}, 'pos')\n",
      "_______________________________________________________________________________________________________\n",
      "Oracion:\n",
      "({'creer': False, 'esperanza': False, 'interior': True, 'pierdas': False, 'tiene': False, 'sucedió': False, 'frutos': False, 'para': True, 'quedan': False, 'fuerza': False, 'por': False, 'pero': False, 'recoger': False, 'alegría': False, 'cambiar': False, 'positiva': False, 'aprender': True, 'la': True, 'fallar': False, 'amor': False, 'puedo': False, 'gozo': False, 'paso': True, 'sembrado': False, 'persona': False, 'hacer': False, 'manera': False, 'permitas': False, 'puede': False, 'difícil': False, 'más': False, 'cómo': False, 'paz': True, 'será': False, 'aquí': False, 'a': True, 'puerta': False, 'cerrar': False, 'de': False, 'formas': False, 'pueden': False, 'vida': False, 'primer': True, 'mi': False, 'aceptarte': True, 'entiendo': False, 'podría': False, 'nunca': False, 'un': False, 'es': True, 'salir': False, 'no': False, 'porque': False, 'todo': False, 'equivocarme': False, 'olvidaste': False, 'arriesgarse': False, 'cosas': False, 'lo': False, 'ser': False, 'en': False, 'eso': False, 'sólo': False, 'con': False, 'espero': False, 'le': False, 'viniste': False, 'alcanzar': True, 'que': False, 'esperar': False, 'entrar': False, 'demasiado': False, 'muy': False, 'ya': False, 'los': False, 'otra': False, 'minutos': False, 'el': True, 'sin': False, 'pronóstico': False, 'había': False, 'tú': False}, 'pos')\n",
      "_______________________________________________________________________________________________________\n",
      "Oracion:\n",
      "({'creer': False, 'esperanza': False, 'interior': False, 'pierdas': False, 'tiene': True, 'sucedió': False, 'frutos': False, 'para': False, 'quedan': False, 'fuerza': True, 'por': False, 'pero': False, 'recoger': False, 'alegría': False, 'cambiar': True, 'positiva': False, 'aprender': False, 'la': True, 'fallar': False, 'amor': True, 'puedo': False, 'gozo': False, 'paso': False, 'sembrado': False, 'persona': True, 'hacer': False, 'manera': False, 'permitas': False, 'puede': False, 'difícil': False, 'más': False, 'cómo': False, 'paz': False, 'será': False, 'aquí': False, 'a': False, 'puerta': False, 'cerrar': False, 'de': True, 'formas': False, 'pueden': False, 'vida': True, 'primer': False, 'mi': False, 'aceptarte': False, 'entiendo': False, 'podría': False, 'nunca': False, 'un': False, 'es': False, 'salir': False, 'no': False, 'porque': False, 'todo': False, 'equivocarme': False, 'olvidaste': False, 'arriesgarse': False, 'cosas': True, 'lo': False, 'ser': False, 'en': True, 'eso': False, 'sólo': True, 'con': False, 'espero': False, 'le': False, 'viniste': False, 'alcanzar': False, 'que': False, 'esperar': False, 'entrar': False, 'demasiado': False, 'muy': False, 'ya': False, 'los': False, 'otra': True, 'minutos': True, 'el': True, 'sin': False, 'pronóstico': False, 'había': False, 'tú': False}, 'pos')\n",
      "_______________________________________________________________________________________________________\n",
      "Oracion:\n",
      "({'creer': False, 'esperanza': True, 'interior': False, 'pierdas': True, 'tiene': False, 'sucedió': False, 'frutos': False, 'para': False, 'quedan': False, 'fuerza': False, 'por': True, 'pero': False, 'recoger': False, 'alegría': True, 'cambiar': False, 'positiva': False, 'aprender': False, 'la': True, 'fallar': False, 'amor': False, 'puedo': False, 'gozo': False, 'paso': False, 'sembrado': False, 'persona': False, 'hacer': False, 'manera': False, 'permitas': False, 'puede': False, 'difícil': False, 'más': False, 'cómo': False, 'paz': False, 'será': False, 'aquí': False, 'a': False, 'puerta': True, 'cerrar': True, 'de': False, 'formas': False, 'pueden': False, 'vida': False, 'primer': False, 'mi': False, 'aceptarte': False, 'entiendo': False, 'podría': True, 'nunca': True, 'un': False, 'es': False, 'salir': False, 'no': False, 'porque': True, 'todo': False, 'equivocarme': False, 'olvidaste': True, 'arriesgarse': False, 'cosas': False, 'lo': False, 'ser': False, 'en': False, 'eso': False, 'sólo': False, 'con': False, 'espero': False, 'le': False, 'viniste': False, 'alcanzar': False, 'que': True, 'esperar': False, 'entrar': True, 'demasiado': False, 'muy': False, 'ya': False, 'los': False, 'otra': False, 'minutos': False, 'el': False, 'sin': False, 'pronóstico': False, 'había': False, 'tú': False}, 'pos')\n",
      "_______________________________________________________________________________________________________\n",
      "Oracion:\n",
      "({'creer': False, 'esperanza': False, 'interior': False, 'pierdas': False, 'tiene': False, 'sucedió': False, 'frutos': False, 'para': False, 'quedan': False, 'fuerza': False, 'por': True, 'pero': False, 'recoger': False, 'alegría': False, 'cambiar': False, 'positiva': False, 'aprender': False, 'la': False, 'fallar': False, 'amor': False, 'puedo': False, 'gozo': False, 'paso': False, 'sembrado': False, 'persona': False, 'hacer': False, 'manera': False, 'permitas': False, 'puede': False, 'difícil': False, 'más': True, 'cómo': False, 'paz': False, 'será': False, 'aquí': True, 'a': False, 'puerta': False, 'cerrar': False, 'de': False, 'formas': False, 'pueden': False, 'vida': False, 'primer': False, 'mi': False, 'aceptarte': False, 'entiendo': False, 'podría': False, 'nunca': True, 'un': False, 'es': False, 'salir': False, 'no': True, 'porque': False, 'todo': False, 'equivocarme': False, 'olvidaste': False, 'arriesgarse': False, 'cosas': False, 'lo': False, 'ser': False, 'en': False, 'eso': False, 'sólo': False, 'con': False, 'espero': False, 'le': False, 'viniste': True, 'alcanzar': False, 'que': False, 'esperar': False, 'entrar': False, 'demasiado': False, 'muy': False, 'ya': False, 'los': False, 'otra': False, 'minutos': False, 'el': False, 'sin': False, 'pronóstico': False, 'había': False, 'tú': False}, 'neg')\n",
      "_______________________________________________________________________________________________________\n",
      "Oracion:\n",
      "({'creer': False, 'esperanza': False, 'interior': False, 'pierdas': False, 'tiene': False, 'sucedió': False, 'frutos': False, 'para': False, 'quedan': False, 'fuerza': False, 'por': False, 'pero': False, 'recoger': False, 'alegría': False, 'cambiar': False, 'positiva': False, 'aprender': False, 'la': False, 'fallar': False, 'amor': False, 'puedo': False, 'gozo': False, 'paso': False, 'sembrado': False, 'persona': False, 'hacer': True, 'manera': False, 'permitas': False, 'puede': False, 'difícil': False, 'más': False, 'cómo': True, 'paz': False, 'será': False, 'aquí': False, 'a': False, 'puerta': False, 'cerrar': False, 'de': False, 'formas': False, 'pueden': True, 'vida': False, 'primer': False, 'mi': False, 'aceptarte': False, 'entiendo': True, 'podría': False, 'nunca': False, 'un': False, 'es': False, 'salir': False, 'no': True, 'porque': False, 'todo': False, 'equivocarme': False, 'olvidaste': False, 'arriesgarse': False, 'cosas': False, 'lo': False, 'ser': False, 'en': False, 'eso': True, 'sólo': False, 'con': False, 'espero': False, 'le': False, 'viniste': False, 'alcanzar': False, 'que': False, 'esperar': False, 'entrar': False, 'demasiado': False, 'muy': False, 'ya': False, 'los': False, 'otra': False, 'minutos': False, 'el': False, 'sin': False, 'pronóstico': False, 'había': False, 'tú': False}, 'neg')\n",
      "_______________________________________________________________________________________________________\n",
      "Oracion:\n",
      "({'creer': False, 'esperanza': False, 'interior': False, 'pierdas': False, 'tiene': False, 'sucedió': False, 'frutos': False, 'para': False, 'quedan': True, 'fuerza': False, 'por': False, 'pero': False, 'recoger': False, 'alegría': False, 'cambiar': False, 'positiva': False, 'aprender': False, 'la': False, 'fallar': False, 'amor': False, 'puedo': False, 'gozo': False, 'paso': False, 'sembrado': False, 'persona': False, 'hacer': False, 'manera': False, 'permitas': False, 'puede': False, 'difícil': False, 'más': False, 'cómo': False, 'paz': False, 'será': False, 'aquí': True, 'a': False, 'puerta': False, 'cerrar': False, 'de': True, 'formas': True, 'pueden': False, 'vida': False, 'primer': False, 'mi': False, 'aceptarte': False, 'entiendo': False, 'podría': False, 'nunca': False, 'un': False, 'es': False, 'salir': True, 'no': True, 'porque': False, 'todo': False, 'equivocarme': False, 'olvidaste': False, 'arriesgarse': True, 'cosas': False, 'lo': False, 'ser': False, 'en': False, 'eso': False, 'sólo': False, 'con': False, 'espero': False, 'le': False, 'viniste': False, 'alcanzar': False, 'que': False, 'esperar': False, 'entrar': False, 'demasiado': True, 'muy': False, 'ya': True, 'los': False, 'otra': False, 'minutos': False, 'el': False, 'sin': True, 'pronóstico': False, 'había': False, 'tú': False}, 'neg')\n",
      "_______________________________________________________________________________________________________\n",
      "Oracion:\n",
      "({'creer': False, 'esperanza': False, 'interior': False, 'pierdas': False, 'tiene': False, 'sucedió': False, 'frutos': False, 'para': False, 'quedan': False, 'fuerza': False, 'por': False, 'pero': False, 'recoger': False, 'alegría': False, 'cambiar': False, 'positiva': False, 'aprender': False, 'la': False, 'fallar': False, 'amor': False, 'puedo': False, 'gozo': False, 'paso': False, 'sembrado': False, 'persona': False, 'hacer': False, 'manera': False, 'permitas': False, 'puede': False, 'difícil': False, 'más': False, 'cómo': False, 'paz': False, 'será': False, 'aquí': False, 'a': False, 'puerta': False, 'cerrar': False, 'de': False, 'formas': False, 'pueden': False, 'vida': False, 'primer': False, 'mi': True, 'aceptarte': False, 'entiendo': False, 'podría': False, 'nunca': False, 'un': False, 'es': False, 'salir': False, 'no': True, 'porque': False, 'todo': False, 'equivocarme': True, 'olvidaste': False, 'arriesgarse': False, 'cosas': False, 'lo': False, 'ser': False, 'en': False, 'eso': False, 'sólo': False, 'con': True, 'espero': True, 'le': False, 'viniste': False, 'alcanzar': False, 'que': False, 'esperar': False, 'entrar': False, 'demasiado': False, 'muy': False, 'ya': False, 'los': False, 'otra': False, 'minutos': False, 'el': False, 'sin': False, 'pronóstico': True, 'había': False, 'tú': False}, 'neg')\n",
      "_______________________________________________________________________________________________________\n",
      "Oracion:\n",
      "({'creer': True, 'esperanza': False, 'interior': False, 'pierdas': False, 'tiene': False, 'sucedió': True, 'frutos': False, 'para': False, 'quedan': False, 'fuerza': False, 'por': False, 'pero': False, 'recoger': False, 'alegría': False, 'cambiar': False, 'positiva': False, 'aprender': False, 'la': False, 'fallar': True, 'amor': False, 'puedo': True, 'gozo': False, 'paso': False, 'sembrado': False, 'persona': False, 'hacer': False, 'manera': True, 'permitas': False, 'puede': False, 'difícil': False, 'más': False, 'cómo': False, 'paz': False, 'será': False, 'aquí': False, 'a': False, 'puerta': False, 'cerrar': False, 'de': True, 'formas': False, 'pueden': False, 'vida': False, 'primer': False, 'mi': False, 'aceptarte': False, 'entiendo': False, 'podría': False, 'nunca': False, 'un': False, 'es': False, 'salir': False, 'no': True, 'porque': False, 'todo': False, 'equivocarme': False, 'olvidaste': False, 'arriesgarse': False, 'cosas': False, 'lo': True, 'ser': False, 'en': False, 'eso': False, 'sólo': False, 'con': False, 'espero': False, 'le': False, 'viniste': False, 'alcanzar': False, 'que': True, 'esperar': False, 'entrar': False, 'demasiado': False, 'muy': False, 'ya': False, 'los': False, 'otra': False, 'minutos': False, 'el': False, 'sin': False, 'pronóstico': False, 'había': True, 'tú': False}, 'neg')\n",
      "_______________________________________________________________________________________________________\n"
     ]
    }
   ],
   "source": [
    "for i in array_palabras:\n",
    "    print('Oracion:')\n",
    "    print(i)\n",
    "    print('_______________________________________________________________________________________________________')"
   ]
  },
  {
   "cell_type": "markdown",
   "metadata": {},
   "source": [
    "#### Ahora se puede ingresar el conjunto de datos en el modelo"
   ]
  },
  {
   "cell_type": "code",
   "execution_count": 10,
   "metadata": {},
   "outputs": [],
   "source": [
    "NaiveBClassifier = nbc.train(array_palabras)"
   ]
  },
  {
   "cell_type": "markdown",
   "metadata": {},
   "source": [
    "#### Se puede preguntar por los rotulos que encontro"
   ]
  },
  {
   "cell_type": "code",
   "execution_count": 11,
   "metadata": {},
   "outputs": [
    {
     "data": {
      "text/plain": [
       "['pos', 'neg']"
      ]
     },
     "execution_count": 11,
     "metadata": {},
     "output_type": "execute_result"
    }
   ],
   "source": [
    "NaiveBClassifier.labels()"
   ]
  },
  {
   "cell_type": "markdown",
   "metadata": {},
   "source": [
    "#### Para probar el modelo se debe aplicar el mismo pre procesamiento que en el entrenamiento"
   ]
  },
  {
   "cell_type": "code",
   "execution_count": 12,
   "metadata": {},
   "outputs": [],
   "source": [
    "array_positiva =  {i:(i in word_tokenize(oriacion_prueba_positiva.lower())) for i in vocabulario}"
   ]
  },
  {
   "cell_type": "code",
   "execution_count": 13,
   "metadata": {},
   "outputs": [],
   "source": [
    "array_negativo =  {i:(i in word_tokenize(oriacion_prueba_negativa.lower())) for i in vocabulario}"
   ]
  },
  {
   "cell_type": "code",
   "execution_count": 14,
   "metadata": {},
   "outputs": [
    {
     "data": {
      "text/plain": [
       "{'creer': False,\n",
       " 'esperanza': False,\n",
       " 'interior': False,\n",
       " 'pierdas': False,\n",
       " 'tiene': False,\n",
       " 'sucedió': False,\n",
       " 'frutos': False,\n",
       " 'para': False,\n",
       " 'quedan': False,\n",
       " 'fuerza': False,\n",
       " 'por': False,\n",
       " 'pero': False,\n",
       " 'recoger': False,\n",
       " 'alegría': False,\n",
       " 'cambiar': False,\n",
       " 'positiva': False,\n",
       " 'aprender': False,\n",
       " 'la': True,\n",
       " 'fallar': False,\n",
       " 'amor': False,\n",
       " 'puedo': False,\n",
       " 'gozo': False,\n",
       " 'paso': False,\n",
       " 'sembrado': False,\n",
       " 'persona': False,\n",
       " 'hacer': False,\n",
       " 'manera': False,\n",
       " 'permitas': False,\n",
       " 'puede': False,\n",
       " 'difícil': False,\n",
       " 'más': False,\n",
       " 'cómo': False,\n",
       " 'paz': False,\n",
       " 'será': False,\n",
       " 'aquí': False,\n",
       " 'a': False,\n",
       " 'puerta': False,\n",
       " 'cerrar': False,\n",
       " 'de': False,\n",
       " 'formas': False,\n",
       " 'pueden': False,\n",
       " 'vida': True,\n",
       " 'primer': False,\n",
       " 'mi': False,\n",
       " 'aceptarte': False,\n",
       " 'entiendo': False,\n",
       " 'podría': False,\n",
       " 'nunca': False,\n",
       " 'un': False,\n",
       " 'es': True,\n",
       " 'salir': False,\n",
       " 'no': False,\n",
       " 'porque': False,\n",
       " 'todo': False,\n",
       " 'equivocarme': False,\n",
       " 'olvidaste': False,\n",
       " 'arriesgarse': False,\n",
       " 'cosas': False,\n",
       " 'lo': False,\n",
       " 'ser': False,\n",
       " 'en': False,\n",
       " 'eso': False,\n",
       " 'sólo': False,\n",
       " 'con': False,\n",
       " 'espero': False,\n",
       " 'le': False,\n",
       " 'viniste': False,\n",
       " 'alcanzar': False,\n",
       " 'que': False,\n",
       " 'esperar': False,\n",
       " 'entrar': False,\n",
       " 'demasiado': False,\n",
       " 'muy': False,\n",
       " 'ya': False,\n",
       " 'los': False,\n",
       " 'otra': False,\n",
       " 'minutos': False,\n",
       " 'el': True,\n",
       " 'sin': False,\n",
       " 'pronóstico': False,\n",
       " 'había': False,\n",
       " 'tú': False}"
      ]
     },
     "execution_count": 14,
     "metadata": {},
     "output_type": "execute_result"
    }
   ],
   "source": [
    "array_positiva"
   ]
  },
  {
   "cell_type": "markdown",
   "metadata": {},
   "source": [
    "#### Probamos el modelo"
   ]
  },
  {
   "cell_type": "code",
   "execution_count": 15,
   "metadata": {},
   "outputs": [
    {
     "data": {
      "text/plain": [
       "'pos'"
      ]
     },
     "execution_count": 15,
     "metadata": {},
     "output_type": "execute_result"
    }
   ],
   "source": [
    "NaiveBClassifier.classify(array_positiva)"
   ]
  },
  {
   "cell_type": "code",
   "execution_count": 16,
   "metadata": {},
   "outputs": [
    {
     "data": {
      "text/plain": [
       "'neg'"
      ]
     },
     "execution_count": 16,
     "metadata": {},
     "output_type": "execute_result"
    }
   ],
   "source": [
    "NaiveBClassifier.classify(array_negativo)"
   ]
  },
  {
   "cell_type": "markdown",
   "metadata": {},
   "source": [
    "_____________________________"
   ]
  },
  {
   "cell_type": "markdown",
   "metadata": {},
   "source": [
    "### Salvar el modelo entrenado"
   ]
  },
  {
   "cell_type": "code",
   "execution_count": 16,
   "metadata": {},
   "outputs": [],
   "source": [
    "nombreFile = './models/NaiveBClassifier.joblib.pkl'"
   ]
  },
  {
   "cell_type": "code",
   "execution_count": 17,
   "metadata": {},
   "outputs": [],
   "source": [
    "rtn = joblib.dump(NaiveBClassifier, nombreFile, compress=9)"
   ]
  },
  {
   "cell_type": "markdown",
   "metadata": {},
   "source": [
    "__________________"
   ]
  }
 ],
 "metadata": {
  "kernelspec": {
   "display_name": "Austral",
   "language": "python",
   "name": "austral"
  },
  "language_info": {
   "codemirror_mode": {
    "name": "ipython",
    "version": 3
   },
   "file_extension": ".py",
   "mimetype": "text/x-python",
   "name": "python",
   "nbconvert_exporter": "python",
   "pygments_lexer": "ipython3",
   "version": "3.8.5"
  }
 },
 "nbformat": 4,
 "nbformat_minor": 4
}
