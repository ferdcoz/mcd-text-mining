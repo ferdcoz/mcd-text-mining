{
 "cells": [
  {
   "cell_type": "markdown",
   "metadata": {},
   "source": [
    "# Tipos de clasificadores de texto simples y rapidos de entrenar"
   ]
  },
  {
   "cell_type": "code",
   "execution_count": 1,
   "metadata": {},
   "outputs": [
    {
     "name": "stdout",
     "output_type": "stream",
     "text": [
      "Libreria: 'nltk' esta instalada y se cargo correctamente\n"
     ]
    }
   ],
   "source": [
    "try:\n",
    "    from nltk import NaiveBayesClassifier as nbc\n",
    "    from nltk.tokenize import word_tokenize\n",
    "    from nltk.classify import MaxentClassifier\n",
    "    from nltk.classify.scikitlearn import SklearnClassifier\n",
    "    print(\"Libreria: 'nltk' esta instalada y se cargo correctamente\")\n",
    "except ModuleNotFoundError:\n",
    "    print(\"Libreria: 'nltk' no esta instalada, se debe instalar\")\n",
    "    !pip install nltk"
   ]
  },
  {
   "cell_type": "code",
   "execution_count": 2,
   "metadata": {},
   "outputs": [
    {
     "name": "stdout",
     "output_type": "stream",
     "text": [
      "Libreria: 'sklearn' esta instalada y se cargo correctamente\n"
     ]
    }
   ],
   "source": [
    "try:\n",
    "    from sklearn.naive_bayes import MultinomialNB\n",
    "    print(\"Libreria: 'sklearn' esta instalada y se cargo correctamente\")\n",
    "except ModuleNotFoundError:\n",
    "    print(\"Libreria: 'sklearn' no esta instalada, se debe instalar\")\n",
    "    !pip install sklearn"
   ]
  },
  {
   "cell_type": "code",
   "execution_count": 3,
   "metadata": {},
   "outputs": [
    {
     "name": "stdout",
     "output_type": "stream",
     "text": [
      "Libreria: 'itertools' esta instalada y se cargo correctamente\n"
     ]
    }
   ],
   "source": [
    "try:\n",
    "    from itertools import chain\n",
    "    print(\"Libreria: 'itertools' esta instalada y se cargo correctamente\")\n",
    "except ModuleNotFoundError:\n",
    "    print(\"Libreria: 'itertools' no esta instalada, se debe instalar\")\n",
    "    !pip install itertools"
   ]
  },
  {
   "cell_type": "code",
   "execution_count": 4,
   "metadata": {},
   "outputs": [
    {
     "name": "stdout",
     "output_type": "stream",
     "text": [
      "Libreria: 'joblib' esta instalada y se cargo correctamente\n"
     ]
    }
   ],
   "source": [
    "try:\n",
    "    import joblib\n",
    "    print(\"Libreria: 'joblib' esta instalada y se cargo correctamente\")\n",
    "except ModuleNotFoundError:\n",
    "    print(\"Libreria: 'joblib' no esta instalada, se debe instalar\")\n",
    "    !pip install joblib"
   ]
  },
  {
   "cell_type": "markdown",
   "metadata": {},
   "source": [
    "### Lista de oraciones de entrenamiento"
   ]
  },
  {
   "cell_type": "code",
   "execution_count": 5,
   "metadata": {},
   "outputs": [],
   "source": [
    "oraciones_entrenamiento = [\n",
    "('La vida será todo lo positiva que tú le permitas ser', 'pos'),\n",
    "('Esperar puede ser muy difícil pero recoger los frutos de lo sembrado será un gozo', 'pos'),\n",
    "('Aprender a aceptarte es el primer paso para alcanzar la paz interior', 'pos'),\n",
    "('Sólo el amor tiene la fuerza de cambiar la vida de otra persona en cosas de minutos', 'pos'),\n",
    "(\"Nunca pierdas la esperanza porque la alegría podría entrar por la puerta que olvidaste cerrar\", 'pos'),\n",
    "('No viniste nunca más por aquí', 'neg'),\n",
    "('No entiendo cómo pueden hacer eso', 'neg'),\n",
    "(\"Ya no quedan formas de salir de aquí sin arriesgarse demasiado\", 'neg'),\n",
    "('Espero no equivocarme con mi pronóstico', 'neg'),\n",
    "('No había manera de fallar no puedo creer lo que sucedió', 'neg')]"
   ]
  },
  {
   "cell_type": "markdown",
   "metadata": {},
   "source": [
    "### Lista de oraciones para test"
   ]
  },
  {
   "cell_type": "code",
   "execution_count": 6,
   "metadata": {},
   "outputs": [],
   "source": [
    "oriacion_prueba_positiva = \"La única diferencia entre el éxito y el fracaso, es la actitud ante la vida.\"\n",
    "oriacion_prueba_negativa = \"No entiendo nada de lo que enseñaron la semana pasada.\""
   ]
  },
  {
   "cell_type": "markdown",
   "metadata": {},
   "source": [
    "#### Se separan todas las palabras en una lista unica (chain = optimizacion para ciclos)"
   ]
  },
  {
   "cell_type": "code",
   "execution_count": 7,
   "metadata": {},
   "outputs": [],
   "source": [
    "vocabulario = set(chain(*[word_tokenize(i[0].lower()) for i in oraciones_entrenamiento]))"
   ]
  },
  {
   "cell_type": "markdown",
   "metadata": {},
   "source": [
    "#### Se genera para cada oracion si existe o no la palabra de la lista total"
   ]
  },
  {
   "cell_type": "code",
   "execution_count": 8,
   "metadata": {},
   "outputs": [],
   "source": [
    "array_palabras = [({i:(i in word_tokenize(sentence.lower())) for i in vocabulario},tag) for sentence, tag in oraciones_entrenamiento]"
   ]
  },
  {
   "cell_type": "markdown",
   "metadata": {},
   "source": [
    "#### Para probar el modelo se debe aplicar el mismo pre procesamiento que en el entrenamiento"
   ]
  },
  {
   "cell_type": "code",
   "execution_count": 11,
   "metadata": {},
   "outputs": [],
   "source": [
    "array_positiva =  {i:(i in word_tokenize(oriacion_prueba_positiva.lower())) for i in vocabulario}"
   ]
  },
  {
   "cell_type": "code",
   "execution_count": 12,
   "metadata": {},
   "outputs": [],
   "source": [
    "array_negativo =  {i:(i in word_tokenize(oriacion_prueba_negativa.lower())) for i in vocabulario}"
   ]
  },
  {
   "cell_type": "markdown",
   "metadata": {},
   "source": [
    "#### Idem a lo anterior, con diferentes modelos de clasificacion"
   ]
  },
  {
   "cell_type": "code",
   "execution_count": 13,
   "metadata": {},
   "outputs": [],
   "source": [
    "Max_classifier = MaxentClassifier.train(array_palabras, trace=0, max_iter=3, min_lldelta=0.5)"
   ]
  },
  {
   "cell_type": "code",
   "execution_count": 14,
   "metadata": {},
   "outputs": [
    {
     "data": {
      "text/plain": [
       "'pos'"
      ]
     },
     "execution_count": 14,
     "metadata": {},
     "output_type": "execute_result"
    }
   ],
   "source": [
    "Max_classifier.classify(array_positiva)"
   ]
  },
  {
   "cell_type": "code",
   "execution_count": 15,
   "metadata": {},
   "outputs": [
    {
     "data": {
      "text/plain": [
       "'neg'"
      ]
     },
     "execution_count": 15,
     "metadata": {},
     "output_type": "execute_result"
    }
   ],
   "source": [
    "Max_classifier.classify(array_negativo)"
   ]
  },
  {
   "cell_type": "markdown",
   "metadata": {},
   "source": [
    "_____________________"
   ]
  },
  {
   "cell_type": "code",
   "execution_count": 16,
   "metadata": {},
   "outputs": [],
   "source": [
    "SKClassifier = SklearnClassifier(MultinomialNB())"
   ]
  },
  {
   "cell_type": "code",
   "execution_count": 17,
   "metadata": {},
   "outputs": [
    {
     "data": {
      "text/plain": [
       "<SklearnClassifier(MultinomialNB())>"
      ]
     },
     "execution_count": 17,
     "metadata": {},
     "output_type": "execute_result"
    }
   ],
   "source": [
    "SKClassifier.train(array_palabras)"
   ]
  },
  {
   "cell_type": "code",
   "execution_count": 18,
   "metadata": {},
   "outputs": [
    {
     "data": {
      "text/plain": [
       "'pos'"
      ]
     },
     "execution_count": 18,
     "metadata": {},
     "output_type": "execute_result"
    }
   ],
   "source": [
    "SKClassifier.classify(array_positiva)"
   ]
  },
  {
   "cell_type": "code",
   "execution_count": 19,
   "metadata": {},
   "outputs": [
    {
     "data": {
      "text/plain": [
       "'neg'"
      ]
     },
     "execution_count": 19,
     "metadata": {},
     "output_type": "execute_result"
    }
   ],
   "source": [
    "SKClassifier.classify(array_negativo)"
   ]
  },
  {
   "cell_type": "markdown",
   "metadata": {},
   "source": [
    "### Cargar el modelo entrenado"
   ]
  },
  {
   "cell_type": "code",
   "execution_count": 20,
   "metadata": {},
   "outputs": [],
   "source": [
    "nombreFile = './models/NaiveBClassifier.joblib.pkl'"
   ]
  },
  {
   "cell_type": "code",
   "execution_count": 21,
   "metadata": {},
   "outputs": [],
   "source": [
    "NaiveBClassifier = joblib.load(nombreFile)"
   ]
  },
  {
   "cell_type": "code",
   "execution_count": 22,
   "metadata": {},
   "outputs": [
    {
     "data": {
      "text/plain": [
       "'pos'"
      ]
     },
     "execution_count": 22,
     "metadata": {},
     "output_type": "execute_result"
    }
   ],
   "source": [
    "NaiveBClassifier.classify(array_positiva)"
   ]
  },
  {
   "cell_type": "code",
   "execution_count": 23,
   "metadata": {},
   "outputs": [
    {
     "data": {
      "text/plain": [
       "'neg'"
      ]
     },
     "execution_count": 23,
     "metadata": {},
     "output_type": "execute_result"
    }
   ],
   "source": [
    "NaiveBClassifier.classify(array_negativo)"
   ]
  },
  {
   "cell_type": "markdown",
   "metadata": {},
   "source": [
    "__________________"
   ]
  }
 ],
 "metadata": {
  "kernelspec": {
   "display_name": "MlLab",
   "language": "python",
   "name": "mllab"
  },
  "language_info": {
   "codemirror_mode": {
    "name": "ipython",
    "version": 3
   },
   "file_extension": ".py",
   "mimetype": "text/x-python",
   "name": "python",
   "nbconvert_exporter": "python",
   "pygments_lexer": "ipython3",
   "version": "3.9.12"
  }
 },
 "nbformat": 4,
 "nbformat_minor": 4
}
