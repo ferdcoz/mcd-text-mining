{
 "cells": [
  {
   "cell_type": "markdown",
   "metadata": {},
   "source": [
    "# Entorno de Pre Procesamiento"
   ]
  },
  {
   "cell_type": "code",
   "execution_count": 10,
   "metadata": {},
   "outputs": [
    {
     "name": "stdout",
     "output_type": "stream",
     "text": [
      "Libreria: 'PIL' esta instalada y se cargo correctamente\n"
     ]
    }
   ],
   "source": [
    "try:\n",
    "    from PIL import Image\n",
    "    print(\"Libreria: 'PIL' esta instalada y se cargo correctamente\")\n",
    "except ModuleNotFoundError:\n",
    "    print(\"Libreria: 'PIL' no esta instalada, se debe instalar\")\n",
    "    !pip install Pillow\n",
    "    from PIL import Image"
   ]
  },
  {
   "cell_type": "code",
   "execution_count": 11,
   "metadata": {},
   "outputs": [
    {
     "name": "stdout",
     "output_type": "stream",
     "text": [
      "Libreria: 'pytesseract' esta instalada y se cargo correctamente\n"
     ]
    }
   ],
   "source": [
    "try:\n",
    "    import pytesseract\n",
    "    print(\"Libreria: 'pytesseract' esta instalada y se cargo correctamente\")\n",
    "except ModuleNotFoundError:\n",
    "    print(\"Libreria: 'pytesseract' no esta instalada, se debe instalar\")\n",
    "    !pip install pytesseract\n",
    "    import pytesseract"
   ]
  },
  {
   "cell_type": "code",
   "execution_count": 12,
   "metadata": {},
   "outputs": [],
   "source": [
    "def ocr_core(filename):\n",
    "    pytesseract.pytesseract.tesseract_cmd = r'C:\\utils\\Tesseract-OCR\\tesseract.exe'\n",
    "    text = pytesseract.image_to_string(Image.open(filename)) \n",
    "    return text"
   ]
  },
  {
   "cell_type": "code",
   "execution_count": 13,
   "metadata": {},
   "outputs": [],
   "source": [
    "bftext = ocr_core('./data/test.png')"
   ]
  },
  {
   "cell_type": "code",
   "execution_count": 14,
   "metadata": {},
   "outputs": [
    {
     "name": "stdout",
     "output_type": "stream",
     "text": [
      "Ejemplo de Lectura OCR\n",
      "\n",
      "\n"
     ]
    }
   ],
   "source": [
    "print(bftext)"
   ]
  },
  {
   "cell_type": "markdown",
   "metadata": {},
   "source": [
    "**Librerías para lectura de PDF alternativas:**<br>\n",
    "https://github.com/pmaupin/pdfrw<br>\n",
    "https://github.com/pdfminer/pdfminer.si<br>"
   ]
  },
  {
   "cell_type": "code",
   "execution_count": 17,
   "metadata": {},
   "outputs": [
    {
     "name": "stdout",
     "output_type": "stream",
     "text": [
      "Collecting package metadata (current_repodata.json): ...working... done\n",
      "Solving environment: ...working... done\n",
      "\n",
      "# All requested packages already installed.\n",
      "\n"
     ]
    }
   ],
   "source": [
    "!conda install -y -c conda-forge poppler"
   ]
  },
  {
   "cell_type": "code",
   "execution_count": 18,
   "metadata": {},
   "outputs": [
    {
     "name": "stdout",
     "output_type": "stream",
     "text": [
      "Libreria: 'pdf2image' esta instalada y se cargo correctamente\n"
     ]
    }
   ],
   "source": [
    "try:\n",
    "    from pdf2image import convert_from_path\n",
    "    print(\"Libreria: 'pdf2image' esta instalada y se cargo correctamente\")\n",
    "except ModuleNotFoundError:\n",
    "    print(\"Libreria: 'pdf2image' no esta instalada, se debe instalar\")\n",
    "    !pip install pdf2image"
   ]
  },
  {
   "cell_type": "code",
   "execution_count": 19,
   "metadata": {},
   "outputs": [],
   "source": [
    "pages = convert_from_path('./data/HolaMundo.pdf')"
   ]
  },
  {
   "cell_type": "code",
   "execution_count": 20,
   "metadata": {},
   "outputs": [],
   "source": [
    "for page in pages:\n",
    "    page.save('./data/HolaMundo.png', 'PNG')"
   ]
  },
  {
   "cell_type": "code",
   "execution_count": 21,
   "metadata": {},
   "outputs": [],
   "source": [
    "bftext = ocr_core('./data/HolaMundo.png')"
   ]
  },
  {
   "cell_type": "code",
   "execution_count": 22,
   "metadata": {},
   "outputs": [
    {
     "name": "stdout",
     "output_type": "stream",
     "text": [
      "Hola Mundo\n",
      "\n",
      "\n"
     ]
    }
   ],
   "source": [
    "print(bftext)"
   ]
  },
  {
   "cell_type": "markdown",
   "metadata": {},
   "source": [
    "__________________________"
   ]
  }
 ],
 "metadata": {
  "kernelspec": {
   "display_name": "MlLab",
   "language": "python",
   "name": "mllab"
  },
  "language_info": {
   "codemirror_mode": {
    "name": "ipython",
    "version": 3
   },
   "file_extension": ".py",
   "mimetype": "text/x-python",
   "name": "python",
   "nbconvert_exporter": "python",
   "pygments_lexer": "ipython3",
   "version": "3.9.12"
  }
 },
 "nbformat": 4,
 "nbformat_minor": 2
}
