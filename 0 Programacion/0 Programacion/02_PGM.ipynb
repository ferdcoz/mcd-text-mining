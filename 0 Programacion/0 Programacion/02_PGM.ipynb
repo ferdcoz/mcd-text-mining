{
 "cells": [
  {
   "cell_type": "markdown",
   "metadata": {},
   "source": [
    "# Introducción a la programación - cap. 2"
   ]
  },
  {
   "cell_type": "code",
   "execution_count": 1,
   "metadata": {},
   "outputs": [
    {
     "name": "stdout",
     "output_type": "stream",
     "text": [
      "Libreria: 'pandas' esta instalada y se cargo correctamente\n"
     ]
    }
   ],
   "source": [
    "try:\n",
    "    import pandas as pd\n",
    "    print(\"Libreria: 'pandas' esta instalada y se cargo correctamente\")\n",
    "except ModuleNotFoundError:\n",
    "    print(\"Libreria: 'pandas' no esta instalada, se debe instalar\")\n",
    "    !pip install pandas\n",
    "    import pandas as pd"
   ]
  },
  {
   "cell_type": "code",
   "execution_count": 2,
   "metadata": {},
   "outputs": [
    {
     "name": "stdout",
     "output_type": "stream",
     "text": [
      "Libreria: 'numpy' esta instalada y se cargo correctamente\n"
     ]
    }
   ],
   "source": [
    "try:\n",
    "    import numpy as np \n",
    "    print(\"Libreria: 'numpy' esta instalada y se cargo correctamente\")\n",
    "except ModuleNotFoundError:\n",
    "    print(\"Libreria: 'numpy' no esta instalada, se debe instalar\")\n",
    "    !pip install numpy\n",
    "    import numpy as np"
   ]
  },
  {
   "cell_type": "code",
   "execution_count": 3,
   "metadata": {},
   "outputs": [],
   "source": [
    "def load_file(excel_file_name, excel_sheet_name_list, excel_num_head):\n",
    "    tmp_Data_Frame = pd.read_excel(excel_file_name, \n",
    "                                   header = excel_num_head, \n",
    "                                   sheet_name = excel_sheet_name_list,\n",
    "                                   dtype={'Mes': str},\n",
    "                                   verbose=True)\n",
    "    return tmp_Data_Frame     "
   ]
  },
  {
   "cell_type": "code",
   "execution_count": 4,
   "metadata": {},
   "outputs": [],
   "source": [
    "bfFileName = ['LLL.xlsx', 'lll', '0']"
   ]
  },
  {
   "cell_type": "code",
   "execution_count": 6,
   "metadata": {},
   "outputs": [
    {
     "name": "stdout",
     "output_type": "stream",
     "text": [
      "Reading sheet lll\n"
     ]
    }
   ],
   "source": [
    "df = load_file('./data/' + bfFileName[0] , bfFileName[1], int(bfFileName[2]))"
   ]
  },
  {
   "cell_type": "code",
   "execution_count": 7,
   "metadata": {},
   "outputs": [
    {
     "data": {
      "text/html": [
       "<div>\n",
       "<style scoped>\n",
       "    .dataframe tbody tr th:only-of-type {\n",
       "        vertical-align: middle;\n",
       "    }\n",
       "\n",
       "    .dataframe tbody tr th {\n",
       "        vertical-align: top;\n",
       "    }\n",
       "\n",
       "    .dataframe thead th {\n",
       "        text-align: right;\n",
       "    }\n",
       "</style>\n",
       "<table border=\"1\" class=\"dataframe\">\n",
       "  <thead>\n",
       "    <tr style=\"text-align: right;\">\n",
       "      <th></th>\n",
       "      <th>Yacimiento</th>\n",
       "      <th>rama_hrz_m</th>\n",
       "      <th>ctd_fracturas</th>\n",
       "      <th>arena_tn</th>\n",
       "      <th>agua_m3</th>\n",
       "    </tr>\n",
       "  </thead>\n",
       "  <tbody>\n",
       "    <tr>\n",
       "      <th>0</th>\n",
       "      <td>Loma la Lata</td>\n",
       "      <td>891.3</td>\n",
       "      <td>10</td>\n",
       "      <td>2250.32</td>\n",
       "      <td>16332.4</td>\n",
       "    </tr>\n",
       "    <tr>\n",
       "      <th>1</th>\n",
       "      <td>Loma la Lata</td>\n",
       "      <td>901.3</td>\n",
       "      <td>10</td>\n",
       "      <td>2214.63</td>\n",
       "      <td>14292.0</td>\n",
       "    </tr>\n",
       "    <tr>\n",
       "      <th>2</th>\n",
       "      <td>Loma la Lata</td>\n",
       "      <td>820.3</td>\n",
       "      <td>11</td>\n",
       "      <td>2220.80</td>\n",
       "      <td>14108.2</td>\n",
       "    </tr>\n",
       "  </tbody>\n",
       "</table>\n",
       "</div>"
      ],
      "text/plain": [
       "     Yacimiento  rama_hrz_m  ctd_fracturas  arena_tn  agua_m3\n",
       "0  Loma la Lata       891.3             10   2250.32  16332.4\n",
       "1  Loma la Lata       901.3             10   2214.63  14292.0\n",
       "2  Loma la Lata       820.3             11   2220.80  14108.2"
      ]
     },
     "execution_count": 7,
     "metadata": {},
     "output_type": "execute_result"
    }
   ],
   "source": [
    "df.head(3)"
   ]
  },
  {
   "cell_type": "code",
   "execution_count": 10,
   "metadata": {},
   "outputs": [
    {
     "data": {
      "text/html": [
       "<div>\n",
       "<style scoped>\n",
       "    .dataframe tbody tr th:only-of-type {\n",
       "        vertical-align: middle;\n",
       "    }\n",
       "\n",
       "    .dataframe tbody tr th {\n",
       "        vertical-align: top;\n",
       "    }\n",
       "\n",
       "    .dataframe thead th {\n",
       "        text-align: right;\n",
       "    }\n",
       "</style>\n",
       "<table border=\"1\" class=\"dataframe\">\n",
       "  <thead>\n",
       "    <tr style=\"text-align: right;\">\n",
       "      <th></th>\n",
       "      <th>Yacimiento</th>\n",
       "      <th>rama_hrz_m</th>\n",
       "      <th>ctd_fracturas</th>\n",
       "      <th>arena_tn</th>\n",
       "      <th>agua_m3</th>\n",
       "    </tr>\n",
       "  </thead>\n",
       "  <tbody>\n",
       "    <tr>\n",
       "      <th>0</th>\n",
       "      <td>Loma la Lata</td>\n",
       "      <td>891.3</td>\n",
       "      <td>10</td>\n",
       "      <td>2250.3</td>\n",
       "      <td>16332.4</td>\n",
       "    </tr>\n",
       "    <tr>\n",
       "      <th>1</th>\n",
       "      <td>Loma la Lata</td>\n",
       "      <td>901.3</td>\n",
       "      <td>10</td>\n",
       "      <td>2214.6</td>\n",
       "      <td>14292.0</td>\n",
       "    </tr>\n",
       "    <tr>\n",
       "      <th>2</th>\n",
       "      <td>Loma la Lata</td>\n",
       "      <td>820.3</td>\n",
       "      <td>11</td>\n",
       "      <td>2220.8</td>\n",
       "      <td>14108.2</td>\n",
       "    </tr>\n",
       "    <tr>\n",
       "      <th>3</th>\n",
       "      <td>Loma la Lata</td>\n",
       "      <td>815.1</td>\n",
       "      <td>10</td>\n",
       "      <td>1279.1</td>\n",
       "      <td>10295.9</td>\n",
       "    </tr>\n",
       "    <tr>\n",
       "      <th>4</th>\n",
       "      <td>Loma la Lata</td>\n",
       "      <td>285.3</td>\n",
       "      <td>4</td>\n",
       "      <td>681.9</td>\n",
       "      <td>3630.2</td>\n",
       "    </tr>\n",
       "  </tbody>\n",
       "</table>\n",
       "</div>"
      ],
      "text/plain": [
       "     Yacimiento  rama_hrz_m  ctd_fracturas  arena_tn  agua_m3\n",
       "0  Loma la Lata       891.3             10    2250.3  16332.4\n",
       "1  Loma la Lata       901.3             10    2214.6  14292.0\n",
       "2  Loma la Lata       820.3             11    2220.8  14108.2\n",
       "3  Loma la Lata       815.1             10    1279.1  10295.9\n",
       "4  Loma la Lata       285.3              4     681.9   3630.2"
      ]
     },
     "execution_count": 10,
     "metadata": {},
     "output_type": "execute_result"
    }
   ],
   "source": [
    "(df.round(1)).head()"
   ]
  },
  {
   "cell_type": "code",
   "execution_count": 12,
   "metadata": {},
   "outputs": [],
   "source": [
    "df.to_csv(\"./Data/lll.csv\", sep=';', index=False, encoding='utf-8', float_format='%.3f', decimal='.')"
   ]
  },
  {
   "cell_type": "markdown",
   "metadata": {},
   "source": [
    "________________________"
   ]
  },
  {
   "cell_type": "raw",
   "metadata": {},
   "source": [
    "Yacimiento;rama_hrz_m;ctd_fracturas;arena_tn;agua_m3\n",
    "Loma la Lata;891.300;10;2250.320;16332.400\n",
    "Loma la Lata;901.300;10;2214.630;14292.000\n",
    "Loma la Lata;820.300;11;2220.800;14108.200\n",
    "Loma la Lata;815.100;10;1279.130;10295.900\n",
    "Loma la Lata;285.300;4;681.890;3630.200"
   ]
  },
  {
   "cell_type": "markdown",
   "metadata": {},
   "source": [
    "______________"
   ]
  }
 ],
 "metadata": {
  "kernelspec": {
   "display_name": "Austral",
   "language": "python",
   "name": "austral"
  },
  "language_info": {
   "codemirror_mode": {
    "name": "ipython",
    "version": 3
   },
   "file_extension": ".py",
   "mimetype": "text/x-python",
   "name": "python",
   "nbconvert_exporter": "python",
   "pygments_lexer": "ipython3",
   "version": "3.8.5"
  }
 },
 "nbformat": 4,
 "nbformat_minor": 4
}
