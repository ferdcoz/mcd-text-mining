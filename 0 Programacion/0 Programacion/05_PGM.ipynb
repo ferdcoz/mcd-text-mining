{
 "cells": [
  {
   "cell_type": "markdown",
   "metadata": {},
   "source": [
    "# Introducción a la programación - cap. 5"
   ]
  },
  {
   "cell_type": "code",
   "execution_count": 2,
   "metadata": {},
   "outputs": [
    {
     "name": "stdout",
     "output_type": "stream",
     "text": [
      "Libreria: 'pandas' esta instalada y se cargo correctamente\n"
     ]
    }
   ],
   "source": [
    "try:\n",
    "    import pandas as pd\n",
    "    print(\"Libreria: 'pandas' esta instalada y se cargo correctamente\")\n",
    "except ModuleNotFoundError:\n",
    "    print(\"Libreria: 'pandas' no esta instalada, se debe instalar\")\n",
    "    !pip install pandas\n",
    "    import pandas as pd"
   ]
  },
  {
   "cell_type": "code",
   "execution_count": 3,
   "metadata": {},
   "outputs": [
    {
     "name": "stdout",
     "output_type": "stream",
     "text": [
      "Libreria: 'numpy' esta instalada y se cargo correctamente\n"
     ]
    }
   ],
   "source": [
    "try:\n",
    "    import numpy as np \n",
    "    print(\"Libreria: 'numpy' esta instalada y se cargo correctamente\")\n",
    "except ModuleNotFoundError:\n",
    "    print(\"Libreria: 'numpy' no esta instalada, se debe instalar\")\n",
    "    !pip install numpy\n",
    "    import numpy as np"
   ]
  },
  {
   "cell_type": "code",
   "execution_count": 4,
   "metadata": {},
   "outputs": [],
   "source": [
    "def load_file(excel_file_name, excel_sheet_name_list, excel_num_head):\n",
    "    tmp_Data_Frame = pd.read_excel(excel_file_name, \n",
    "                                   header = excel_num_head, \n",
    "                                   sheet_name = excel_sheet_name_list,\n",
    "                                   dtype={'Mes': str},\n",
    "                                   verbose=True)\n",
    "    return tmp_Data_Frame     "
   ]
  },
  {
   "cell_type": "code",
   "execution_count": 5,
   "metadata": {},
   "outputs": [],
   "source": [
    "bfFileName = ['LLL.xlsx', 'lll', '0']"
   ]
  },
  {
   "cell_type": "code",
   "execution_count": 6,
   "metadata": {},
   "outputs": [
    {
     "name": "stdout",
     "output_type": "stream",
     "text": [
      "Reading sheet lll\n"
     ]
    }
   ],
   "source": [
    "df = load_file('./data/' + bfFileName[0] , bfFileName[1], int(bfFileName[2]))"
   ]
  },
  {
   "cell_type": "markdown",
   "metadata": {},
   "source": [
    "### Como consultar lo que se cargo en memoria"
   ]
  },
  {
   "cell_type": "code",
   "execution_count": 7,
   "metadata": {},
   "outputs": [
    {
     "data": {
      "text/html": [
       "<div>\n",
       "<style scoped>\n",
       "    .dataframe tbody tr th:only-of-type {\n",
       "        vertical-align: middle;\n",
       "    }\n",
       "\n",
       "    .dataframe tbody tr th {\n",
       "        vertical-align: top;\n",
       "    }\n",
       "\n",
       "    .dataframe thead th {\n",
       "        text-align: right;\n",
       "    }\n",
       "</style>\n",
       "<table border=\"1\" class=\"dataframe\">\n",
       "  <thead>\n",
       "    <tr style=\"text-align: right;\">\n",
       "      <th></th>\n",
       "      <th>Yacimiento</th>\n",
       "      <th>rama_hrz_m</th>\n",
       "      <th>ctd_fracturas</th>\n",
       "      <th>arena_tn</th>\n",
       "      <th>agua_m3</th>\n",
       "    </tr>\n",
       "  </thead>\n",
       "  <tbody>\n",
       "    <tr>\n",
       "      <th>0</th>\n",
       "      <td>Loma la Lata</td>\n",
       "      <td>891.3</td>\n",
       "      <td>10</td>\n",
       "      <td>2250.32</td>\n",
       "      <td>16332.4</td>\n",
       "    </tr>\n",
       "    <tr>\n",
       "      <th>1</th>\n",
       "      <td>Loma la Lata</td>\n",
       "      <td>901.3</td>\n",
       "      <td>10</td>\n",
       "      <td>2214.63</td>\n",
       "      <td>14292.0</td>\n",
       "    </tr>\n",
       "    <tr>\n",
       "      <th>2</th>\n",
       "      <td>Loma la Lata</td>\n",
       "      <td>820.3</td>\n",
       "      <td>11</td>\n",
       "      <td>2220.80</td>\n",
       "      <td>14108.2</td>\n",
       "    </tr>\n",
       "  </tbody>\n",
       "</table>\n",
       "</div>"
      ],
      "text/plain": [
       "     Yacimiento  rama_hrz_m  ctd_fracturas  arena_tn  agua_m3\n",
       "0  Loma la Lata       891.3             10   2250.32  16332.4\n",
       "1  Loma la Lata       901.3             10   2214.63  14292.0\n",
       "2  Loma la Lata       820.3             11   2220.80  14108.2"
      ]
     },
     "execution_count": 7,
     "metadata": {},
     "output_type": "execute_result"
    }
   ],
   "source": [
    "df.head(3)"
   ]
  },
  {
   "cell_type": "markdown",
   "metadata": {},
   "source": [
    "### Aplicar una funcion a todo el dataframe"
   ]
  },
  {
   "cell_type": "code",
   "execution_count": 8,
   "metadata": {},
   "outputs": [
    {
     "data": {
      "text/html": [
       "<div>\n",
       "<style scoped>\n",
       "    .dataframe tbody tr th:only-of-type {\n",
       "        vertical-align: middle;\n",
       "    }\n",
       "\n",
       "    .dataframe tbody tr th {\n",
       "        vertical-align: top;\n",
       "    }\n",
       "\n",
       "    .dataframe thead th {\n",
       "        text-align: right;\n",
       "    }\n",
       "</style>\n",
       "<table border=\"1\" class=\"dataframe\">\n",
       "  <thead>\n",
       "    <tr style=\"text-align: right;\">\n",
       "      <th></th>\n",
       "      <th>Yacimiento</th>\n",
       "      <th>rama_hrz_m</th>\n",
       "      <th>ctd_fracturas</th>\n",
       "      <th>arena_tn</th>\n",
       "      <th>agua_m3</th>\n",
       "    </tr>\n",
       "  </thead>\n",
       "  <tbody>\n",
       "    <tr>\n",
       "      <th>0</th>\n",
       "      <td>Loma la Lata</td>\n",
       "      <td>891.3</td>\n",
       "      <td>10</td>\n",
       "      <td>2250.3</td>\n",
       "      <td>16332.4</td>\n",
       "    </tr>\n",
       "    <tr>\n",
       "      <th>1</th>\n",
       "      <td>Loma la Lata</td>\n",
       "      <td>901.3</td>\n",
       "      <td>10</td>\n",
       "      <td>2214.6</td>\n",
       "      <td>14292.0</td>\n",
       "    </tr>\n",
       "    <tr>\n",
       "      <th>2</th>\n",
       "      <td>Loma la Lata</td>\n",
       "      <td>820.3</td>\n",
       "      <td>11</td>\n",
       "      <td>2220.8</td>\n",
       "      <td>14108.2</td>\n",
       "    </tr>\n",
       "    <tr>\n",
       "      <th>3</th>\n",
       "      <td>Loma la Lata</td>\n",
       "      <td>815.1</td>\n",
       "      <td>10</td>\n",
       "      <td>1279.1</td>\n",
       "      <td>10295.9</td>\n",
       "    </tr>\n",
       "    <tr>\n",
       "      <th>4</th>\n",
       "      <td>Loma la Lata</td>\n",
       "      <td>285.3</td>\n",
       "      <td>4</td>\n",
       "      <td>681.9</td>\n",
       "      <td>3630.2</td>\n",
       "    </tr>\n",
       "  </tbody>\n",
       "</table>\n",
       "</div>"
      ],
      "text/plain": [
       "     Yacimiento  rama_hrz_m  ctd_fracturas  arena_tn  agua_m3\n",
       "0  Loma la Lata       891.3             10    2250.3  16332.4\n",
       "1  Loma la Lata       901.3             10    2214.6  14292.0\n",
       "2  Loma la Lata       820.3             11    2220.8  14108.2\n",
       "3  Loma la Lata       815.1             10    1279.1  10295.9\n",
       "4  Loma la Lata       285.3              4     681.9   3630.2"
      ]
     },
     "execution_count": 8,
     "metadata": {},
     "output_type": "execute_result"
    }
   ],
   "source": [
    "(df.round(1)).head()"
   ]
  },
  {
   "cell_type": "markdown",
   "metadata": {},
   "source": [
    "### Como obtener la información de un dataframe"
   ]
  },
  {
   "cell_type": "code",
   "execution_count": 9,
   "metadata": {},
   "outputs": [
    {
     "name": "stdout",
     "output_type": "stream",
     "text": [
      "<class 'pandas.core.frame.DataFrame'>\n",
      "RangeIndex: 181 entries, 0 to 180\n",
      "Data columns (total 5 columns):\n",
      " #   Column         Non-Null Count  Dtype  \n",
      "---  ------         --------------  -----  \n",
      " 0   Yacimiento     181 non-null    object \n",
      " 1   rama_hrz_m     181 non-null    float64\n",
      " 2   ctd_fracturas  181 non-null    int64  \n",
      " 3   arena_tn       181 non-null    float64\n",
      " 4   agua_m3        181 non-null    float64\n",
      "dtypes: float64(3), int64(1), object(1)\n",
      "memory usage: 7.2+ KB\n"
     ]
    }
   ],
   "source": [
    "df.info()"
   ]
  },
  {
   "cell_type": "markdown",
   "metadata": {},
   "source": [
    "### Como obtener la información de los campos numéricos"
   ]
  },
  {
   "cell_type": "code",
   "execution_count": 10,
   "metadata": {},
   "outputs": [
    {
     "data": {
      "text/html": [
       "<div>\n",
       "<style scoped>\n",
       "    .dataframe tbody tr th:only-of-type {\n",
       "        vertical-align: middle;\n",
       "    }\n",
       "\n",
       "    .dataframe tbody tr th {\n",
       "        vertical-align: top;\n",
       "    }\n",
       "\n",
       "    .dataframe thead th {\n",
       "        text-align: right;\n",
       "    }\n",
       "</style>\n",
       "<table border=\"1\" class=\"dataframe\">\n",
       "  <thead>\n",
       "    <tr style=\"text-align: right;\">\n",
       "      <th></th>\n",
       "      <th>rama_hrz_m</th>\n",
       "      <th>ctd_fracturas</th>\n",
       "      <th>arena_tn</th>\n",
       "      <th>agua_m3</th>\n",
       "    </tr>\n",
       "  </thead>\n",
       "  <tbody>\n",
       "    <tr>\n",
       "      <th>count</th>\n",
       "      <td>181.000000</td>\n",
       "      <td>181.000000</td>\n",
       "      <td>181.000000</td>\n",
       "      <td>181.000000</td>\n",
       "    </tr>\n",
       "    <tr>\n",
       "      <th>mean</th>\n",
       "      <td>1622.295525</td>\n",
       "      <td>21.033149</td>\n",
       "      <td>4601.358343</td>\n",
       "      <td>26639.722799</td>\n",
       "    </tr>\n",
       "    <tr>\n",
       "      <th>std</th>\n",
       "      <td>524.428179</td>\n",
       "      <td>7.591589</td>\n",
       "      <td>1760.378885</td>\n",
       "      <td>13457.301495</td>\n",
       "    </tr>\n",
       "    <tr>\n",
       "      <th>min</th>\n",
       "      <td>284.800000</td>\n",
       "      <td>4.000000</td>\n",
       "      <td>681.890000</td>\n",
       "      <td>3630.200000</td>\n",
       "    </tr>\n",
       "    <tr>\n",
       "      <th>25%</th>\n",
       "      <td>1372.500000</td>\n",
       "      <td>18.000000</td>\n",
       "      <td>3508.070000</td>\n",
       "      <td>17212.800000</td>\n",
       "    </tr>\n",
       "    <tr>\n",
       "      <th>50%</th>\n",
       "      <td>1439.800000</td>\n",
       "      <td>18.000000</td>\n",
       "      <td>4277.390000</td>\n",
       "      <td>21436.400000</td>\n",
       "    </tr>\n",
       "    <tr>\n",
       "      <th>75%</th>\n",
       "      <td>2054.300000</td>\n",
       "      <td>26.000000</td>\n",
       "      <td>5662.670000</td>\n",
       "      <td>37045.200000</td>\n",
       "    </tr>\n",
       "    <tr>\n",
       "      <th>max</th>\n",
       "      <td>3158.300000</td>\n",
       "      <td>41.000000</td>\n",
       "      <td>9591.120000</td>\n",
       "      <td>71700.200000</td>\n",
       "    </tr>\n",
       "  </tbody>\n",
       "</table>\n",
       "</div>"
      ],
      "text/plain": [
       "        rama_hrz_m  ctd_fracturas     arena_tn       agua_m3\n",
       "count   181.000000     181.000000   181.000000    181.000000\n",
       "mean   1622.295525      21.033149  4601.358343  26639.722799\n",
       "std     524.428179       7.591589  1760.378885  13457.301495\n",
       "min     284.800000       4.000000   681.890000   3630.200000\n",
       "25%    1372.500000      18.000000  3508.070000  17212.800000\n",
       "50%    1439.800000      18.000000  4277.390000  21436.400000\n",
       "75%    2054.300000      26.000000  5662.670000  37045.200000\n",
       "max    3158.300000      41.000000  9591.120000  71700.200000"
      ]
     },
     "execution_count": 10,
     "metadata": {},
     "output_type": "execute_result"
    }
   ],
   "source": [
    "df.describe()"
   ]
  },
  {
   "cell_type": "markdown",
   "metadata": {},
   "source": [
    "### Como saber cuantos valores distintos tengo"
   ]
  },
  {
   "cell_type": "code",
   "execution_count": 11,
   "metadata": {},
   "outputs": [
    {
     "data": {
      "text/plain": [
       "Yacimiento         2\n",
       "rama_hrz_m       164\n",
       "ctd_fracturas     34\n",
       "arena_tn         179\n",
       "agua_m3          181\n",
       "dtype: int64"
      ]
     },
     "execution_count": 11,
     "metadata": {},
     "output_type": "execute_result"
    }
   ],
   "source": [
    "df.nunique(axis=0)"
   ]
  },
  {
   "cell_type": "markdown",
   "metadata": {},
   "source": [
    "### Como saber que se tienen campos en nulo"
   ]
  },
  {
   "cell_type": "code",
   "execution_count": 12,
   "metadata": {},
   "outputs": [
    {
     "data": {
      "text/plain": [
       "Yacimiento       0\n",
       "rama_hrz_m       0\n",
       "ctd_fracturas    0\n",
       "arena_tn         0\n",
       "agua_m3          0\n",
       "dtype: int64"
      ]
     },
     "execution_count": 12,
     "metadata": {},
     "output_type": "execute_result"
    }
   ],
   "source": [
    "df.isnull().sum()"
   ]
  },
  {
   "cell_type": "markdown",
   "metadata": {},
   "source": [
    "### Como seleccionar algunas columnas en un nuevo dataframe"
   ]
  },
  {
   "cell_type": "code",
   "execution_count": 13,
   "metadata": {},
   "outputs": [],
   "source": [
    "df_Reduced = df[['Yacimiento', 'rama_hrz_m','ctd_fracturas']]"
   ]
  },
  {
   "cell_type": "code",
   "execution_count": 14,
   "metadata": {},
   "outputs": [
    {
     "data": {
      "text/html": [
       "<div>\n",
       "<style scoped>\n",
       "    .dataframe tbody tr th:only-of-type {\n",
       "        vertical-align: middle;\n",
       "    }\n",
       "\n",
       "    .dataframe tbody tr th {\n",
       "        vertical-align: top;\n",
       "    }\n",
       "\n",
       "    .dataframe thead th {\n",
       "        text-align: right;\n",
       "    }\n",
       "</style>\n",
       "<table border=\"1\" class=\"dataframe\">\n",
       "  <thead>\n",
       "    <tr style=\"text-align: right;\">\n",
       "      <th></th>\n",
       "      <th>Yacimiento</th>\n",
       "      <th>rama_hrz_m</th>\n",
       "      <th>ctd_fracturas</th>\n",
       "    </tr>\n",
       "  </thead>\n",
       "  <tbody>\n",
       "    <tr>\n",
       "      <th>0</th>\n",
       "      <td>Loma la Lata</td>\n",
       "      <td>891.3</td>\n",
       "      <td>10</td>\n",
       "    </tr>\n",
       "    <tr>\n",
       "      <th>1</th>\n",
       "      <td>Loma la Lata</td>\n",
       "      <td>901.3</td>\n",
       "      <td>10</td>\n",
       "    </tr>\n",
       "    <tr>\n",
       "      <th>2</th>\n",
       "      <td>Loma la Lata</td>\n",
       "      <td>820.3</td>\n",
       "      <td>11</td>\n",
       "    </tr>\n",
       "  </tbody>\n",
       "</table>\n",
       "</div>"
      ],
      "text/plain": [
       "     Yacimiento  rama_hrz_m  ctd_fracturas\n",
       "0  Loma la Lata       891.3             10\n",
       "1  Loma la Lata       901.3             10\n",
       "2  Loma la Lata       820.3             11"
      ]
     },
     "execution_count": 14,
     "metadata": {},
     "output_type": "execute_result"
    }
   ],
   "source": [
    "df_Reduced.head(3)"
   ]
  },
  {
   "cell_type": "markdown",
   "metadata": {},
   "source": [
    "### Ver info of tipo de campo"
   ]
  },
  {
   "cell_type": "code",
   "execution_count": 15,
   "metadata": {},
   "outputs": [
    {
     "name": "stdout",
     "output_type": "stream",
     "text": [
      "<class 'pandas.core.frame.DataFrame'>\n",
      "RangeIndex: 181 entries, 0 to 180\n",
      "Data columns (total 5 columns):\n",
      " #   Column         Non-Null Count  Dtype  \n",
      "---  ------         --------------  -----  \n",
      " 0   Yacimiento     181 non-null    object \n",
      " 1   rama_hrz_m     181 non-null    float64\n",
      " 2   ctd_fracturas  181 non-null    int64  \n",
      " 3   arena_tn       181 non-null    float64\n",
      " 4   agua_m3        181 non-null    float64\n",
      "dtypes: float64(3), int64(1), object(1)\n",
      "memory usage: 7.2+ KB\n"
     ]
    }
   ],
   "source": [
    "df.info()"
   ]
  },
  {
   "cell_type": "code",
   "execution_count": 16,
   "metadata": {},
   "outputs": [
    {
     "data": {
      "text/html": [
       "<div>\n",
       "<style scoped>\n",
       "    .dataframe tbody tr th:only-of-type {\n",
       "        vertical-align: middle;\n",
       "    }\n",
       "\n",
       "    .dataframe tbody tr th {\n",
       "        vertical-align: top;\n",
       "    }\n",
       "\n",
       "    .dataframe thead th {\n",
       "        text-align: right;\n",
       "    }\n",
       "</style>\n",
       "<table border=\"1\" class=\"dataframe\">\n",
       "  <thead>\n",
       "    <tr style=\"text-align: right;\">\n",
       "      <th></th>\n",
       "      <th>rama_hrz_m</th>\n",
       "      <th>arena_tn</th>\n",
       "      <th>agua_m3</th>\n",
       "    </tr>\n",
       "  </thead>\n",
       "  <tbody>\n",
       "    <tr>\n",
       "      <th>0</th>\n",
       "      <td>891.3</td>\n",
       "      <td>2250.32</td>\n",
       "      <td>16332.4</td>\n",
       "    </tr>\n",
       "    <tr>\n",
       "      <th>1</th>\n",
       "      <td>901.3</td>\n",
       "      <td>2214.63</td>\n",
       "      <td>14292.0</td>\n",
       "    </tr>\n",
       "    <tr>\n",
       "      <th>2</th>\n",
       "      <td>820.3</td>\n",
       "      <td>2220.80</td>\n",
       "      <td>14108.2</td>\n",
       "    </tr>\n",
       "  </tbody>\n",
       "</table>\n",
       "</div>"
      ],
      "text/plain": [
       "   rama_hrz_m  arena_tn  agua_m3\n",
       "0       891.3   2250.32  16332.4\n",
       "1       901.3   2214.63  14292.0\n",
       "2       820.3   2220.80  14108.2"
      ]
     },
     "execution_count": 16,
     "metadata": {},
     "output_type": "execute_result"
    }
   ],
   "source": [
    "df.select_dtypes(include = ['float']).head(3)"
   ]
  },
  {
   "cell_type": "code",
   "execution_count": 17,
   "metadata": {},
   "outputs": [
    {
     "data": {
      "text/html": [
       "<div>\n",
       "<style scoped>\n",
       "    .dataframe tbody tr th:only-of-type {\n",
       "        vertical-align: middle;\n",
       "    }\n",
       "\n",
       "    .dataframe tbody tr th {\n",
       "        vertical-align: top;\n",
       "    }\n",
       "\n",
       "    .dataframe thead th {\n",
       "        text-align: right;\n",
       "    }\n",
       "</style>\n",
       "<table border=\"1\" class=\"dataframe\">\n",
       "  <thead>\n",
       "    <tr style=\"text-align: right;\">\n",
       "      <th></th>\n",
       "      <th>ctd_fracturas</th>\n",
       "    </tr>\n",
       "  </thead>\n",
       "  <tbody>\n",
       "    <tr>\n",
       "      <th>0</th>\n",
       "      <td>10</td>\n",
       "    </tr>\n",
       "    <tr>\n",
       "      <th>1</th>\n",
       "      <td>10</td>\n",
       "    </tr>\n",
       "    <tr>\n",
       "      <th>2</th>\n",
       "      <td>11</td>\n",
       "    </tr>\n",
       "  </tbody>\n",
       "</table>\n",
       "</div>"
      ],
      "text/plain": [
       "   ctd_fracturas\n",
       "0             10\n",
       "1             10\n",
       "2             11"
      ]
     },
     "execution_count": 17,
     "metadata": {},
     "output_type": "execute_result"
    }
   ],
   "source": [
    "df.select_dtypes(include = ['int64']).head(3)"
   ]
  },
  {
   "cell_type": "markdown",
   "metadata": {},
   "source": [
    "### Como cambiar el orden de las columnas"
   ]
  },
  {
   "cell_type": "code",
   "execution_count": 18,
   "metadata": {},
   "outputs": [],
   "source": [
    "df_OrderNew = df[['Yacimiento', 'ctd_fracturas', 'rama_hrz_m', 'arena_tn', 'agua_m3']]"
   ]
  },
  {
   "cell_type": "code",
   "execution_count": 19,
   "metadata": {},
   "outputs": [
    {
     "data": {
      "text/html": [
       "<div>\n",
       "<style scoped>\n",
       "    .dataframe tbody tr th:only-of-type {\n",
       "        vertical-align: middle;\n",
       "    }\n",
       "\n",
       "    .dataframe tbody tr th {\n",
       "        vertical-align: top;\n",
       "    }\n",
       "\n",
       "    .dataframe thead th {\n",
       "        text-align: right;\n",
       "    }\n",
       "</style>\n",
       "<table border=\"1\" class=\"dataframe\">\n",
       "  <thead>\n",
       "    <tr style=\"text-align: right;\">\n",
       "      <th></th>\n",
       "      <th>Yacimiento</th>\n",
       "      <th>ctd_fracturas</th>\n",
       "      <th>rama_hrz_m</th>\n",
       "      <th>arena_tn</th>\n",
       "      <th>agua_m3</th>\n",
       "    </tr>\n",
       "  </thead>\n",
       "  <tbody>\n",
       "    <tr>\n",
       "      <th>0</th>\n",
       "      <td>Loma la Lata</td>\n",
       "      <td>10</td>\n",
       "      <td>891.3</td>\n",
       "      <td>2250.32</td>\n",
       "      <td>16332.4</td>\n",
       "    </tr>\n",
       "    <tr>\n",
       "      <th>1</th>\n",
       "      <td>Loma la Lata</td>\n",
       "      <td>10</td>\n",
       "      <td>901.3</td>\n",
       "      <td>2214.63</td>\n",
       "      <td>14292.0</td>\n",
       "    </tr>\n",
       "    <tr>\n",
       "      <th>2</th>\n",
       "      <td>Loma la Lata</td>\n",
       "      <td>11</td>\n",
       "      <td>820.3</td>\n",
       "      <td>2220.80</td>\n",
       "      <td>14108.2</td>\n",
       "    </tr>\n",
       "  </tbody>\n",
       "</table>\n",
       "</div>"
      ],
      "text/plain": [
       "     Yacimiento  ctd_fracturas  rama_hrz_m  arena_tn  agua_m3\n",
       "0  Loma la Lata             10       891.3   2250.32  16332.4\n",
       "1  Loma la Lata             10       901.3   2214.63  14292.0\n",
       "2  Loma la Lata             11       820.3   2220.80  14108.2"
      ]
     },
     "execution_count": 19,
     "metadata": {},
     "output_type": "execute_result"
    }
   ],
   "source": [
    "df_OrderNew.head(3)"
   ]
  },
  {
   "cell_type": "markdown",
   "metadata": {},
   "source": [
    "### Diversos tipos de busqueda en el dataframe"
   ]
  },
  {
   "cell_type": "code",
   "execution_count": 20,
   "metadata": {},
   "outputs": [
    {
     "data": {
      "text/html": [
       "<div>\n",
       "<style scoped>\n",
       "    .dataframe tbody tr th:only-of-type {\n",
       "        vertical-align: middle;\n",
       "    }\n",
       "\n",
       "    .dataframe tbody tr th {\n",
       "        vertical-align: top;\n",
       "    }\n",
       "\n",
       "    .dataframe thead th {\n",
       "        text-align: right;\n",
       "    }\n",
       "</style>\n",
       "<table border=\"1\" class=\"dataframe\">\n",
       "  <thead>\n",
       "    <tr style=\"text-align: right;\">\n",
       "      <th></th>\n",
       "      <th>Yacimiento</th>\n",
       "      <th>rama_hrz_m</th>\n",
       "      <th>ctd_fracturas</th>\n",
       "      <th>arena_tn</th>\n",
       "      <th>agua_m3</th>\n",
       "    </tr>\n",
       "  </thead>\n",
       "  <tbody>\n",
       "    <tr>\n",
       "      <th>0</th>\n",
       "      <td>Loma la Lata</td>\n",
       "      <td>891.3</td>\n",
       "      <td>10</td>\n",
       "      <td>2250.32</td>\n",
       "      <td>16332.4</td>\n",
       "    </tr>\n",
       "    <tr>\n",
       "      <th>1</th>\n",
       "      <td>Loma la Lata</td>\n",
       "      <td>901.3</td>\n",
       "      <td>10</td>\n",
       "      <td>2214.63</td>\n",
       "      <td>14292.0</td>\n",
       "    </tr>\n",
       "    <tr>\n",
       "      <th>3</th>\n",
       "      <td>Loma la Lata</td>\n",
       "      <td>815.1</td>\n",
       "      <td>10</td>\n",
       "      <td>1279.13</td>\n",
       "      <td>10295.9</td>\n",
       "    </tr>\n",
       "    <tr>\n",
       "      <th>7</th>\n",
       "      <td>Loma la Lata</td>\n",
       "      <td>1087.8</td>\n",
       "      <td>10</td>\n",
       "      <td>2276.82</td>\n",
       "      <td>9982.0</td>\n",
       "    </tr>\n",
       "    <tr>\n",
       "      <th>97</th>\n",
       "      <td>Loma Campana</td>\n",
       "      <td>934.3</td>\n",
       "      <td>10</td>\n",
       "      <td>2228.72</td>\n",
       "      <td>17456.3</td>\n",
       "    </tr>\n",
       "  </tbody>\n",
       "</table>\n",
       "</div>"
      ],
      "text/plain": [
       "      Yacimiento  rama_hrz_m  ctd_fracturas  arena_tn  agua_m3\n",
       "0   Loma la Lata       891.3             10   2250.32  16332.4\n",
       "1   Loma la Lata       901.3             10   2214.63  14292.0\n",
       "3   Loma la Lata       815.1             10   1279.13  10295.9\n",
       "7   Loma la Lata      1087.8             10   2276.82   9982.0\n",
       "97  Loma Campana       934.3             10   2228.72  17456.3"
      ]
     },
     "execution_count": 20,
     "metadata": {},
     "output_type": "execute_result"
    }
   ],
   "source": [
    "df.loc[df['ctd_fracturas'] == 10]"
   ]
  },
  {
   "cell_type": "code",
   "execution_count": 21,
   "metadata": {},
   "outputs": [
    {
     "data": {
      "text/plain": [
       "0       True\n",
       "1       True\n",
       "2      False\n",
       "3       True\n",
       "4      False\n",
       "       ...  \n",
       "176    False\n",
       "177    False\n",
       "178    False\n",
       "179    False\n",
       "180    False\n",
       "Name: ctd_fracturas, Length: 181, dtype: bool"
      ]
     },
     "execution_count": 21,
     "metadata": {},
     "output_type": "execute_result"
    }
   ],
   "source": [
    "df['ctd_fracturas'] == 10"
   ]
  },
  {
   "cell_type": "code",
   "execution_count": 22,
   "metadata": {},
   "outputs": [
    {
     "data": {
      "text/html": [
       "<div>\n",
       "<style scoped>\n",
       "    .dataframe tbody tr th:only-of-type {\n",
       "        vertical-align: middle;\n",
       "    }\n",
       "\n",
       "    .dataframe tbody tr th {\n",
       "        vertical-align: top;\n",
       "    }\n",
       "\n",
       "    .dataframe thead th {\n",
       "        text-align: right;\n",
       "    }\n",
       "</style>\n",
       "<table border=\"1\" class=\"dataframe\">\n",
       "  <thead>\n",
       "    <tr style=\"text-align: right;\">\n",
       "      <th></th>\n",
       "      <th>Yacimiento</th>\n",
       "      <th>rama_hrz_m</th>\n",
       "      <th>ctd_fracturas</th>\n",
       "      <th>arena_tn</th>\n",
       "      <th>agua_m3</th>\n",
       "    </tr>\n",
       "  </thead>\n",
       "  <tbody>\n",
       "    <tr>\n",
       "      <th>2</th>\n",
       "      <td>Loma la Lata</td>\n",
       "      <td>820.3</td>\n",
       "      <td>11</td>\n",
       "      <td>2220.80</td>\n",
       "      <td>14108.20</td>\n",
       "    </tr>\n",
       "    <tr>\n",
       "      <th>4</th>\n",
       "      <td>Loma la Lata</td>\n",
       "      <td>285.3</td>\n",
       "      <td>4</td>\n",
       "      <td>681.89</td>\n",
       "      <td>3630.20</td>\n",
       "    </tr>\n",
       "    <tr>\n",
       "      <th>5</th>\n",
       "      <td>Loma la Lata</td>\n",
       "      <td>1131.7</td>\n",
       "      <td>14</td>\n",
       "      <td>3115.53</td>\n",
       "      <td>14075.62</td>\n",
       "    </tr>\n",
       "    <tr>\n",
       "      <th>6</th>\n",
       "      <td>Loma la Lata</td>\n",
       "      <td>1112.9</td>\n",
       "      <td>14</td>\n",
       "      <td>3167.51</td>\n",
       "      <td>14130.70</td>\n",
       "    </tr>\n",
       "    <tr>\n",
       "      <th>8</th>\n",
       "      <td>Loma la Lata</td>\n",
       "      <td>1197.9</td>\n",
       "      <td>15</td>\n",
       "      <td>3702.15</td>\n",
       "      <td>17112.00</td>\n",
       "    </tr>\n",
       "  </tbody>\n",
       "</table>\n",
       "</div>"
      ],
      "text/plain": [
       "     Yacimiento  rama_hrz_m  ctd_fracturas  arena_tn   agua_m3\n",
       "2  Loma la Lata       820.3             11   2220.80  14108.20\n",
       "4  Loma la Lata       285.3              4    681.89   3630.20\n",
       "5  Loma la Lata      1131.7             14   3115.53  14075.62\n",
       "6  Loma la Lata      1112.9             14   3167.51  14130.70\n",
       "8  Loma la Lata      1197.9             15   3702.15  17112.00"
      ]
     },
     "execution_count": 22,
     "metadata": {},
     "output_type": "execute_result"
    }
   ],
   "source": [
    "df.loc[df['ctd_fracturas'] != 10].head(5)"
   ]
  },
  {
   "cell_type": "code",
   "execution_count": 23,
   "metadata": {},
   "outputs": [
    {
     "data": {
      "text/html": [
       "<div>\n",
       "<style scoped>\n",
       "    .dataframe tbody tr th:only-of-type {\n",
       "        vertical-align: middle;\n",
       "    }\n",
       "\n",
       "    .dataframe tbody tr th {\n",
       "        vertical-align: top;\n",
       "    }\n",
       "\n",
       "    .dataframe thead th {\n",
       "        text-align: right;\n",
       "    }\n",
       "</style>\n",
       "<table border=\"1\" class=\"dataframe\">\n",
       "  <thead>\n",
       "    <tr style=\"text-align: right;\">\n",
       "      <th></th>\n",
       "      <th>Yacimiento</th>\n",
       "      <th>rama_hrz_m</th>\n",
       "      <th>ctd_fracturas</th>\n",
       "      <th>arena_tn</th>\n",
       "      <th>agua_m3</th>\n",
       "    </tr>\n",
       "  </thead>\n",
       "  <tbody>\n",
       "    <tr>\n",
       "      <th>0</th>\n",
       "      <td>Loma la Lata</td>\n",
       "      <td>891.3</td>\n",
       "      <td>10</td>\n",
       "      <td>2250.32</td>\n",
       "      <td>16332.4</td>\n",
       "    </tr>\n",
       "    <tr>\n",
       "      <th>1</th>\n",
       "      <td>Loma la Lata</td>\n",
       "      <td>901.3</td>\n",
       "      <td>10</td>\n",
       "      <td>2214.63</td>\n",
       "      <td>14292.0</td>\n",
       "    </tr>\n",
       "    <tr>\n",
       "      <th>3</th>\n",
       "      <td>Loma la Lata</td>\n",
       "      <td>815.1</td>\n",
       "      <td>10</td>\n",
       "      <td>1279.13</td>\n",
       "      <td>10295.9</td>\n",
       "    </tr>\n",
       "    <tr>\n",
       "      <th>7</th>\n",
       "      <td>Loma la Lata</td>\n",
       "      <td>1087.8</td>\n",
       "      <td>10</td>\n",
       "      <td>2276.82</td>\n",
       "      <td>9982.0</td>\n",
       "    </tr>\n",
       "    <tr>\n",
       "      <th>97</th>\n",
       "      <td>Loma Campana</td>\n",
       "      <td>934.3</td>\n",
       "      <td>10</td>\n",
       "      <td>2228.72</td>\n",
       "      <td>17456.3</td>\n",
       "    </tr>\n",
       "  </tbody>\n",
       "</table>\n",
       "</div>"
      ],
      "text/plain": [
       "      Yacimiento  rama_hrz_m  ctd_fracturas  arena_tn  agua_m3\n",
       "0   Loma la Lata       891.3             10   2250.32  16332.4\n",
       "1   Loma la Lata       901.3             10   2214.63  14292.0\n",
       "3   Loma la Lata       815.1             10   1279.13  10295.9\n",
       "7   Loma la Lata      1087.8             10   2276.82   9982.0\n",
       "97  Loma Campana       934.3             10   2228.72  17456.3"
      ]
     },
     "execution_count": 23,
     "metadata": {},
     "output_type": "execute_result"
    }
   ],
   "source": [
    "df.loc[df['ctd_fracturas'].isin([10])]"
   ]
  },
  {
   "cell_type": "code",
   "execution_count": 24,
   "metadata": {},
   "outputs": [
    {
     "data": {
      "text/html": [
       "<div>\n",
       "<style scoped>\n",
       "    .dataframe tbody tr th:only-of-type {\n",
       "        vertical-align: middle;\n",
       "    }\n",
       "\n",
       "    .dataframe tbody tr th {\n",
       "        vertical-align: top;\n",
       "    }\n",
       "\n",
       "    .dataframe thead th {\n",
       "        text-align: right;\n",
       "    }\n",
       "</style>\n",
       "<table border=\"1\" class=\"dataframe\">\n",
       "  <thead>\n",
       "    <tr style=\"text-align: right;\">\n",
       "      <th></th>\n",
       "      <th>Yacimiento</th>\n",
       "      <th>rama_hrz_m</th>\n",
       "      <th>ctd_fracturas</th>\n",
       "      <th>arena_tn</th>\n",
       "      <th>agua_m3</th>\n",
       "    </tr>\n",
       "  </thead>\n",
       "  <tbody>\n",
       "    <tr>\n",
       "      <th>0</th>\n",
       "      <td>Loma la Lata</td>\n",
       "      <td>891.3</td>\n",
       "      <td>10</td>\n",
       "      <td>2250.32</td>\n",
       "      <td>16332.400000</td>\n",
       "    </tr>\n",
       "    <tr>\n",
       "      <th>1</th>\n",
       "      <td>Loma la Lata</td>\n",
       "      <td>901.3</td>\n",
       "      <td>10</td>\n",
       "      <td>2214.63</td>\n",
       "      <td>14292.000000</td>\n",
       "    </tr>\n",
       "    <tr>\n",
       "      <th>2</th>\n",
       "      <td>Loma la Lata</td>\n",
       "      <td>820.3</td>\n",
       "      <td>11</td>\n",
       "      <td>2220.80</td>\n",
       "      <td>14108.200000</td>\n",
       "    </tr>\n",
       "    <tr>\n",
       "      <th>3</th>\n",
       "      <td>Loma la Lata</td>\n",
       "      <td>815.1</td>\n",
       "      <td>10</td>\n",
       "      <td>1279.13</td>\n",
       "      <td>10295.900000</td>\n",
       "    </tr>\n",
       "    <tr>\n",
       "      <th>7</th>\n",
       "      <td>Loma la Lata</td>\n",
       "      <td>1087.8</td>\n",
       "      <td>10</td>\n",
       "      <td>2276.82</td>\n",
       "      <td>9982.000000</td>\n",
       "    </tr>\n",
       "    <tr>\n",
       "      <th>97</th>\n",
       "      <td>Loma Campana</td>\n",
       "      <td>934.3</td>\n",
       "      <td>10</td>\n",
       "      <td>2228.72</td>\n",
       "      <td>17456.300000</td>\n",
       "    </tr>\n",
       "    <tr>\n",
       "      <th>117</th>\n",
       "      <td>Loma Campana</td>\n",
       "      <td>942.3</td>\n",
       "      <td>12</td>\n",
       "      <td>2727.14</td>\n",
       "      <td>11479.214894</td>\n",
       "    </tr>\n",
       "  </tbody>\n",
       "</table>\n",
       "</div>"
      ],
      "text/plain": [
       "       Yacimiento  rama_hrz_m  ctd_fracturas  arena_tn       agua_m3\n",
       "0    Loma la Lata       891.3             10   2250.32  16332.400000\n",
       "1    Loma la Lata       901.3             10   2214.63  14292.000000\n",
       "2    Loma la Lata       820.3             11   2220.80  14108.200000\n",
       "3    Loma la Lata       815.1             10   1279.13  10295.900000\n",
       "7    Loma la Lata      1087.8             10   2276.82   9982.000000\n",
       "97   Loma Campana       934.3             10   2228.72  17456.300000\n",
       "117  Loma Campana       942.3             12   2727.14  11479.214894"
      ]
     },
     "execution_count": 24,
     "metadata": {},
     "output_type": "execute_result"
    }
   ],
   "source": [
    "df.loc[df['ctd_fracturas'].isin([10,11,12])]"
   ]
  },
  {
   "cell_type": "code",
   "execution_count": 25,
   "metadata": {},
   "outputs": [
    {
     "data": {
      "text/html": [
       "<div>\n",
       "<style scoped>\n",
       "    .dataframe tbody tr th:only-of-type {\n",
       "        vertical-align: middle;\n",
       "    }\n",
       "\n",
       "    .dataframe tbody tr th {\n",
       "        vertical-align: top;\n",
       "    }\n",
       "\n",
       "    .dataframe thead th {\n",
       "        text-align: right;\n",
       "    }\n",
       "</style>\n",
       "<table border=\"1\" class=\"dataframe\">\n",
       "  <thead>\n",
       "    <tr style=\"text-align: right;\">\n",
       "      <th></th>\n",
       "      <th>Yacimiento</th>\n",
       "      <th>rama_hrz_m</th>\n",
       "      <th>ctd_fracturas</th>\n",
       "      <th>arena_tn</th>\n",
       "      <th>agua_m3</th>\n",
       "    </tr>\n",
       "  </thead>\n",
       "  <tbody>\n",
       "    <tr>\n",
       "      <th>0</th>\n",
       "      <td>Loma la Lata</td>\n",
       "      <td>891.3</td>\n",
       "      <td>10</td>\n",
       "      <td>2250.32</td>\n",
       "      <td>16332.400000</td>\n",
       "    </tr>\n",
       "    <tr>\n",
       "      <th>1</th>\n",
       "      <td>Loma la Lata</td>\n",
       "      <td>901.3</td>\n",
       "      <td>10</td>\n",
       "      <td>2214.63</td>\n",
       "      <td>14292.000000</td>\n",
       "    </tr>\n",
       "    <tr>\n",
       "      <th>2</th>\n",
       "      <td>Loma la Lata</td>\n",
       "      <td>820.3</td>\n",
       "      <td>11</td>\n",
       "      <td>2220.80</td>\n",
       "      <td>14108.200000</td>\n",
       "    </tr>\n",
       "    <tr>\n",
       "      <th>3</th>\n",
       "      <td>Loma la Lata</td>\n",
       "      <td>815.1</td>\n",
       "      <td>10</td>\n",
       "      <td>1279.13</td>\n",
       "      <td>10295.900000</td>\n",
       "    </tr>\n",
       "    <tr>\n",
       "      <th>7</th>\n",
       "      <td>Loma la Lata</td>\n",
       "      <td>1087.8</td>\n",
       "      <td>10</td>\n",
       "      <td>2276.82</td>\n",
       "      <td>9982.000000</td>\n",
       "    </tr>\n",
       "    <tr>\n",
       "      <th>97</th>\n",
       "      <td>Loma Campana</td>\n",
       "      <td>934.3</td>\n",
       "      <td>10</td>\n",
       "      <td>2228.72</td>\n",
       "      <td>17456.300000</td>\n",
       "    </tr>\n",
       "    <tr>\n",
       "      <th>117</th>\n",
       "      <td>Loma Campana</td>\n",
       "      <td>942.3</td>\n",
       "      <td>12</td>\n",
       "      <td>2727.14</td>\n",
       "      <td>11479.214894</td>\n",
       "    </tr>\n",
       "  </tbody>\n",
       "</table>\n",
       "</div>"
      ],
      "text/plain": [
       "       Yacimiento  rama_hrz_m  ctd_fracturas  arena_tn       agua_m3\n",
       "0    Loma la Lata       891.3             10   2250.32  16332.400000\n",
       "1    Loma la Lata       901.3             10   2214.63  14292.000000\n",
       "2    Loma la Lata       820.3             11   2220.80  14108.200000\n",
       "3    Loma la Lata       815.1             10   1279.13  10295.900000\n",
       "7    Loma la Lata      1087.8             10   2276.82   9982.000000\n",
       "97   Loma Campana       934.3             10   2228.72  17456.300000\n",
       "117  Loma Campana       942.3             12   2727.14  11479.214894"
      ]
     },
     "execution_count": 25,
     "metadata": {},
     "output_type": "execute_result"
    }
   ],
   "source": [
    "df.loc[(df['ctd_fracturas'] >= 10) & (df['ctd_fracturas'] <= 12)]"
   ]
  },
  {
   "cell_type": "code",
   "execution_count": 26,
   "metadata": {},
   "outputs": [
    {
     "data": {
      "text/html": [
       "<div>\n",
       "<style scoped>\n",
       "    .dataframe tbody tr th:only-of-type {\n",
       "        vertical-align: middle;\n",
       "    }\n",
       "\n",
       "    .dataframe tbody tr th {\n",
       "        vertical-align: top;\n",
       "    }\n",
       "\n",
       "    .dataframe thead th {\n",
       "        text-align: right;\n",
       "    }\n",
       "</style>\n",
       "<table border=\"1\" class=\"dataframe\">\n",
       "  <thead>\n",
       "    <tr style=\"text-align: right;\">\n",
       "      <th></th>\n",
       "      <th>Yacimiento</th>\n",
       "      <th>rama_hrz_m</th>\n",
       "      <th>ctd_fracturas</th>\n",
       "      <th>arena_tn</th>\n",
       "      <th>agua_m3</th>\n",
       "    </tr>\n",
       "  </thead>\n",
       "  <tbody>\n",
       "    <tr>\n",
       "      <th>0</th>\n",
       "      <td>Loma la Lata</td>\n",
       "      <td>891.3</td>\n",
       "      <td>10</td>\n",
       "      <td>2250.32</td>\n",
       "      <td>16332.4</td>\n",
       "    </tr>\n",
       "    <tr>\n",
       "      <th>1</th>\n",
       "      <td>Loma la Lata</td>\n",
       "      <td>901.3</td>\n",
       "      <td>10</td>\n",
       "      <td>2214.63</td>\n",
       "      <td>14292.0</td>\n",
       "    </tr>\n",
       "    <tr>\n",
       "      <th>3</th>\n",
       "      <td>Loma la Lata</td>\n",
       "      <td>815.1</td>\n",
       "      <td>10</td>\n",
       "      <td>1279.13</td>\n",
       "      <td>10295.9</td>\n",
       "    </tr>\n",
       "    <tr>\n",
       "      <th>7</th>\n",
       "      <td>Loma la Lata</td>\n",
       "      <td>1087.8</td>\n",
       "      <td>10</td>\n",
       "      <td>2276.82</td>\n",
       "      <td>9982.0</td>\n",
       "    </tr>\n",
       "    <tr>\n",
       "      <th>97</th>\n",
       "      <td>Loma Campana</td>\n",
       "      <td>934.3</td>\n",
       "      <td>10</td>\n",
       "      <td>2228.72</td>\n",
       "      <td>17456.3</td>\n",
       "    </tr>\n",
       "  </tbody>\n",
       "</table>\n",
       "</div>"
      ],
      "text/plain": [
       "      Yacimiento  rama_hrz_m  ctd_fracturas  arena_tn  agua_m3\n",
       "0   Loma la Lata       891.3             10   2250.32  16332.4\n",
       "1   Loma la Lata       901.3             10   2214.63  14292.0\n",
       "3   Loma la Lata       815.1             10   1279.13  10295.9\n",
       "7   Loma la Lata      1087.8             10   2276.82   9982.0\n",
       "97  Loma Campana       934.3             10   2228.72  17456.3"
      ]
     },
     "execution_count": 26,
     "metadata": {},
     "output_type": "execute_result"
    }
   ],
   "source": [
    "df.query('ctd_fracturas == 10')"
   ]
  },
  {
   "cell_type": "code",
   "execution_count": 27,
   "metadata": {},
   "outputs": [
    {
     "name": "stdout",
     "output_type": "stream",
     "text": [
      "358 µs ± 4.66 µs per loop (mean ± std. dev. of 7 runs, 1000 loops each)\n",
      "641 µs ± 22.5 µs per loop (mean ± std. dev. of 7 runs, 1000 loops each)\n"
     ]
    }
   ],
   "source": [
    "%timeit mask = df.loc[df['ctd_fracturas'].isin([10,11,12])]\n",
    "%timeit mask = df.loc[(df['ctd_fracturas'] >= 10) & (df['ctd_fracturas'] <= 12)]"
   ]
  },
  {
   "cell_type": "code",
   "execution_count": 28,
   "metadata": {},
   "outputs": [
    {
     "data": {
      "text/html": [
       "<div>\n",
       "<style scoped>\n",
       "    .dataframe tbody tr th:only-of-type {\n",
       "        vertical-align: middle;\n",
       "    }\n",
       "\n",
       "    .dataframe tbody tr th {\n",
       "        vertical-align: top;\n",
       "    }\n",
       "\n",
       "    .dataframe thead th {\n",
       "        text-align: right;\n",
       "    }\n",
       "</style>\n",
       "<table border=\"1\" class=\"dataframe\">\n",
       "  <thead>\n",
       "    <tr style=\"text-align: right;\">\n",
       "      <th></th>\n",
       "      <th>Yacimiento</th>\n",
       "      <th>rama_hrz_m</th>\n",
       "      <th>ctd_fracturas</th>\n",
       "      <th>arena_tn</th>\n",
       "      <th>agua_m3</th>\n",
       "    </tr>\n",
       "  </thead>\n",
       "  <tbody>\n",
       "    <tr>\n",
       "      <th>97</th>\n",
       "      <td>Loma Campana</td>\n",
       "      <td>934.3</td>\n",
       "      <td>10</td>\n",
       "      <td>2228.72</td>\n",
       "      <td>17456.3</td>\n",
       "    </tr>\n",
       "    <tr>\n",
       "      <th>98</th>\n",
       "      <td>Loma Campana</td>\n",
       "      <td>1401.5</td>\n",
       "      <td>19</td>\n",
       "      <td>3718.67</td>\n",
       "      <td>19978.6</td>\n",
       "    </tr>\n",
       "    <tr>\n",
       "      <th>99</th>\n",
       "      <td>Loma Campana</td>\n",
       "      <td>1197.5</td>\n",
       "      <td>15</td>\n",
       "      <td>3292.65</td>\n",
       "      <td>15950.4</td>\n",
       "    </tr>\n",
       "    <tr>\n",
       "      <th>100</th>\n",
       "      <td>Loma Campana</td>\n",
       "      <td>1094.3</td>\n",
       "      <td>15</td>\n",
       "      <td>3620.52</td>\n",
       "      <td>11836.0</td>\n",
       "    </tr>\n",
       "    <tr>\n",
       "      <th>101</th>\n",
       "      <td>Loma Campana</td>\n",
       "      <td>1198.6</td>\n",
       "      <td>15</td>\n",
       "      <td>3720.24</td>\n",
       "      <td>14301.0</td>\n",
       "    </tr>\n",
       "  </tbody>\n",
       "</table>\n",
       "</div>"
      ],
      "text/plain": [
       "       Yacimiento  rama_hrz_m  ctd_fracturas  arena_tn  agua_m3\n",
       "97   Loma Campana       934.3             10   2228.72  17456.3\n",
       "98   Loma Campana      1401.5             19   3718.67  19978.6\n",
       "99   Loma Campana      1197.5             15   3292.65  15950.4\n",
       "100  Loma Campana      1094.3             15   3620.52  11836.0\n",
       "101  Loma Campana      1198.6             15   3720.24  14301.0"
      ]
     },
     "execution_count": 28,
     "metadata": {},
     "output_type": "execute_result"
    }
   ],
   "source": [
    "df[df['Yacimiento'].str.contains(\"Campana\")].head(5)"
   ]
  },
  {
   "cell_type": "code",
   "execution_count": 29,
   "metadata": {},
   "outputs": [
    {
     "data": {
      "text/html": [
       "<div>\n",
       "<style scoped>\n",
       "    .dataframe tbody tr th:only-of-type {\n",
       "        vertical-align: middle;\n",
       "    }\n",
       "\n",
       "    .dataframe tbody tr th {\n",
       "        vertical-align: top;\n",
       "    }\n",
       "\n",
       "    .dataframe thead th {\n",
       "        text-align: right;\n",
       "    }\n",
       "</style>\n",
       "<table border=\"1\" class=\"dataframe\">\n",
       "  <thead>\n",
       "    <tr style=\"text-align: right;\">\n",
       "      <th></th>\n",
       "      <th>Yacimiento</th>\n",
       "      <th>rama_hrz_m</th>\n",
       "      <th>ctd_fracturas</th>\n",
       "      <th>arena_tn</th>\n",
       "      <th>agua_m3</th>\n",
       "    </tr>\n",
       "  </thead>\n",
       "  <tbody>\n",
       "    <tr>\n",
       "      <th>0</th>\n",
       "      <td>Loma la Lata</td>\n",
       "      <td>891.3</td>\n",
       "      <td>10</td>\n",
       "      <td>2250.32</td>\n",
       "      <td>16332.400</td>\n",
       "    </tr>\n",
       "    <tr>\n",
       "      <th>1</th>\n",
       "      <td>Loma la Lata</td>\n",
       "      <td>901.3</td>\n",
       "      <td>10</td>\n",
       "      <td>2214.63</td>\n",
       "      <td>14292.000</td>\n",
       "    </tr>\n",
       "    <tr>\n",
       "      <th>2</th>\n",
       "      <td>Loma la Lata</td>\n",
       "      <td>820.3</td>\n",
       "      <td>11</td>\n",
       "      <td>2220.80</td>\n",
       "      <td>14108.200</td>\n",
       "    </tr>\n",
       "    <tr>\n",
       "      <th>3</th>\n",
       "      <td>Loma la Lata</td>\n",
       "      <td>815.1</td>\n",
       "      <td>10</td>\n",
       "      <td>1279.13</td>\n",
       "      <td>10295.900</td>\n",
       "    </tr>\n",
       "    <tr>\n",
       "      <th>4</th>\n",
       "      <td>Loma la Lata</td>\n",
       "      <td>285.3</td>\n",
       "      <td>4</td>\n",
       "      <td>681.89</td>\n",
       "      <td>3630.200</td>\n",
       "    </tr>\n",
       "    <tr>\n",
       "      <th>...</th>\n",
       "      <td>...</td>\n",
       "      <td>...</td>\n",
       "      <td>...</td>\n",
       "      <td>...</td>\n",
       "      <td>...</td>\n",
       "    </tr>\n",
       "    <tr>\n",
       "      <th>176</th>\n",
       "      <td>Loma Campana</td>\n",
       "      <td>2454.3</td>\n",
       "      <td>38</td>\n",
       "      <td>9064.40</td>\n",
       "      <td>53371.200</td>\n",
       "    </tr>\n",
       "    <tr>\n",
       "      <th>177</th>\n",
       "      <td>Loma Campana</td>\n",
       "      <td>2455.3</td>\n",
       "      <td>38</td>\n",
       "      <td>8575.09</td>\n",
       "      <td>53135.765</td>\n",
       "    </tr>\n",
       "    <tr>\n",
       "      <th>178</th>\n",
       "      <td>Loma Campana</td>\n",
       "      <td>2478.3</td>\n",
       "      <td>39</td>\n",
       "      <td>8862.35</td>\n",
       "      <td>53827.000</td>\n",
       "    </tr>\n",
       "    <tr>\n",
       "      <th>179</th>\n",
       "      <td>Loma Campana</td>\n",
       "      <td>2385.3</td>\n",
       "      <td>38</td>\n",
       "      <td>8658.09</td>\n",
       "      <td>53143.900</td>\n",
       "    </tr>\n",
       "    <tr>\n",
       "      <th>180</th>\n",
       "      <td>Loma Campana</td>\n",
       "      <td>2300.3</td>\n",
       "      <td>37</td>\n",
       "      <td>8405.10</td>\n",
       "      <td>51529.000</td>\n",
       "    </tr>\n",
       "  </tbody>\n",
       "</table>\n",
       "<p>181 rows × 5 columns</p>\n",
       "</div>"
      ],
      "text/plain": [
       "       Yacimiento  rama_hrz_m  ctd_fracturas  arena_tn    agua_m3\n",
       "0    Loma la Lata       891.3             10   2250.32  16332.400\n",
       "1    Loma la Lata       901.3             10   2214.63  14292.000\n",
       "2    Loma la Lata       820.3             11   2220.80  14108.200\n",
       "3    Loma la Lata       815.1             10   1279.13  10295.900\n",
       "4    Loma la Lata       285.3              4    681.89   3630.200\n",
       "..            ...         ...            ...       ...        ...\n",
       "176  Loma Campana      2454.3             38   9064.40  53371.200\n",
       "177  Loma Campana      2455.3             38   8575.09  53135.765\n",
       "178  Loma Campana      2478.3             39   8862.35  53827.000\n",
       "179  Loma Campana      2385.3             38   8658.09  53143.900\n",
       "180  Loma Campana      2300.3             37   8405.10  51529.000\n",
       "\n",
       "[181 rows x 5 columns]"
      ]
     },
     "execution_count": 29,
     "metadata": {},
     "output_type": "execute_result"
    }
   ],
   "source": [
    "df[df['Yacimiento'].str.contains(r'Loma(?!$)')]"
   ]
  },
  {
   "cell_type": "code",
   "execution_count": 30,
   "metadata": {},
   "outputs": [
    {
     "data": {
      "text/plain": [
       "181"
      ]
     },
     "execution_count": 30,
     "metadata": {},
     "output_type": "execute_result"
    }
   ],
   "source": [
    "df['Yacimiento'].str.contains(r'Loma(?!$)').sum()"
   ]
  },
  {
   "cell_type": "code",
   "execution_count": 31,
   "metadata": {},
   "outputs": [],
   "source": [
    "import sweetviz as sv"
   ]
  },
  {
   "cell_type": "code",
   "execution_count": 32,
   "metadata": {},
   "outputs": [
    {
     "name": "stderr",
     "output_type": "stream",
     "text": [
      ":FEATURES DONE:                    |                     | [  0%]   00:03  -> (00:00 left)\n",
      ":PAIRWISE DONE:                    |█████████████████████| [100%]   00:00  -> (00:00 left)\n"
     ]
    },
    {
     "name": "stdout",
     "output_type": "stream",
     "text": [
      "Creating Associations graph... DONE!\n"
     ]
    }
   ],
   "source": [
    "my_report = sv.analyze(df)"
   ]
  },
  {
   "cell_type": "code",
   "execution_count": 40,
   "metadata": {},
   "outputs": [],
   "source": [
    "my_report.show_html()"
   ]
  },
  {
   "cell_type": "code",
   "execution_count": 38,
   "metadata": {},
   "outputs": [
    {
     "name": "stderr",
     "output_type": "stream",
     "text": [
      ":FEATURES DONE:                    |                     | [  0%]   00:01  -> (00:00 left)\n",
      ":PAIRWISE DONE:                    |█████████████████████| [100%]   00:00  -> (00:00 left)\n"
     ]
    },
    {
     "name": "stdout",
     "output_type": "stream",
     "text": [
      "Creating Associations graph... DONE!\n"
     ]
    }
   ],
   "source": [
    "df1 = sv.compare(df[97:], df[:97])"
   ]
  },
  {
   "cell_type": "code",
   "execution_count": 41,
   "metadata": {},
   "outputs": [],
   "source": [
    "df1.show_html('Compare.html')"
   ]
  },
  {
   "cell_type": "code",
   "execution_count": null,
   "metadata": {},
   "outputs": [],
   "source": []
  },
  {
   "cell_type": "code",
   "execution_count": null,
   "metadata": {},
   "outputs": [],
   "source": []
  },
  {
   "cell_type": "code",
   "execution_count": null,
   "metadata": {},
   "outputs": [],
   "source": []
  },
  {
   "cell_type": "code",
   "execution_count": null,
   "metadata": {},
   "outputs": [],
   "source": []
  },
  {
   "cell_type": "code",
   "execution_count": null,
   "metadata": {},
   "outputs": [],
   "source": []
  },
  {
   "cell_type": "markdown",
   "metadata": {},
   "source": [
    "______________"
   ]
  }
 ],
 "metadata": {
  "kernelspec": {
   "display_name": "Austral",
   "language": "python",
   "name": "austral"
  },
  "language_info": {
   "codemirror_mode": {
    "name": "ipython",
    "version": 3
   },
   "file_extension": ".py",
   "mimetype": "text/x-python",
   "name": "python",
   "nbconvert_exporter": "python",
   "pygments_lexer": "ipython3",
   "version": "3.8.5"
  }
 },
 "nbformat": 4,
 "nbformat_minor": 4
}
