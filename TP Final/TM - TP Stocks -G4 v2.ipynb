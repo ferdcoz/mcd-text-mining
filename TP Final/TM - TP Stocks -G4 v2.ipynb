{
 "cells": [
  {
   "cell_type": "markdown",
   "metadata": {},
   "source": [
    "## Text Mining - TP Stocks"
   ]
  },
  {
   "cell_type": "markdown",
   "metadata": {},
   "source": [
    "### Librerias"
   ]
  },
  {
   "cell_type": "code",
   "execution_count": 50,
   "metadata": {},
   "outputs": [],
   "source": [
    "import pandas as pd\n",
    "import seaborn as sns\n",
    "import matplotlib.pyplot as plt\n",
    "from sklearn.feature_extraction.text import CountVectorizer, TfidfTransformer\n",
    "from sklearn.naive_bayes import MultinomialNB\n",
    "from sklearn.pipeline import Pipeline\n",
    "from sklearn.metrics import accuracy_score, f1_score, confusion_matrix"
   ]
  },
  {
   "cell_type": "markdown",
   "metadata": {},
   "source": [
    "### Carga de los datos"
   ]
  },
  {
   "cell_type": "code",
   "execution_count": 51,
   "metadata": {},
   "outputs": [],
   "source": [
    "data = pd.read_excel('C:/Users/ferna/Downloads/ypf PAGINAS.xlsx', sheet_name= 'UNIFICADO')"
   ]
  },
  {
   "cell_type": "code",
   "execution_count": 52,
   "metadata": {},
   "outputs": [
    {
     "data": {
      "text/html": [
       "<div>\n",
       "<style scoped>\n",
       "    .dataframe tbody tr th:only-of-type {\n",
       "        vertical-align: middle;\n",
       "    }\n",
       "\n",
       "    .dataframe tbody tr th {\n",
       "        vertical-align: top;\n",
       "    }\n",
       "\n",
       "    .dataframe thead th {\n",
       "        text-align: right;\n",
       "    }\n",
       "</style>\n",
       "<table border=\"1\" class=\"dataframe\">\n",
       "  <thead>\n",
       "    <tr style=\"text-align: right;\">\n",
       "      <th></th>\n",
       "      <th>Text</th>\n",
       "      <th>Date</th>\n",
       "      <th>Category</th>\n",
       "      <th>Train/Test</th>\n",
       "      <th>Pagina</th>\n",
       "    </tr>\n",
       "  </thead>\n",
       "  <tbody>\n",
       "    <tr>\n",
       "      <th>0</th>\n",
       "      <td>YPF Sociedad Anónima: A Speculative Trend Play...</td>\n",
       "      <td>2023-08-04</td>\n",
       "      <td>Positive</td>\n",
       "      <td>Test</td>\n",
       "      <td>www.seekingalpha.com</td>\n",
       "    </tr>\n",
       "    <tr>\n",
       "      <th>1</th>\n",
       "      <td>YPF Sociedad: Q1 Earnings On Track, Production...</td>\n",
       "      <td>2023-05-14</td>\n",
       "      <td>Positive</td>\n",
       "      <td>Train</td>\n",
       "      <td>www.seekingalpha.com</td>\n",
       "    </tr>\n",
       "    <tr>\n",
       "      <th>2</th>\n",
       "      <td>YPF Sociedad: Shares Still A Value, Bullish Co...</td>\n",
       "      <td>2023-03-03</td>\n",
       "      <td>Positive</td>\n",
       "      <td>Train</td>\n",
       "      <td>www.seekingalpha.com</td>\n",
       "    </tr>\n",
       "    <tr>\n",
       "      <th>3</th>\n",
       "      <td>YPF sees continued government backing for ener...</td>\n",
       "      <td>2023-08-11</td>\n",
       "      <td>Positive</td>\n",
       "      <td>Test</td>\n",
       "      <td>www.seekingalpha.com</td>\n",
       "    </tr>\n",
       "    <tr>\n",
       "      <th>4</th>\n",
       "      <td>Recession fears, central bank rate hikes sent ...</td>\n",
       "      <td>2023-06-23</td>\n",
       "      <td>Negative</td>\n",
       "      <td>Train</td>\n",
       "      <td>www.seekingalpha.com</td>\n",
       "    </tr>\n",
       "    <tr>\n",
       "      <th>...</th>\n",
       "      <td>...</td>\n",
       "      <td>...</td>\n",
       "      <td>...</td>\n",
       "      <td>...</td>\n",
       "      <td>...</td>\n",
       "    </tr>\n",
       "    <tr>\n",
       "      <th>158</th>\n",
       "      <td>YPF Sociedad Anónima (NYSE:YPF) Q4 2022 Earnin...</td>\n",
       "      <td>2023-03-13</td>\n",
       "      <td>Negative</td>\n",
       "      <td>Train</td>\n",
       "      <td>https://finance.yahoo.com/news/ypf-sociedad-ni...</td>\n",
       "    </tr>\n",
       "    <tr>\n",
       "      <th>159</th>\n",
       "      <td>YPF Sociedad Anonima (YPF) Stock Moves -0.09%:...</td>\n",
       "      <td>2023-02-21</td>\n",
       "      <td>Negative</td>\n",
       "      <td>Train</td>\n",
       "      <td>https://finance.yahoo.com/news/ypf-sociedad-an...</td>\n",
       "    </tr>\n",
       "    <tr>\n",
       "      <th>160</th>\n",
       "      <td>Best Value Stocks to Buy for February 3rd —</td>\n",
       "      <td>2023-02-03</td>\n",
       "      <td>Positive</td>\n",
       "      <td>Train</td>\n",
       "      <td>https://finance.yahoo.com/news/best-value-stoc...</td>\n",
       "    </tr>\n",
       "    <tr>\n",
       "      <th>161</th>\n",
       "      <td>YPF Sociedad Anonima (YPF) Moves 7.1% Higher: ...</td>\n",
       "      <td>2023-01-16</td>\n",
       "      <td>Positive</td>\n",
       "      <td>Train</td>\n",
       "      <td>https://finance.yahoo.com/news/ypf-sociedad-an...</td>\n",
       "    </tr>\n",
       "    <tr>\n",
       "      <th>162</th>\n",
       "      <td>The Top 5 Exploration Prospects of 2023 — 2022...</td>\n",
       "      <td>2023-01-06</td>\n",
       "      <td>Positive</td>\n",
       "      <td>Train</td>\n",
       "      <td>https://oilprice.com/Energy/Crude-Oil/The-Top-...</td>\n",
       "    </tr>\n",
       "  </tbody>\n",
       "</table>\n",
       "<p>163 rows × 5 columns</p>\n",
       "</div>"
      ],
      "text/plain": [
       "                                                  Text       Date  Category  \\\n",
       "0    YPF Sociedad Anónima: A Speculative Trend Play... 2023-08-04  Positive   \n",
       "1    YPF Sociedad: Q1 Earnings On Track, Production... 2023-05-14  Positive   \n",
       "2    YPF Sociedad: Shares Still A Value, Bullish Co... 2023-03-03  Positive   \n",
       "3    YPF sees continued government backing for ener... 2023-08-11  Positive   \n",
       "4    Recession fears, central bank rate hikes sent ... 2023-06-23  Negative   \n",
       "..                                                 ...        ...       ...   \n",
       "158  YPF Sociedad Anónima (NYSE:YPF) Q4 2022 Earnin... 2023-03-13  Negative   \n",
       "159  YPF Sociedad Anonima (YPF) Stock Moves -0.09%:... 2023-02-21  Negative   \n",
       "160       Best Value Stocks to Buy for February 3rd —  2023-02-03  Positive   \n",
       "161  YPF Sociedad Anonima (YPF) Moves 7.1% Higher: ... 2023-01-16  Positive   \n",
       "162  The Top 5 Exploration Prospects of 2023 — 2022... 2023-01-06  Positive   \n",
       "\n",
       "    Train/Test                                             Pagina  \n",
       "0         Test                               www.seekingalpha.com  \n",
       "1        Train                               www.seekingalpha.com  \n",
       "2        Train                               www.seekingalpha.com  \n",
       "3         Test                               www.seekingalpha.com  \n",
       "4        Train                               www.seekingalpha.com  \n",
       "..         ...                                                ...  \n",
       "158      Train  https://finance.yahoo.com/news/ypf-sociedad-ni...  \n",
       "159      Train  https://finance.yahoo.com/news/ypf-sociedad-an...  \n",
       "160      Train  https://finance.yahoo.com/news/best-value-stoc...  \n",
       "161      Train  https://finance.yahoo.com/news/ypf-sociedad-an...  \n",
       "162      Train  https://oilprice.com/Energy/Crude-Oil/The-Top-...  \n",
       "\n",
       "[163 rows x 5 columns]"
      ]
     },
     "execution_count": 52,
     "metadata": {},
     "output_type": "execute_result"
    }
   ],
   "source": [
    "data"
   ]
  },
  {
   "cell_type": "markdown",
   "metadata": {},
   "source": [
    "### Train / Test"
   ]
  },
  {
   "cell_type": "code",
   "execution_count": 53,
   "metadata": {},
   "outputs": [],
   "source": [
    "data_train = data[data['Train/Test'].isin(['Train'])]\n",
    "data_test = data[data['Train/Test'].isin(['Test'])]"
   ]
  },
  {
   "cell_type": "code",
   "execution_count": 54,
   "metadata": {},
   "outputs": [],
   "source": [
    "X_train = data_train['Text'].tolist()\n",
    "y_train = data_train['Category'].tolist()"
   ]
  },
  {
   "cell_type": "code",
   "execution_count": 55,
   "metadata": {},
   "outputs": [],
   "source": [
    "X_test = data_test['Text'].tolist()\n",
    "y_test = data_test['Category'].tolist()"
   ]
  },
  {
   "cell_type": "markdown",
   "metadata": {},
   "source": [
    "### Naive Bayes Multinomial"
   ]
  },
  {
   "cell_type": "code",
   "execution_count": 56,
   "metadata": {},
   "outputs": [],
   "source": [
    "# Stemming / Lemma / stopwords\n",
    "# clf: logistica / SVM / Random Forest //// BERT\n",
    "\n",
    "text_clf_nb = Pipeline([('vect' , CountVectorizer()), \n",
    "                     ('tfidf', TfidfTransformer()), \n",
    "                     ('clf'  , MultinomialNB())\n",
    "                    ])"
   ]
  },
  {
   "cell_type": "code",
   "execution_count": 57,
   "metadata": {},
   "outputs": [],
   "source": [
    "from sklearn.multiclass import OneVsRestClassifier\n",
    "\n",
    "text_clf_nb2 = Pipeline([('vect' , CountVectorizer()), \n",
    "                     ('tfidf', TfidfTransformer()), \n",
    "                     ('clf'  , OneVsRestClassifier(MultinomialNB(fit_prior=True, class_prior=None)))\n",
    "                    ])"
   ]
  },
  {
   "cell_type": "markdown",
   "metadata": {},
   "source": [
    "### Entrenamiento"
   ]
  },
  {
   "cell_type": "code",
   "execution_count": 58,
   "metadata": {},
   "outputs": [],
   "source": [
    "text_clf_nb = text_clf_nb.fit(X_train, y_train)\n",
    "\n",
    "text_clf_nb2 = text_clf_nb2.fit(X_train, y_train)"
   ]
  },
  {
   "cell_type": "markdown",
   "metadata": {},
   "source": [
    "### Testeo"
   ]
  },
  {
   "cell_type": "code",
   "execution_count": 59,
   "metadata": {},
   "outputs": [],
   "source": [
    "y_pred_nb = text_clf_nb.predict(X_test)\n",
    "\n",
    "y_pred_nb2 = text_clf_nb2.predict(X_test)"
   ]
  },
  {
   "cell_type": "markdown",
   "metadata": {},
   "source": [
    "### Score Naive Bayes"
   ]
  },
  {
   "cell_type": "code",
   "execution_count": 60,
   "metadata": {},
   "outputs": [
    {
     "data": {
      "text/plain": [
       "0.8421052631578947"
      ]
     },
     "execution_count": 60,
     "metadata": {},
     "output_type": "execute_result"
    }
   ],
   "source": [
    "text_clf_nb.score(X_train, y_train)\n",
    "\n",
    "text_clf_nb2.score(X_train, y_train)"
   ]
  },
  {
   "cell_type": "code",
   "execution_count": 61,
   "metadata": {},
   "outputs": [
    {
     "name": "stdout",
     "output_type": "stream",
     "text": [
      "Accuracy: 63.33%\n",
      "\n",
      "F1 Score: 49.12\n",
      "\n",
      "Confusion Matrix:\n",
      " [[ 0  0  3]\n",
      " [ 0  0  8]\n",
      " [ 0  0 19]]\n"
     ]
    }
   ],
   "source": [
    "print(\"Accuracy: {:.2f}%\".format(accuracy_score(y_test, y_pred_nb) * 100))\n",
    "print(\"\\nF1 Score: {:.2f}\".format(f1_score(y_test, y_pred_nb, average='weighted') * 100))\n",
    "print(\"\\nConfusion Matrix:\\n\", confusion_matrix(y_test, y_pred_nb))"
   ]
  },
  {
   "cell_type": "code",
   "execution_count": 62,
   "metadata": {},
   "outputs": [
    {
     "name": "stdout",
     "output_type": "stream",
     "text": [
      "Accuracy: 63.33%\n",
      "\n",
      "F1 Score: 49.12\n",
      "\n",
      "Confusion Matrix:\n",
      " [[ 0  0  3]\n",
      " [ 0  0  8]\n",
      " [ 0  0 19]]\n"
     ]
    }
   ],
   "source": [
    "print(\"Accuracy: {:.2f}%\".format(accuracy_score(y_test, y_pred_nb2) * 100))\n",
    "print(\"\\nF1 Score: {:.2f}\".format(f1_score(y_test, y_pred_nb2, average='weighted') * 100))\n",
    "print(\"\\nConfusion Matrix:\\n\", confusion_matrix(y_test, y_pred_nb2))"
   ]
  },
  {
   "cell_type": "markdown",
   "metadata": {},
   "source": [
    "### Support Vector Classifier"
   ]
  },
  {
   "cell_type": "code",
   "execution_count": 63,
   "metadata": {},
   "outputs": [],
   "source": [
    "from sklearn.svm import LinearSVC"
   ]
  },
  {
   "cell_type": "code",
   "execution_count": 64,
   "metadata": {},
   "outputs": [],
   "source": [
    "text_clf_svc = Pipeline([('vect' , CountVectorizer()), \n",
    "                     ('tfidf', TfidfTransformer()), \n",
    "                     ('clf'  , LinearSVC())\n",
    "                    ])\n",
    "\n",
    "text_clf_svc2 = Pipeline([('vect' , CountVectorizer()), \n",
    "                     ('tfidf', TfidfTransformer()), \n",
    "                     ('clf'  ,  OneVsRestClassifier(LinearSVC(), n_jobs=1))\n",
    "                    ])"
   ]
  },
  {
   "cell_type": "code",
   "execution_count": 65,
   "metadata": {},
   "outputs": [],
   "source": [
    "text_clf_svc = text_clf_svc.fit(X_train, y_train)\n",
    "\n",
    "text_clf_svc2 = text_clf_svc2.fit(X_train, y_train)"
   ]
  },
  {
   "cell_type": "code",
   "execution_count": 66,
   "metadata": {},
   "outputs": [],
   "source": [
    "y_pred_svc = text_clf_svc.predict(X_test)\n",
    "\n",
    "y_pred_svc2 = text_clf_svc2.predict(X_test)"
   ]
  },
  {
   "cell_type": "code",
   "execution_count": 67,
   "metadata": {},
   "outputs": [
    {
     "data": {
      "text/plain": [
       "0.9924812030075187"
      ]
     },
     "execution_count": 67,
     "metadata": {},
     "output_type": "execute_result"
    }
   ],
   "source": [
    "text_clf_svc.score(X_train, y_train)\n",
    "\n",
    "text_clf_svc2.score(X_train, y_train)"
   ]
  },
  {
   "cell_type": "code",
   "execution_count": 68,
   "metadata": {},
   "outputs": [
    {
     "name": "stdout",
     "output_type": "stream",
     "text": [
      "Accuracy: 66.67%\n",
      "\n",
      "F1 Score: 64.44\n",
      "\n",
      "Confusion Matrix:\n",
      " [[ 1  0  2]\n",
      " [ 2  2  4]\n",
      " [ 2  0 17]]\n"
     ]
    }
   ],
   "source": [
    "print(\"Accuracy: {:.2f}%\".format(accuracy_score(y_test, y_pred_svc) * 100))\n",
    "print(\"\\nF1 Score: {:.2f}\".format(f1_score(y_test, y_pred_svc, average='weighted') * 100))\n",
    "print(\"\\nConfusion Matrix:\\n\", confusion_matrix(y_test, y_pred_svc))"
   ]
  },
  {
   "cell_type": "code",
   "execution_count": 69,
   "metadata": {},
   "outputs": [
    {
     "name": "stdout",
     "output_type": "stream",
     "text": [
      "Accuracy: 66.67%\n",
      "\n",
      "F1 Score: 64.44\n",
      "\n",
      "Confusion Matrix:\n",
      " [[ 1  0  2]\n",
      " [ 2  2  4]\n",
      " [ 2  0 17]]\n"
     ]
    }
   ],
   "source": [
    "print(\"Accuracy: {:.2f}%\".format(accuracy_score(y_test, y_pred_svc2) * 100))\n",
    "print(\"\\nF1 Score: {:.2f}\".format(f1_score(y_test, y_pred_svc2, average='weighted') * 100))\n",
    "print(\"\\nConfusion Matrix:\\n\", confusion_matrix(y_test, y_pred_svc2))"
   ]
  },
  {
   "cell_type": "markdown",
   "metadata": {},
   "source": [
    "### Random Forest"
   ]
  },
  {
   "cell_type": "code",
   "execution_count": 70,
   "metadata": {},
   "outputs": [],
   "source": [
    "from sklearn.ensemble import RandomForestClassifier"
   ]
  },
  {
   "cell_type": "code",
   "execution_count": 71,
   "metadata": {},
   "outputs": [],
   "source": [
    "text_clf_rf = Pipeline([\n",
    "    ('vect' , CountVectorizer()), \n",
    "    ('tfidf', TfidfTransformer()), \n",
    "    ('clf'  , RandomForestClassifier())\n",
    "])"
   ]
  },
  {
   "cell_type": "code",
   "execution_count": 72,
   "metadata": {},
   "outputs": [],
   "source": [
    "text_clf_rf = text_clf_rf.fit(X_train, y_train)"
   ]
  },
  {
   "cell_type": "code",
   "execution_count": 73,
   "metadata": {},
   "outputs": [],
   "source": [
    "y_pred_rf = text_clf_rf.predict(X_test)"
   ]
  },
  {
   "cell_type": "code",
   "execution_count": 74,
   "metadata": {},
   "outputs": [
    {
     "data": {
      "text/plain": [
       "1.0"
      ]
     },
     "execution_count": 74,
     "metadata": {},
     "output_type": "execute_result"
    }
   ],
   "source": [
    "text_clf_rf.score(X_train, y_train)"
   ]
  },
  {
   "cell_type": "code",
   "execution_count": 75,
   "metadata": {},
   "outputs": [
    {
     "name": "stdout",
     "output_type": "stream",
     "text": [
      "Accuracy: 66.67%\n",
      "\n",
      "F1 Score: 60.23\n",
      "\n",
      "Confusion Matrix:\n",
      " [[ 0  0  3]\n",
      " [ 0  2  6]\n",
      " [ 1  0 18]]\n"
     ]
    }
   ],
   "source": [
    "print(\"Accuracy: {:.2f}%\".format(accuracy_score(y_test, y_pred_rf) * 100))\n",
    "print(\"\\nF1 Score: {:.2f}\".format(f1_score(y_test, y_pred_rf, average='weighted') * 100))\n",
    "print(\"\\nConfusion Matrix:\\n\", confusion_matrix(y_test, y_pred_rf))"
   ]
  },
  {
   "cell_type": "markdown",
   "metadata": {},
   "source": [
    "### Ensamble?"
   ]
  },
  {
   "cell_type": "code",
   "execution_count": 76,
   "metadata": {},
   "outputs": [],
   "source": [
    "models_pred = pd.DataFrame(\n",
    "    {\n",
    "        'X_test': X_test,\n",
    "        'y_test': y_test,\n",
    "        'MultinomialNB': y_pred_nb,\n",
    "        'SVC': y_pred_svc,\n",
    "        'RandomForest': y_pred_rf,\n",
    "        'Word2Vec': y_pred_w2v\n",
    "    }\n",
    ")"
   ]
  },
  {
   "cell_type": "code",
   "execution_count": 77,
   "metadata": {},
   "outputs": [
    {
     "data": {
      "text/html": [
       "<div>\n",
       "<style scoped>\n",
       "    .dataframe tbody tr th:only-of-type {\n",
       "        vertical-align: middle;\n",
       "    }\n",
       "\n",
       "    .dataframe tbody tr th {\n",
       "        vertical-align: top;\n",
       "    }\n",
       "\n",
       "    .dataframe thead th {\n",
       "        text-align: right;\n",
       "    }\n",
       "</style>\n",
       "<table border=\"1\" class=\"dataframe\">\n",
       "  <thead>\n",
       "    <tr style=\"text-align: right;\">\n",
       "      <th></th>\n",
       "      <th>X_test</th>\n",
       "      <th>y_test</th>\n",
       "      <th>MultinomialNB</th>\n",
       "      <th>SVC</th>\n",
       "      <th>RandomForest</th>\n",
       "      <th>Word2Vec</th>\n",
       "    </tr>\n",
       "  </thead>\n",
       "  <tbody>\n",
       "    <tr>\n",
       "      <th>0</th>\n",
       "      <td>YPF Sociedad Anónima: A Speculative Trend Play...</td>\n",
       "      <td>Positive</td>\n",
       "      <td>Positive</td>\n",
       "      <td>Positive</td>\n",
       "      <td>Positive</td>\n",
       "      <td>Positive</td>\n",
       "    </tr>\n",
       "    <tr>\n",
       "      <th>1</th>\n",
       "      <td>YPF sees continued government backing for ener...</td>\n",
       "      <td>Positive</td>\n",
       "      <td>Positive</td>\n",
       "      <td>Positive</td>\n",
       "      <td>Positive</td>\n",
       "      <td>Positive</td>\n",
       "    </tr>\n",
       "    <tr>\n",
       "      <th>2</th>\n",
       "      <td>Is YPF SA (YPF) a Smart Choice in Oil &amp; Gas In...</td>\n",
       "      <td>Neutral</td>\n",
       "      <td>Positive</td>\n",
       "      <td>Positive</td>\n",
       "      <td>Positive</td>\n",
       "      <td>Neutral</td>\n",
       "    </tr>\n",
       "    <tr>\n",
       "      <th>3</th>\n",
       "      <td>Summary. The company has strong fundamentals. ...</td>\n",
       "      <td>Positive</td>\n",
       "      <td>Positive</td>\n",
       "      <td>Positive</td>\n",
       "      <td>Positive</td>\n",
       "      <td>Positive</td>\n",
       "    </tr>\n",
       "    <tr>\n",
       "      <th>4</th>\n",
       "      <td>Argentina Fixes Oil at $56 a Barrel to Put Lid...</td>\n",
       "      <td>Negative</td>\n",
       "      <td>Positive</td>\n",
       "      <td>Positive</td>\n",
       "      <td>Positive</td>\n",
       "      <td>Positive</td>\n",
       "    </tr>\n",
       "    <tr>\n",
       "      <th>5</th>\n",
       "      <td>Presidential Front-Runner Would Unshackle Arge...</td>\n",
       "      <td>Neutral</td>\n",
       "      <td>Positive</td>\n",
       "      <td>Negative</td>\n",
       "      <td>Positive</td>\n",
       "      <td>Positive</td>\n",
       "    </tr>\n",
       "    <tr>\n",
       "      <th>6</th>\n",
       "      <td>Free Marketeer Leading Election Would Rock Arg...</td>\n",
       "      <td>Neutral</td>\n",
       "      <td>Positive</td>\n",
       "      <td>Negative</td>\n",
       "      <td>Positive</td>\n",
       "      <td>Positive</td>\n",
       "    </tr>\n",
       "    <tr>\n",
       "      <th>7</th>\n",
       "      <td>Argentine Election Won’t Derail Shale Growth, ...</td>\n",
       "      <td>Positive</td>\n",
       "      <td>Positive</td>\n",
       "      <td>Positive</td>\n",
       "      <td>Positive</td>\n",
       "      <td>Neutral</td>\n",
       "    </tr>\n",
       "    <tr>\n",
       "      <th>8</th>\n",
       "      <td>Here Are Argentina’s Assets to Watch Before Ke...</td>\n",
       "      <td>Neutral</td>\n",
       "      <td>Positive</td>\n",
       "      <td>Positive</td>\n",
       "      <td>Positive</td>\n",
       "      <td>Positive</td>\n",
       "    </tr>\n",
       "    <tr>\n",
       "      <th>9</th>\n",
       "      <td>Argentina’s Dollar Fever Sparks $1.4 Billion I...</td>\n",
       "      <td>Negative</td>\n",
       "      <td>Positive</td>\n",
       "      <td>Negative</td>\n",
       "      <td>Positive</td>\n",
       "      <td>Positive</td>\n",
       "    </tr>\n",
       "    <tr>\n",
       "      <th>10</th>\n",
       "      <td>An Oil Boom Could Deliver Argentina from Econo...</td>\n",
       "      <td>Positive</td>\n",
       "      <td>Positive</td>\n",
       "      <td>Positive</td>\n",
       "      <td>Positive</td>\n",
       "      <td>Positive</td>\n",
       "    </tr>\n",
       "    <tr>\n",
       "      <th>11</th>\n",
       "      <td>China’s Zijin Is in Talks With Argentina to Tu...</td>\n",
       "      <td>Positive</td>\n",
       "      <td>Positive</td>\n",
       "      <td>Positive</td>\n",
       "      <td>Positive</td>\n",
       "      <td>Positive</td>\n",
       "    </tr>\n",
       "    <tr>\n",
       "      <th>12</th>\n",
       "      <td>Argentina’s Pan American Energy Joins Oil Indu...</td>\n",
       "      <td>Positive</td>\n",
       "      <td>Positive</td>\n",
       "      <td>Positive</td>\n",
       "      <td>Positive</td>\n",
       "      <td>Positive</td>\n",
       "    </tr>\n",
       "    <tr>\n",
       "      <th>13</th>\n",
       "      <td>Argentina hits milestone on path to gas export...</td>\n",
       "      <td>Positive</td>\n",
       "      <td>Positive</td>\n",
       "      <td>Positive</td>\n",
       "      <td>Positive</td>\n",
       "      <td>Neutral</td>\n",
       "    </tr>\n",
       "    <tr>\n",
       "      <th>14</th>\n",
       "      <td>Argentina’s Milei aims to balance budget withi...</td>\n",
       "      <td>Positive</td>\n",
       "      <td>Positive</td>\n",
       "      <td>Positive</td>\n",
       "      <td>Positive</td>\n",
       "      <td>Positive</td>\n",
       "    </tr>\n",
       "    <tr>\n",
       "      <th>15</th>\n",
       "      <td>Argentina’s far-right libertarian wants toughe...</td>\n",
       "      <td>Positive</td>\n",
       "      <td>Positive</td>\n",
       "      <td>Positive</td>\n",
       "      <td>Positive</td>\n",
       "      <td>Negative</td>\n",
       "    </tr>\n",
       "    <tr>\n",
       "      <th>16</th>\n",
       "      <td>\\nYPF Sociedad Anonima (YPF) Outpaces Stock M...</td>\n",
       "      <td>Positive</td>\n",
       "      <td>Positive</td>\n",
       "      <td>Positive</td>\n",
       "      <td>Positive</td>\n",
       "      <td>Positive</td>\n",
       "    </tr>\n",
       "    <tr>\n",
       "      <th>17</th>\n",
       "      <td>\\nYPF Sociedad Anonima (YPF) Gains As Market ...</td>\n",
       "      <td>Positive</td>\n",
       "      <td>Positive</td>\n",
       "      <td>Positive</td>\n",
       "      <td>Negative</td>\n",
       "      <td>Positive</td>\n",
       "    </tr>\n",
       "    <tr>\n",
       "      <th>18</th>\n",
       "      <td>\\nZacks Investment Ideas feature highlights: ...</td>\n",
       "      <td>Positive</td>\n",
       "      <td>Positive</td>\n",
       "      <td>Positive</td>\n",
       "      <td>Positive</td>\n",
       "      <td>Positive</td>\n",
       "    </tr>\n",
       "    <tr>\n",
       "      <th>19</th>\n",
       "      <td>YPF call volume above normal and directionally...</td>\n",
       "      <td>Positive</td>\n",
       "      <td>Positive</td>\n",
       "      <td>Negative</td>\n",
       "      <td>Positive</td>\n",
       "      <td>Positive</td>\n",
       "    </tr>\n",
       "    <tr>\n",
       "      <th>20</th>\n",
       "      <td>YPF Upcoming Earnings Report: What to Expect?</td>\n",
       "      <td>Neutral</td>\n",
       "      <td>Positive</td>\n",
       "      <td>Positive</td>\n",
       "      <td>Positive</td>\n",
       "      <td>Positive</td>\n",
       "    </tr>\n",
       "    <tr>\n",
       "      <th>21</th>\n",
       "      <td>Mexico's Pemex the biggest liquidity worry amo...</td>\n",
       "      <td>Neutral</td>\n",
       "      <td>Positive</td>\n",
       "      <td>Positive</td>\n",
       "      <td>Positive</td>\n",
       "      <td>Positive</td>\n",
       "    </tr>\n",
       "    <tr>\n",
       "      <th>22</th>\n",
       "      <td>Argentina to freeze crude price at $56/bbl to ...</td>\n",
       "      <td>Negative</td>\n",
       "      <td>Positive</td>\n",
       "      <td>Positive</td>\n",
       "      <td>Positive</td>\n",
       "      <td>Positive</td>\n",
       "    </tr>\n",
       "    <tr>\n",
       "      <th>23</th>\n",
       "      <td>YPF expects Argentina to maintain support for ...</td>\n",
       "      <td>Positive</td>\n",
       "      <td>Positive</td>\n",
       "      <td>Negative</td>\n",
       "      <td>Positive</td>\n",
       "      <td>Positive</td>\n",
       "    </tr>\n",
       "    <tr>\n",
       "      <th>24</th>\n",
       "      <td>Key pipeline needs investment to deliver Argen...</td>\n",
       "      <td>Positive</td>\n",
       "      <td>Positive</td>\n",
       "      <td>Positive</td>\n",
       "      <td>Positive</td>\n",
       "      <td>Negative</td>\n",
       "    </tr>\n",
       "    <tr>\n",
       "      <th>25</th>\n",
       "      <td>Vaca Muerta's Sweet Crude Attracts Global Ener...</td>\n",
       "      <td>Positive</td>\n",
       "      <td>Positive</td>\n",
       "      <td>Positive</td>\n",
       "      <td>Positive</td>\n",
       "      <td>Positive</td>\n",
       "    </tr>\n",
       "    <tr>\n",
       "      <th>26</th>\n",
       "      <td>YPF Sociedad Anonima (YPF) Outpaces Stock Mark...</td>\n",
       "      <td>Neutral</td>\n",
       "      <td>Positive</td>\n",
       "      <td>Neutral</td>\n",
       "      <td>Neutral</td>\n",
       "      <td>Neutral</td>\n",
       "    </tr>\n",
       "    <tr>\n",
       "      <th>27</th>\n",
       "      <td>14 Best Multibagger Stocks to Buy for 2024 —</td>\n",
       "      <td>Positive</td>\n",
       "      <td>Positive</td>\n",
       "      <td>Positive</td>\n",
       "      <td>Positive</td>\n",
       "      <td>Positive</td>\n",
       "    </tr>\n",
       "    <tr>\n",
       "      <th>28</th>\n",
       "      <td>YPF Sociedad Anonima (YPF) Gains As Market Dip...</td>\n",
       "      <td>Neutral</td>\n",
       "      <td>Positive</td>\n",
       "      <td>Neutral</td>\n",
       "      <td>Neutral</td>\n",
       "      <td>Neutral</td>\n",
       "    </tr>\n",
       "    <tr>\n",
       "      <th>29</th>\n",
       "      <td>Will Argentina Reach Its 1 Million Bpd Oil Pro...</td>\n",
       "      <td>Positive</td>\n",
       "      <td>Positive</td>\n",
       "      <td>Positive</td>\n",
       "      <td>Positive</td>\n",
       "      <td>Neutral</td>\n",
       "    </tr>\n",
       "  </tbody>\n",
       "</table>\n",
       "</div>"
      ],
      "text/plain": [
       "                                               X_test    y_test MultinomialNB  \\\n",
       "0   YPF Sociedad Anónima: A Speculative Trend Play...  Positive      Positive   \n",
       "1   YPF sees continued government backing for ener...  Positive      Positive   \n",
       "2   Is YPF SA (YPF) a Smart Choice in Oil & Gas In...   Neutral      Positive   \n",
       "3   Summary. The company has strong fundamentals. ...  Positive      Positive   \n",
       "4   Argentina Fixes Oil at $56 a Barrel to Put Lid...  Negative      Positive   \n",
       "5   Presidential Front-Runner Would Unshackle Arge...   Neutral      Positive   \n",
       "6   Free Marketeer Leading Election Would Rock Arg...   Neutral      Positive   \n",
       "7   Argentine Election Won’t Derail Shale Growth, ...  Positive      Positive   \n",
       "8   Here Are Argentina’s Assets to Watch Before Ke...   Neutral      Positive   \n",
       "9   Argentina’s Dollar Fever Sparks $1.4 Billion I...  Negative      Positive   \n",
       "10  An Oil Boom Could Deliver Argentina from Econo...  Positive      Positive   \n",
       "11  China’s Zijin Is in Talks With Argentina to Tu...  Positive      Positive   \n",
       "12  Argentina’s Pan American Energy Joins Oil Indu...  Positive      Positive   \n",
       "13  Argentina hits milestone on path to gas export...  Positive      Positive   \n",
       "14  Argentina’s Milei aims to balance budget withi...  Positive      Positive   \n",
       "15  Argentina’s far-right libertarian wants toughe...  Positive      Positive   \n",
       "16   \\nYPF Sociedad Anonima (YPF) Outpaces Stock M...  Positive      Positive   \n",
       "17   \\nYPF Sociedad Anonima (YPF) Gains As Market ...  Positive      Positive   \n",
       "18   \\nZacks Investment Ideas feature highlights: ...  Positive      Positive   \n",
       "19  YPF call volume above normal and directionally...  Positive      Positive   \n",
       "20      YPF Upcoming Earnings Report: What to Expect?   Neutral      Positive   \n",
       "21  Mexico's Pemex the biggest liquidity worry amo...   Neutral      Positive   \n",
       "22  Argentina to freeze crude price at $56/bbl to ...  Negative      Positive   \n",
       "23  YPF expects Argentina to maintain support for ...  Positive      Positive   \n",
       "24  Key pipeline needs investment to deliver Argen...  Positive      Positive   \n",
       "25  Vaca Muerta's Sweet Crude Attracts Global Ener...  Positive      Positive   \n",
       "26  YPF Sociedad Anonima (YPF) Outpaces Stock Mark...   Neutral      Positive   \n",
       "27      14 Best Multibagger Stocks to Buy for 2024 —   Positive      Positive   \n",
       "28  YPF Sociedad Anonima (YPF) Gains As Market Dip...   Neutral      Positive   \n",
       "29  Will Argentina Reach Its 1 Million Bpd Oil Pro...  Positive      Positive   \n",
       "\n",
       "         SVC RandomForest  Word2Vec  \n",
       "0   Positive     Positive  Positive  \n",
       "1   Positive     Positive  Positive  \n",
       "2   Positive     Positive   Neutral  \n",
       "3   Positive     Positive  Positive  \n",
       "4   Positive     Positive  Positive  \n",
       "5   Negative     Positive  Positive  \n",
       "6   Negative     Positive  Positive  \n",
       "7   Positive     Positive   Neutral  \n",
       "8   Positive     Positive  Positive  \n",
       "9   Negative     Positive  Positive  \n",
       "10  Positive     Positive  Positive  \n",
       "11  Positive     Positive  Positive  \n",
       "12  Positive     Positive  Positive  \n",
       "13  Positive     Positive   Neutral  \n",
       "14  Positive     Positive  Positive  \n",
       "15  Positive     Positive  Negative  \n",
       "16  Positive     Positive  Positive  \n",
       "17  Positive     Negative  Positive  \n",
       "18  Positive     Positive  Positive  \n",
       "19  Negative     Positive  Positive  \n",
       "20  Positive     Positive  Positive  \n",
       "21  Positive     Positive  Positive  \n",
       "22  Positive     Positive  Positive  \n",
       "23  Negative     Positive  Positive  \n",
       "24  Positive     Positive  Negative  \n",
       "25  Positive     Positive  Positive  \n",
       "26   Neutral      Neutral   Neutral  \n",
       "27  Positive     Positive  Positive  \n",
       "28   Neutral      Neutral   Neutral  \n",
       "29  Positive     Positive   Neutral  "
      ]
     },
     "execution_count": 77,
     "metadata": {},
     "output_type": "execute_result"
    }
   ],
   "source": [
    "models_pred"
   ]
  },
  {
   "cell_type": "code",
   "execution_count": 73,
   "metadata": {},
   "outputs": [],
   "source": [
    "models_pred.to_excel('ypf_predictions_results.xlsx', index=False)"
   ]
  },
  {
   "cell_type": "markdown",
   "metadata": {},
   "source": [
    "## Balanceo de Clases"
   ]
  },
  {
   "cell_type": "code",
   "execution_count": 59,
   "metadata": {},
   "outputs": [
    {
     "data": {
      "text/plain": [
       "Positive    87\n",
       "Neutral     49\n",
       "Negative    27\n",
       "Name: Category, dtype: int64"
      ]
     },
     "execution_count": 59,
     "metadata": {},
     "output_type": "execute_result"
    }
   ],
   "source": [
    "data.Category.value_counts()"
   ]
  },
  {
   "cell_type": "markdown",
   "metadata": {},
   "source": [
    "## Word2Vec"
   ]
  },
  {
   "cell_type": "code",
   "execution_count": 18,
   "metadata": {},
   "outputs": [],
   "source": [
    "from gensim.models import Word2Vec\n",
    "from sklearn.model_selection import train_test_split\n",
    "from sklearn.linear_model import LogisticRegression\n",
    "from sklearn.metrics import accuracy_score"
   ]
  },
  {
   "cell_type": "code",
   "execution_count": 25,
   "metadata": {},
   "outputs": [],
   "source": [
    "import gensim"
   ]
  },
  {
   "cell_type": "code",
   "execution_count": 33,
   "metadata": {},
   "outputs": [],
   "source": [
    "dataset = data[['Text','Train/Test','Category']]"
   ]
  },
  {
   "cell_type": "code",
   "execution_count": 34,
   "metadata": {},
   "outputs": [
    {
     "name": "stderr",
     "output_type": "stream",
     "text": [
      "C:\\Users\\ferna\\AppData\\Local\\Temp\\ipykernel_8092\\4001183646.py:1: SettingWithCopyWarning: \n",
      "A value is trying to be set on a copy of a slice from a DataFrame.\n",
      "Try using .loc[row_indexer,col_indexer] = value instead\n",
      "\n",
      "See the caveats in the documentation: https://pandas.pydata.org/pandas-docs/stable/user_guide/indexing.html#returning-a-view-versus-a-copy\n",
      "  dataset['text_clean'] = dataset['Text'].apply(lambda x: gensim.utils.simple_preprocess(x))\n"
     ]
    },
    {
     "data": {
      "text/html": [
       "<div>\n",
       "<style scoped>\n",
       "    .dataframe tbody tr th:only-of-type {\n",
       "        vertical-align: middle;\n",
       "    }\n",
       "\n",
       "    .dataframe tbody tr th {\n",
       "        vertical-align: top;\n",
       "    }\n",
       "\n",
       "    .dataframe thead th {\n",
       "        text-align: right;\n",
       "    }\n",
       "</style>\n",
       "<table border=\"1\" class=\"dataframe\">\n",
       "  <thead>\n",
       "    <tr style=\"text-align: right;\">\n",
       "      <th></th>\n",
       "      <th>Text</th>\n",
       "      <th>Train/Test</th>\n",
       "      <th>Category</th>\n",
       "      <th>text_clean</th>\n",
       "    </tr>\n",
       "  </thead>\n",
       "  <tbody>\n",
       "    <tr>\n",
       "      <th>0</th>\n",
       "      <td>YPF Sociedad Anónima: A Speculative Trend Play...</td>\n",
       "      <td>Test</td>\n",
       "      <td>Positive</td>\n",
       "      <td>[ypf, sociedad, anónima, speculative, trend, p...</td>\n",
       "    </tr>\n",
       "    <tr>\n",
       "      <th>1</th>\n",
       "      <td>YPF Sociedad: Q1 Earnings On Track, Production...</td>\n",
       "      <td>Train</td>\n",
       "      <td>Positive</td>\n",
       "      <td>[ypf, sociedad, earnings, on, track, productio...</td>\n",
       "    </tr>\n",
       "    <tr>\n",
       "      <th>2</th>\n",
       "      <td>YPF Sociedad: Shares Still A Value, Bullish Co...</td>\n",
       "      <td>Train</td>\n",
       "      <td>Positive</td>\n",
       "      <td>[ypf, sociedad, shares, still, value, bullish,...</td>\n",
       "    </tr>\n",
       "    <tr>\n",
       "      <th>3</th>\n",
       "      <td>YPF sees continued government backing for ener...</td>\n",
       "      <td>Test</td>\n",
       "      <td>Positive</td>\n",
       "      <td>[ypf, sees, continued, government, backing, fo...</td>\n",
       "    </tr>\n",
       "    <tr>\n",
       "      <th>4</th>\n",
       "      <td>Recession fears, central bank rate hikes sent ...</td>\n",
       "      <td>Train</td>\n",
       "      <td>Negative</td>\n",
       "      <td>[recession, fears, central, bank, rate, hikes,...</td>\n",
       "    </tr>\n",
       "  </tbody>\n",
       "</table>\n",
       "</div>"
      ],
      "text/plain": [
       "                                                Text Train/Test  Category  \\\n",
       "0  YPF Sociedad Anónima: A Speculative Trend Play...       Test  Positive   \n",
       "1  YPF Sociedad: Q1 Earnings On Track, Production...      Train  Positive   \n",
       "2  YPF Sociedad: Shares Still A Value, Bullish Co...      Train  Positive   \n",
       "3  YPF sees continued government backing for ener...       Test  Positive   \n",
       "4  Recession fears, central bank rate hikes sent ...      Train  Negative   \n",
       "\n",
       "                                          text_clean  \n",
       "0  [ypf, sociedad, anónima, speculative, trend, p...  \n",
       "1  [ypf, sociedad, earnings, on, track, productio...  \n",
       "2  [ypf, sociedad, shares, still, value, bullish,...  \n",
       "3  [ypf, sees, continued, government, backing, fo...  \n",
       "4  [recession, fears, central, bank, rate, hikes,...  "
      ]
     },
     "execution_count": 34,
     "metadata": {},
     "output_type": "execute_result"
    }
   ],
   "source": [
    "dataset['text_clean'] = dataset['Text'].apply(lambda x: gensim.utils.simple_preprocess(x))\n",
    "dataset.head()"
   ]
  },
  {
   "cell_type": "code",
   "execution_count": 35,
   "metadata": {},
   "outputs": [],
   "source": [
    "dataset_train = dataset[dataset['Train/Test'].isin(['Train'])]\n",
    "dataset_test = dataset[dataset['Train/Test'].isin(['Test'])]"
   ]
  },
  {
   "cell_type": "code",
   "execution_count": 36,
   "metadata": {},
   "outputs": [],
   "source": [
    "X_train = dataset_train['Text'].tolist()\n",
    "y_train = dataset_train['Category'].tolist()\n",
    "\n",
    "X_test = dataset_test['Text'].tolist()\n",
    "y_test = dataset_test['Category'].tolist()"
   ]
  },
  {
   "cell_type": "code",
   "execution_count": 37,
   "metadata": {},
   "outputs": [],
   "source": [
    "w2v_model = gensim.models.Word2Vec(X_train,\n",
    "                                   vector_size=100,\n",
    "                                   window=5,\n",
    "                                   min_count=2)"
   ]
  },
  {
   "cell_type": "code",
   "execution_count": 40,
   "metadata": {},
   "outputs": [
    {
     "name": "stderr",
     "output_type": "stream",
     "text": [
      "C:\\Users\\ferna\\AppData\\Local\\Temp\\ipykernel_8092\\3952047339.py:4: VisibleDeprecationWarning: Creating an ndarray from ragged nested sequences (which is a list-or-tuple of lists-or-tuples-or ndarrays with different lengths or shapes) is deprecated. If you meant to do this, you must specify 'dtype=object' when creating the ndarray.\n",
      "  X_train_vect = np.array([np.array([w2v_model.wv[i] for i in ls if i in words])\n",
      "C:\\Users\\ferna\\AppData\\Local\\Temp\\ipykernel_8092\\3952047339.py:6: VisibleDeprecationWarning: Creating an ndarray from ragged nested sequences (which is a list-or-tuple of lists-or-tuples-or ndarrays with different lengths or shapes) is deprecated. If you meant to do this, you must specify 'dtype=object' when creating the ndarray.\n",
      "  X_test_vect = np.array([np.array([w2v_model.wv[i] for i in ls if i in words])\n"
     ]
    }
   ],
   "source": [
    "import numpy as np\n",
    "\n",
    "words = set( w2v_model.wv.index_to_key )\n",
    "\n",
    "X_train_vect = np.array([np.array([w2v_model.wv[i] for i in ls if i in words])\n",
    "                         for ls in X_train])\n",
    "\n",
    "X_test_vect = np.array([np.array([w2v_model.wv[i] for i in ls if i in words])\n",
    "                         for ls in X_test])"
   ]
  },
  {
   "cell_type": "code",
   "execution_count": 41,
   "metadata": {},
   "outputs": [],
   "source": [
    "X_train_vect_avg = []\n",
    "for v in X_train_vect:\n",
    "    if v.size:\n",
    "        X_train_vect_avg.append(v.mean(axis=0))\n",
    "    else:\n",
    "        X_train_vect_avg.append(np.zeros(100, dtype=float))\n",
    "        \n",
    "X_test_vect_avg = []\n",
    "for v in X_test_vect:\n",
    "    if v.size:\n",
    "        X_test_vect_avg.append(v.mean(axis=0))\n",
    "    else:\n",
    "        X_test_vect_avg.append(np.zeros(100, dtype=float))"
   ]
  },
  {
   "cell_type": "code",
   "execution_count": 45,
   "metadata": {},
   "outputs": [],
   "source": [
    "from sklearn.ensemble import RandomForestClassifier\n",
    "rf = RandomForestClassifier()\n",
    "rf_model = rf.fit(X_train_vect_avg, y_train)"
   ]
  },
  {
   "cell_type": "code",
   "execution_count": 48,
   "metadata": {},
   "outputs": [],
   "source": [
    "y_pred_w2v = rf_model.predict(X_test_vect_avg)"
   ]
  },
  {
   "cell_type": "code",
   "execution_count": 78,
   "metadata": {},
   "outputs": [
    {
     "name": "stdout",
     "output_type": "stream",
     "text": [
      "Accuracy: 56.67%\n",
      "\n",
      "F1 Score: 54.68\n",
      "\n",
      "Confusion Matrix:\n",
      " [[ 0  0  3]\n",
      " [ 0  3  5]\n",
      " [ 2  3 14]]\n"
     ]
    }
   ],
   "source": [
    "print(\"Accuracy: {:.2f}%\".format(accuracy_score(y_test, y_pred_w2v) * 100))\n",
    "print(\"\\nF1 Score: {:.2f}\".format(f1_score(y_test, y_pred_w2v, average='weighted') * 100))\n",
    "print(\"\\nConfusion Matrix:\\n\", confusion_matrix(y_test, y_pred_w2v))"
   ]
  },
  {
   "cell_type": "markdown",
   "metadata": {},
   "source": [
    "### BERT"
   ]
  },
  {
   "cell_type": "code",
   "execution_count": 29,
   "metadata": {},
   "outputs": [
    {
     "name": "stderr",
     "output_type": "stream",
     "text": [
      "Some weights of BertForSequenceClassification were not initialized from the model checkpoint at bert-base-uncased and are newly initialized: ['classifier.bias', 'classifier.weight']\n",
      "You should probably TRAIN this model on a down-stream task to be able to use it for predictions and inference.\n"
     ]
    }
   ],
   "source": [
    "from transformers import BertTokenizer, BertForSequenceClassification\n",
    "\n",
    "model_name = \"bert-base-uncased\"\n",
    "model = BertForSequenceClassification.from_pretrained(model_name, num_labels=3)\n",
    "tokenizer = BertTokenizer.from_pretrained(model_name)"
   ]
  },
  {
   "cell_type": "code",
   "execution_count": 30,
   "metadata": {},
   "outputs": [],
   "source": [
    "# Tokenize and encode text\n",
    "encoded_data = tokenizer(X_train, padding='max_length', truncation=True, return_tensors='pt', max_length=128)\n",
    "\n",
    "input_ids = encoded_data['input_ids']\n",
    "attention_mask = encoded_data['attention_mask']"
   ]
  },
  {
   "cell_type": "code",
   "execution_count": 32,
   "metadata": {},
   "outputs": [],
   "source": [
    "with torch.no_grad():\n",
    "    outputs = model(input_ids, attention_mask=attention_mask)\n",
    "\n",
    "predictions = outputs.logits.argmax(dim=1).tolist()"
   ]
  },
  {
   "cell_type": "code",
   "execution_count": null,
   "metadata": {},
   "outputs": [],
   "source": [
    "results = {'Text': X_train, 'True Label': y_train, 'Predicted Label': predictions}\n",
    "results_df = pd.DataFrame(results)\n",
    "\n",
    "output_file = \"predictions.xlsx\"\n",
    "results_df.to_excel(output_file, index=False)"
   ]
  },
  {
   "cell_type": "code",
   "execution_count": null,
   "metadata": {},
   "outputs": [],
   "source": [
    "word_counts = {}\n",
    "\n",
    "for sentence in data[data['Category'].isin(['Positive'])]['Text'].to_list():\n",
    "    words = sentence.split()\n",
    "    \n",
    "    for word in words:\n",
    "        word = word.strip(\".,!?()\").lower()\n",
    "        \n",
    "        if word in word_counts:\n",
    "            word_counts[word] += 1\n",
    "        else:\n",
    "            word_counts[word] = 1"
   ]
  },
  {
   "cell_type": "code",
   "execution_count": null,
   "metadata": {},
   "outputs": [],
   "source": [
    "dict(sorted(word_counts.items(), key=lambda x: x[1], reverse=True))"
   ]
  }
 ],
 "metadata": {
  "kernelspec": {
   "display_name": "base",
   "language": "python",
   "name": "python3"
  },
  "language_info": {
   "codemirror_mode": {
    "name": "ipython",
    "version": 3
   },
   "file_extension": ".py",
   "mimetype": "text/x-python",
   "name": "python",
   "nbconvert_exporter": "python",
   "pygments_lexer": "ipython3",
   "version": "3.9.13"
  },
  "orig_nbformat": 4
 },
 "nbformat": 4,
 "nbformat_minor": 2
}
