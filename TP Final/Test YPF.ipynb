{
 "cells": [
  {
   "cell_type": "code",
   "execution_count": 17,
   "metadata": {},
   "outputs": [],
   "source": [
    "import pandas as pd\n",
    "import pprint\n",
    "from sklearn.feature_extraction.text import CountVectorizer\n",
    "from sklearn.feature_extraction.text import TfidfTransformer\n",
    "from sklearn.naive_bayes import MultinomialNB\n",
    "from sklearn.pipeline import Pipeline"
   ]
  },
  {
   "cell_type": "code",
   "execution_count": 83,
   "metadata": {},
   "outputs": [],
   "source": [
    "data = pd.read_excel('C:/Users/ferna/Downloads/ypf.xlsx', sheet_name='joha')"
   ]
  },
  {
   "cell_type": "code",
   "execution_count": 84,
   "metadata": {},
   "outputs": [
    {
     "data": {
      "text/html": [
       "<div>\n",
       "<style scoped>\n",
       "    .dataframe tbody tr th:only-of-type {\n",
       "        vertical-align: middle;\n",
       "    }\n",
       "\n",
       "    .dataframe tbody tr th {\n",
       "        vertical-align: top;\n",
       "    }\n",
       "\n",
       "    .dataframe thead th {\n",
       "        text-align: right;\n",
       "    }\n",
       "</style>\n",
       "<table border=\"1\" class=\"dataframe\">\n",
       "  <thead>\n",
       "    <tr style=\"text-align: right;\">\n",
       "      <th></th>\n",
       "      <th>Noticia</th>\n",
       "      <th>Date</th>\n",
       "      <th>Calificacion</th>\n",
       "      <th>Observaciones</th>\n",
       "      <th>Página</th>\n",
       "    </tr>\n",
       "  </thead>\n",
       "  <tbody>\n",
       "    <tr>\n",
       "      <th>0</th>\n",
       "      <td>Summary. The company has strong fundamentals. ...</td>\n",
       "      <td>2023-08-03 00:00:00</td>\n",
       "      <td>Positive</td>\n",
       "      <td>Solo tomar la primera parte del Summary</td>\n",
       "      <td>https://www.marketscreener.com/quote/stock/YPF...</td>\n",
       "    </tr>\n",
       "    <tr>\n",
       "      <th>1</th>\n",
       "      <td>Argentina Fixes Oil at $56 a Barrel to Put Lid...</td>\n",
       "      <td>2023-08-18 00:00:00</td>\n",
       "      <td>Negative</td>\n",
       "      <td>NaN</td>\n",
       "      <td>https://www.bloomberg.com/search?query=YPF</td>\n",
       "    </tr>\n",
       "    <tr>\n",
       "      <th>2</th>\n",
       "      <td>Presidential Front-Runner Would Unshackle Arge...</td>\n",
       "      <td>2023-08-17 00:00:00</td>\n",
       "      <td>Neutral</td>\n",
       "      <td>NaN</td>\n",
       "      <td>https://www.bloomberg.com/search?query=YPF</td>\n",
       "    </tr>\n",
       "    <tr>\n",
       "      <th>3</th>\n",
       "      <td>Free Marketeer Leading Election Would Rock Arg...</td>\n",
       "      <td>2023-08-14 00:00:00</td>\n",
       "      <td>Neutral</td>\n",
       "      <td>NaN</td>\n",
       "      <td>https://www.bloomberg.com/search?query=YPF</td>\n",
       "    </tr>\n",
       "    <tr>\n",
       "      <th>4</th>\n",
       "      <td>Argentine Election Won’t Derail Shale Growth, ...</td>\n",
       "      <td>2023-08-11 00:00:00</td>\n",
       "      <td>Positive</td>\n",
       "      <td></td>\n",
       "      <td>https://www.bloomberg.com/search?query=YPF</td>\n",
       "    </tr>\n",
       "    <tr>\n",
       "      <th>...</th>\n",
       "      <td>...</td>\n",
       "      <td>...</td>\n",
       "      <td>...</td>\n",
       "      <td>...</td>\n",
       "      <td>...</td>\n",
       "    </tr>\n",
       "    <tr>\n",
       "      <th>84</th>\n",
       "      <td>\\nBest Value Stocks to Buy for February 3rd\\n...</td>\n",
       "      <td>2023-02-03 00:00:00</td>\n",
       "      <td>Positive</td>\n",
       "      <td></td>\n",
       "      <td>https://www.zacks.com/stock/research/YPF/all-n...</td>\n",
       "    </tr>\n",
       "    <tr>\n",
       "      <th>85</th>\n",
       "      <td>\\nYPF Sociedad Anonima (YPF) Stock Sinks As M...</td>\n",
       "      <td>2023-02-01 00:00:00</td>\n",
       "      <td>Negative</td>\n",
       "      <td></td>\n",
       "      <td>https://www.zacks.com/stock/research/YPF/all-n...</td>\n",
       "    </tr>\n",
       "    <tr>\n",
       "      <th>86</th>\n",
       "      <td>\\nYPF Sociedad Anonima (YPF) Gains But Lags M...</td>\n",
       "      <td>2023-01-23 00:00:00</td>\n",
       "      <td>Positive</td>\n",
       "      <td></td>\n",
       "      <td>https://www.zacks.com/stock/research/YPF/all-n...</td>\n",
       "    </tr>\n",
       "    <tr>\n",
       "      <th>87</th>\n",
       "      <td>\\nYPF Sociedad Anonima (YPF) Moves 7.1% Highe...</td>\n",
       "      <td>2023-01-16 00:00:00</td>\n",
       "      <td>Positive</td>\n",
       "      <td>NaN</td>\n",
       "      <td>https://www.zacks.com/stock/research/YPF/all-n...</td>\n",
       "    </tr>\n",
       "    <tr>\n",
       "      <th>88</th>\n",
       "      <td>\\nYPF Sociedad Anonima (YPF) Gains But Lags M...</td>\n",
       "      <td>2023-01-06 00:00:00</td>\n",
       "      <td>Positive</td>\n",
       "      <td></td>\n",
       "      <td>https://www.zacks.com/stock/research/YPF/all-n...</td>\n",
       "    </tr>\n",
       "  </tbody>\n",
       "</table>\n",
       "<p>89 rows × 5 columns</p>\n",
       "</div>"
      ],
      "text/plain": [
       "                                              Noticia                 Date  \\\n",
       "0   Summary. The company has strong fundamentals. ...  2023-08-03 00:00:00   \n",
       "1   Argentina Fixes Oil at $56 a Barrel to Put Lid...  2023-08-18 00:00:00   \n",
       "2   Presidential Front-Runner Would Unshackle Arge...  2023-08-17 00:00:00   \n",
       "3   Free Marketeer Leading Election Would Rock Arg...  2023-08-14 00:00:00   \n",
       "4   Argentine Election Won’t Derail Shale Growth, ...  2023-08-11 00:00:00   \n",
       "..                                                ...                  ...   \n",
       "84   \\nBest Value Stocks to Buy for February 3rd\\n...  2023-02-03 00:00:00   \n",
       "85   \\nYPF Sociedad Anonima (YPF) Stock Sinks As M...  2023-02-01 00:00:00   \n",
       "86   \\nYPF Sociedad Anonima (YPF) Gains But Lags M...  2023-01-23 00:00:00   \n",
       "87   \\nYPF Sociedad Anonima (YPF) Moves 7.1% Highe...  2023-01-16 00:00:00   \n",
       "88   \\nYPF Sociedad Anonima (YPF) Gains But Lags M...  2023-01-06 00:00:00   \n",
       "\n",
       "   Calificacion                            Observaciones  \\\n",
       "0      Positive  Solo tomar la primera parte del Summary   \n",
       "1      Negative                                      NaN   \n",
       "2       Neutral                                      NaN   \n",
       "3       Neutral                                      NaN   \n",
       "4      Positive                                            \n",
       "..          ...                                      ...   \n",
       "84     Positive                                            \n",
       "85     Negative                                            \n",
       "86     Positive                                            \n",
       "87     Positive                                      NaN   \n",
       "88     Positive                                            \n",
       "\n",
       "                                               Página  \n",
       "0   https://www.marketscreener.com/quote/stock/YPF...  \n",
       "1          https://www.bloomberg.com/search?query=YPF  \n",
       "2          https://www.bloomberg.com/search?query=YPF  \n",
       "3          https://www.bloomberg.com/search?query=YPF  \n",
       "4          https://www.bloomberg.com/search?query=YPF  \n",
       "..                                                ...  \n",
       "84  https://www.zacks.com/stock/research/YPF/all-n...  \n",
       "85  https://www.zacks.com/stock/research/YPF/all-n...  \n",
       "86  https://www.zacks.com/stock/research/YPF/all-n...  \n",
       "87  https://www.zacks.com/stock/research/YPF/all-n...  \n",
       "88  https://www.zacks.com/stock/research/YPF/all-n...  \n",
       "\n",
       "[89 rows x 5 columns]"
      ]
     },
     "execution_count": 84,
     "metadata": {},
     "output_type": "execute_result"
    }
   ],
   "source": [
    "data"
   ]
  },
  {
   "cell_type": "code",
   "execution_count": 95,
   "metadata": {},
   "outputs": [],
   "source": [
    "filtered_data = data[data['Calificacion'].isin(['Positive', 'Negative'])]"
   ]
  },
  {
   "cell_type": "code",
   "execution_count": 96,
   "metadata": {},
   "outputs": [
    {
     "name": "stderr",
     "output_type": "stream",
     "text": [
      "C:\\Users\\ferna\\AppData\\Local\\Temp\\ipykernel_9620\\1221523640.py:2: SettingWithCopyWarning: \n",
      "A value is trying to be set on a copy of a slice from a DataFrame.\n",
      "Try using .loc[row_indexer,col_indexer] = value instead\n",
      "\n",
      "See the caveats in the documentation: https://pandas.pydata.org/pandas-docs/stable/user_guide/indexing.html#returning-a-view-versus-a-copy\n",
      "  filtered_data['Calificacion'] = filtered_data['Calificacion'].map(label_mapping)\n"
     ]
    }
   ],
   "source": [
    "label_mapping = {'Positive': 0, 'Negative': 1}\n",
    "filtered_data['Calificacion'] = filtered_data['Calificacion'].map(label_mapping)"
   ]
  },
  {
   "cell_type": "code",
   "execution_count": 97,
   "metadata": {},
   "outputs": [],
   "source": [
    "entrenamiento = filtered_data['Noticia'].tolist()"
   ]
  },
  {
   "cell_type": "code",
   "execution_count": 98,
   "metadata": {},
   "outputs": [],
   "source": [
    "sentimiento = filtered_data['Calificacion'].tolist()"
   ]
  },
  {
   "cell_type": "code",
   "execution_count": 134,
   "metadata": {},
   "outputs": [],
   "source": [
    "noticia_prueba = [\"YPF, Repsol settle Passaic River contamination lawsuit for $575M\"]"
   ]
  },
  {
   "cell_type": "code",
   "execution_count": 100,
   "metadata": {},
   "outputs": [],
   "source": [
    "text_clf = Pipeline([('vect' , CountVectorizer()), \n",
    "                     ('tfidf', TfidfTransformer()), \n",
    "                     ('clf'  , MultinomialNB())\n",
    "                    ])"
   ]
  },
  {
   "cell_type": "code",
   "execution_count": 101,
   "metadata": {},
   "outputs": [],
   "source": [
    "text_clf = text_clf.fit(entrenamiento, sentimiento)"
   ]
  },
  {
   "cell_type": "code",
   "execution_count": 135,
   "metadata": {},
   "outputs": [],
   "source": [
    "predicted = text_clf.predict(noticia_prueba)"
   ]
  },
  {
   "cell_type": "code",
   "execution_count": 136,
   "metadata": {},
   "outputs": [
    {
     "data": {
      "text/plain": [
       "array([0])"
      ]
     },
     "execution_count": 136,
     "metadata": {},
     "output_type": "execute_result"
    }
   ],
   "source": [
    "predicted"
   ]
  },
  {
   "cell_type": "code",
   "execution_count": 137,
   "metadata": {},
   "outputs": [
    {
     "name": "stdout",
     "output_type": "stream",
     "text": [
      "'Positiva'\n"
     ]
    }
   ],
   "source": [
    "pprint.pprint('Positiva' if predicted[0] == 0 else 'Negative')"
   ]
  }
 ],
 "metadata": {
  "kernelspec": {
   "display_name": "base",
   "language": "python",
   "name": "python3"
  },
  "language_info": {
   "codemirror_mode": {
    "name": "ipython",
    "version": 3
   },
   "file_extension": ".py",
   "mimetype": "text/x-python",
   "name": "python",
   "nbconvert_exporter": "python",
   "pygments_lexer": "ipython3",
   "version": "3.9.13"
  },
  "orig_nbformat": 4
 },
 "nbformat": 4,
 "nbformat_minor": 2
}
